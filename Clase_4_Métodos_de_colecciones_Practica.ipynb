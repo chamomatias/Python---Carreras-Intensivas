{
  "nbformat": 4,
  "nbformat_minor": 0,
  "metadata": {
    "colab": {
      "provenance": [],
      "include_colab_link": true
    },
    "kernelspec": {
      "name": "python3",
      "display_name": "Python 3"
    },
    "language_info": {
      "name": "python"
    }
  },
  "cells": [
    {
      "cell_type": "markdown",
      "metadata": {
        "id": "view-in-github",
        "colab_type": "text"
      },
      "source": [
        "<a href=\"https://colab.research.google.com/github/chamomatias/Python---Carreras-Intensivas/blob/main/Clase_4_M%C3%A9todos_de_colecciones_Practica.ipynb\" target=\"_parent\"><img src=\"https://colab.research.google.com/assets/colab-badge.svg\" alt=\"Open In Colab\"/></a>"
      ]
    },
    {
      "cell_type": "markdown",
      "source": [
        "# Métodos de Cadenas (string)"
      ],
      "metadata": {
        "id": "rGBQxMq6klE0"
      }
    },
    {
      "cell_type": "code",
      "source": [
        "# Convertir un texto a mayúsculas usando el método upper() en Python\n",
        "# Texto original\n",
        "texto = \"Programando en Python, estás construyendo puentes hacia el futuro con cada línea de código que escribes!\"\n",
        "\n",
        "# Convertir el texto a mayúsculas\n",
        "nuevo_texto = texto.upper()\n",
        "\n",
        "# Mostrar el texto original\n",
        "print(\"Texto original:\")\n",
        "print(texto)\n",
        "\n",
        "# Mostrar el texto convertido a mayúsculas\n",
        "print(\"\\nTexto en mayúsculas:\")\n",
        "print(nuevo_texto)\n"
      ],
      "metadata": {
        "id": "p8po-VhYmR69",
        "colab": {
          "base_uri": "https://localhost:8080/"
        },
        "outputId": "68ca8422-a559-48b6-c72f-2d1d1226cdfb"
      },
      "execution_count": 1,
      "outputs": [
        {
          "output_type": "stream",
          "name": "stdout",
          "text": [
            "Texto original:\n",
            "Programando en Python, estás construyendo puentes hacia el futuro con cada línea de código que escribes!\n",
            "\n",
            "Texto en mayúsculas:\n",
            "PROGRAMANDO EN PYTHON, ESTÁS CONSTRUYENDO PUENTES HACIA EL FUTURO CON CADA LÍNEA DE CÓDIGO QUE ESCRIBES!\n"
          ]
        }
      ]
    },
    {
      "cell_type": "code",
      "source": [
        "# Convertir un texto a minúsculas usando el método lower() en Python\n",
        "\n",
        "# Texto original\n",
        "texto = \"Programando en Python, estás construyendo puentes hacia el futuro con cada línea de código que escribes!\"\n",
        "\n",
        "# Convertir el texto a minúsculas\n",
        "nuevo_texto = texto.lower()\n",
        "\n",
        "# Mostrar el texto original\n",
        "print(\"Texto original:\")\n",
        "print(texto)\n",
        "\n",
        "# Mostrar el texto convertido a minúsculas\n",
        "print(\"\\nTexto en minúsculas:\")\n",
        "print(nuevo_texto)\n"
      ],
      "metadata": {
        "id": "N1abbkulmlJY",
        "colab": {
          "base_uri": "https://localhost:8080/"
        },
        "outputId": "96a43dfd-3e58-4ee7-8b07-7a2bf47e3079"
      },
      "execution_count": 2,
      "outputs": [
        {
          "output_type": "stream",
          "name": "stdout",
          "text": [
            "Texto original:\n",
            "Programando en Python, estás construyendo puentes hacia el futuro con cada línea de código que escribes!\n",
            "\n",
            "Texto en minúsculas:\n",
            "programando en python, estás construyendo puentes hacia el futuro con cada línea de código que escribes!\n"
          ]
        }
      ]
    },
    {
      "cell_type": "code",
      "source": [
        "# Convertir un texto a formato \"capitalize\" usando el método capitalize() en Python\n",
        "\n",
        "# Texto original\n",
        "texto = \"Programando en Python.\\nEstás construyendo puentes hacia el futuro con cada línea de código que escribes!\"\n",
        "\n",
        "# Convertir el texto al formato \"capitalize\" (solo el primer carácter en mayúscula)\n",
        "nuevo_texto = texto.capitalize()\n",
        "\n",
        "# Mostrar el texto original\n",
        "print(\"Texto original:\")\n",
        "print(texto)\n",
        "\n",
        "# Mostrar el texto convertido al formato \"capitalize\"\n",
        "print(\"\\nTexto con capitalize:\")\n",
        "print(nuevo_texto)\n"
      ],
      "metadata": {
        "id": "j7RqdIRrmtyf",
        "colab": {
          "base_uri": "https://localhost:8080/"
        },
        "outputId": "44dc03ef-198f-44d6-fa16-f806a6b8e60b"
      },
      "execution_count": 3,
      "outputs": [
        {
          "output_type": "stream",
          "name": "stdout",
          "text": [
            "Texto original:\n",
            "Programando en Python.\n",
            "Estás construyendo puentes hacia el futuro con cada línea de código que escribes!\n",
            "\n",
            "Texto con capitalize:\n",
            "Programando en python.\n",
            "estás construyendo puentes hacia el futuro con cada línea de código que escribes!\n"
          ]
        }
      ]
    },
    {
      "cell_type": "code",
      "source": [
        "# Convertir un texto a formato \"título\" usando el método title() en Python\n",
        "\n",
        "# Texto original\n",
        "texto = \"Programando en Python, estás construyendo puentes hacia el futuro con cada línea de código que escribes!\"\n",
        "\n",
        "# Convertir el texto al formato \"título\" (primera letra de cada palabra en mayúscula)\n",
        "nuevo_texto = texto.title()\n",
        "\n",
        "# Mostrar el texto original\n",
        "print(\"Texto original:\")\n",
        "print(texto)\n",
        "\n",
        "# Mostrar el texto convertido al formato \"título\"\n",
        "print(\"\\nTexto en formato título:\")\n",
        "print(nuevo_texto)\n"
      ],
      "metadata": {
        "id": "tQyjpgpVnHG9",
        "colab": {
          "base_uri": "https://localhost:8080/"
        },
        "outputId": "ac17dd08-bc78-401d-8722-413a42cf114e"
      },
      "execution_count": 4,
      "outputs": [
        {
          "output_type": "stream",
          "name": "stdout",
          "text": [
            "Texto original:\n",
            "Programando en Python, estás construyendo puentes hacia el futuro con cada línea de código que escribes!\n",
            "\n",
            "Texto en formato título:\n",
            "Programando En Python, Estás Construyendo Puentes Hacia El Futuro Con Cada Línea De Código Que Escribes!\n"
          ]
        }
      ]
    },
    {
      "cell_type": "code",
      "source": [
        "# Contar las ocurrencias de una subcadena en un texto usando el método count() en Python\n",
        "\n",
        "# Texto original\n",
        "texto = \"Programando en Python, estás construyendo puentes hacia el futuro con cada línea de código que escribes!\"\n",
        "\n",
        "# Contar cuántas veces aparece la subcadena \"con\" en el texto\n",
        "cant_con = texto.count(\"con\")\n",
        "\n",
        "# Mostrar el resultado\n",
        "print(f\"La subcadena 'con' aparece {cant_con} veces en el texto.\")\n"
      ],
      "metadata": {
        "id": "qlp7_dtInNgF",
        "colab": {
          "base_uri": "https://localhost:8080/"
        },
        "outputId": "7092baf4-3176-44f4-84e4-d4c53668cfaf"
      },
      "execution_count": 5,
      "outputs": [
        {
          "output_type": "stream",
          "name": "stdout",
          "text": [
            "La subcadena 'con' aparece 2 veces en el texto.\n"
          ]
        }
      ]
    },
    {
      "cell_type": "code",
      "source": [
        "# Encontrar la posición de una subcadena en un texto usando el método find() en Python\n",
        "\n",
        "# Texto original\n",
        "texto = \"Programando en Python, estás construyendo puentes hacia el futuro con cada línea de código que escribes!\"\n",
        "\n",
        "# Buscar la posición de la primera aparición de la subcadena \"con\"\n",
        "index_con = texto.find(\"con\")\n",
        "\n",
        "# Mostrar el resultado\n",
        "if index_con != -1:\n",
        "    print(f\"La subcadena 'con' se encuentra por primera vez en la posición {index_con}.\")\n",
        "else:\n",
        "    print(\"La subcadena 'con' no se encontró en el texto.\")\n"
      ],
      "metadata": {
        "id": "MWuwqxCbngmv",
        "colab": {
          "base_uri": "https://localhost:8080/"
        },
        "outputId": "9632f024-8a8d-4a63-ec82-0c8f3cf7575e"
      },
      "execution_count": 6,
      "outputs": [
        {
          "output_type": "stream",
          "name": "stdout",
          "text": [
            "La subcadena 'con' se encuentra por primera vez en la posición 29.\n"
          ]
        }
      ]
    },
    {
      "cell_type": "code",
      "source": [
        "# Encontrar la posición de la última aparición de una subcadena usando rfind() en Python\n",
        "\n",
        "# Texto original\n",
        "texto = \"Programando en Python, estás construyendo puentes hacia el futuro con cada línea de código que escribes!\"\n",
        "\n",
        "# Buscar la posición de la última aparición de la subcadena \"con\"\n",
        "index_con = texto.rfind(\"con\")\n",
        "\n",
        "# Mostrar el resultado\n",
        "if index_con != -1:\n",
        "    print(f\"La subcadena 'con' aparece por última vez en la posición {index_con}.\")\n",
        "else:\n",
        "    print(\"La subcadena 'con' no se encontró en el texto.\")\n"
      ],
      "metadata": {
        "id": "OcrTdUH9nZEf",
        "colab": {
          "base_uri": "https://localhost:8080/"
        },
        "outputId": "c30db2df-86ba-481f-c52f-1c74d15d9fa0"
      },
      "execution_count": 7,
      "outputs": [
        {
          "output_type": "stream",
          "name": "stdout",
          "text": [
            "La subcadena 'con' aparece por última vez en la posición 66.\n"
          ]
        }
      ]
    },
    {
      "cell_type": "code",
      "source": [
        "# Dividir un string en una lista de palabras usando el método split()\n",
        "\n",
        "# Texto original\n",
        "texto = \"Programando en Python, estás construyendo puentes hacia el futuro con cada línea de código que escribes!\"\n",
        "\n",
        "# Mostrar el texto original\n",
        "print(\"Texto original:\")\n",
        "print(texto)\n",
        "\n",
        "# Dividir el texto en palabras utilizando el espacio como separador por defecto\n",
        "lista_palabras = texto.split()\n",
        "\n",
        "# Mostrar la lista de palabras generada\n",
        "print(\"\\nLista de palabras:\")\n",
        "print(lista_palabras)\n"
      ],
      "metadata": {
        "id": "eae4BKs0n1Nw",
        "colab": {
          "base_uri": "https://localhost:8080/"
        },
        "outputId": "037b218b-1b6b-4829-9386-c2defb889e0d"
      },
      "execution_count": 8,
      "outputs": [
        {
          "output_type": "stream",
          "name": "stdout",
          "text": [
            "Texto original:\n",
            "Programando en Python, estás construyendo puentes hacia el futuro con cada línea de código que escribes!\n",
            "\n",
            "Lista de palabras:\n",
            "['Programando', 'en', 'Python,', 'estás', 'construyendo', 'puentes', 'hacia', 'el', 'futuro', 'con', 'cada', 'línea', 'de', 'código', 'que', 'escribes!']\n"
          ]
        }
      ]
    },
    {
      "cell_type": "code",
      "source": [
        "# Dividir un string en una lista de elementos utilizando '*' como delimitador con el método split()\n",
        "\n",
        "# Texto original con un delimitador específico (asterisco)\n",
        "texto = \"Programando en Python,* estás construyendo puentes hacia el futuro con cada línea de código que escribes!\"\n",
        "print(\"Texto original:\")\n",
        "print(texto)\n",
        "\n",
        "# Dividir el texto en partes utilizando '*' como delimitador\n",
        "lista_palabras = texto.split(\"*\")\n",
        "\n",
        "# Mostrar la lista de elementos generada\n",
        "print(\"\\nLista de elementos (dividida por '*'):\")\n",
        "print(lista_palabras)\n"
      ],
      "metadata": {
        "id": "9R1LVenAeOvz",
        "colab": {
          "base_uri": "https://localhost:8080/"
        },
        "outputId": "e5811010-41ff-4afe-8edc-6ae47c5c3681"
      },
      "execution_count": 10,
      "outputs": [
        {
          "output_type": "stream",
          "name": "stdout",
          "text": [
            "Texto original:\n",
            "Programando en Python,* estás construyendo puentes hacia el futuro con cada línea de código que escribes!\n",
            "\n",
            "Lista de elementos (dividida por '*'):\n",
            "['Programando en Python,', ' estás construyendo puentes hacia el futuro con cada línea de código que escribes!']\n"
          ]
        }
      ]
    },
    {
      "cell_type": "code",
      "source": [
        "# Unir los elementos de una lista en un string con un delimitador personalizado (en este caso, un espacio)\n",
        "\n",
        "# Lista de palabras\n",
        "lista_palabras = ['Programando', 'en', 'Python,', 'estás', 'construyendo', 'puentes', 'hacia', 'el', 'futuro', 'con', 'cada', 'línea', 'de', 'código', 'que', 'escribes!']\n",
        "\n",
        "# Unir los elementos de la lista con un espacio entre ellos\n",
        "lista_palabras = \" \".join(lista_palabras)\n",
        "\n",
        "# Imprimir el string resultante\n",
        "print(lista_palabras)\n",
        "\n",
        "# Otro ejemplo: Unir un nombre y apellido con una coma y un espacio\n",
        "nombre_apellido = [\"Van Rossum\", \"Guido\"]\n",
        "\n",
        "# Unir los elementos de la lista con una coma y un espacio\n",
        "nombre_unido = \", \".join(nombre_apellido)\n",
        "\n",
        "# Imprimir el resultado\n",
        "print(nombre_unido)\n"
      ],
      "metadata": {
        "id": "q5NvqfeyobQg",
        "colab": {
          "base_uri": "https://localhost:8080/"
        },
        "outputId": "3d4197ec-0582-4fa3-b632-24f100e452e2"
      },
      "execution_count": 11,
      "outputs": [
        {
          "output_type": "stream",
          "name": "stdout",
          "text": [
            "Programando en Python, estás construyendo puentes hacia el futuro con cada línea de código que escribes!\n",
            "Van Rossum, Guido\n"
          ]
        }
      ]
    },
    {
      "cell_type": "code",
      "source": [
        "# Lista con los componentes de una fecha (día, mes, año)\n",
        "fecha = [\"8\", \"10\", \"2024\"]\n",
        "\n",
        "# Unir los elementos de la lista con una barra '/' entre ellos\n",
        "fecha = \"/\".join(fecha)\n",
        "\n",
        "# Imprimir la fecha resultante\n",
        "print(fecha)\n"
      ],
      "metadata": {
        "colab": {
          "base_uri": "https://localhost:8080/"
        },
        "id": "TBYcxxVlI_qq",
        "outputId": "45b451d7-6073-436b-cdde-178dd4a1f21e"
      },
      "execution_count": 12,
      "outputs": [
        {
          "output_type": "stream",
          "name": "stdout",
          "text": [
            "8/10/2024\n"
          ]
        }
      ]
    },
    {
      "cell_type": "code",
      "source": [
        "# String original con espacios vacíos al principio y al final\n",
        "texto = \"        Esto es un string con muchos espacios vacíos            \"\n",
        "print(\"Texto original:\")\n",
        "print(texto)\n",
        "\n",
        "# Usar el método strip() para eliminar los espacios en blanco de ambos extremos\n",
        "texto_editado = texto.strip()\n",
        "\n",
        "# Imprimir el string editado después de eliminar los espacios\n",
        "print(\"\\nTexto después de strip():\")\n",
        "print(texto_editado)\n"
      ],
      "metadata": {
        "id": "W3ncQCcrpn4J",
        "colab": {
          "base_uri": "https://localhost:8080/"
        },
        "outputId": "d5398713-89e7-435f-8f5a-19dc41f94863"
      },
      "execution_count": 13,
      "outputs": [
        {
          "output_type": "stream",
          "name": "stdout",
          "text": [
            "Texto original:\n",
            "        Esto es un string con muchos espacios vacíos            \n",
            "\n",
            "Texto después de strip():\n",
            "Esto es un string con muchos espacios vacíos\n"
          ]
        }
      ]
    },
    {
      "cell_type": "code",
      "source": [
        "# String original con asteriscos al final\n",
        "texto = \"Esto es un string con muchos asteriscos *****************\"\n",
        "print(\"Texto original:\")\n",
        "print(texto)\n",
        "\n",
        "# Eliminar los asteriscos (*) de los extremos del texto\n",
        "texto_editado = texto.strip(\"*\")\n",
        "\n",
        "# Luego eliminar las palabras \"Esto\" de los extremos\n",
        "texto_editado = texto_editado.strip(\"Esto\")\n",
        "\n",
        "# Imprimir el texto después de las modificaciones\n",
        "print(\"\\nTexto después de strip():\")\n",
        "print(texto_editado)\n"
      ],
      "metadata": {
        "id": "7j_fkZZT9jDd",
        "colab": {
          "base_uri": "https://localhost:8080/"
        },
        "outputId": "c6c3d1b9-30dd-4739-a9f4-fe3f89b47010"
      },
      "execution_count": 14,
      "outputs": [
        {
          "output_type": "stream",
          "name": "stdout",
          "text": [
            "Texto original:\n",
            "Esto es un string con muchos asteriscos *****************\n",
            "\n",
            "Texto después de strip():\n",
            " es un string con muchos asteriscos \n"
          ]
        }
      ]
    },
    {
      "cell_type": "code",
      "source": [
        "# String original con un error tipográfico en \"Pyhton\"\n",
        "texto = \"Programando en Pyhton, estás construyendo puentes hacia el futuro con cada línea de código que escribes!\"\n",
        "print(\"Texto original:\")\n",
        "print(texto)\n",
        "\n",
        "# Reemplazar la subcadena \"Pyhton\" por \"Python\"\n",
        "texto_reparado = texto.replace(\"Pyhton\", \"Python\")\n",
        "\n",
        "# Imprimir el texto después del reemplazo\n",
        "print(\"\\nTexto reparado:\")\n",
        "print(texto_reparado)\n"
      ],
      "metadata": {
        "id": "FbLPM0MwqMBh",
        "colab": {
          "base_uri": "https://localhost:8080/"
        },
        "outputId": "1d63f861-e223-4b95-de44-ab426bc7309d"
      },
      "execution_count": 15,
      "outputs": [
        {
          "output_type": "stream",
          "name": "stdout",
          "text": [
            "Texto original:\n",
            "Programando en Pyhton, estás construyendo puentes hacia el futuro con cada línea de código que escribes!\n",
            "\n",
            "Texto reparado:\n",
            "Programando en Python, estás construyendo puentes hacia el futuro con cada línea de código que escribes!\n"
          ]
        }
      ]
    },
    {
      "cell_type": "code",
      "source": [
        "# String original\n",
        "texto = \"Programando en Python, estás construyendo puentes hacia el futuro con cada línea de código que escribes!\"\n",
        "print(\"Texto original:\")\n",
        "print(texto)\n",
        "\n",
        "# Encontrar el índice de la primera ocurrencia de la subcadena \"Python\"\n",
        "idx = texto.index(\"Python\")\n",
        "\n",
        "# Imprimir el índice donde se encuentra \"Python\"\n",
        "print(\"\\nÍndice de 'Python':\")\n",
        "print(idx)\n"
      ],
      "metadata": {
        "colab": {
          "base_uri": "https://localhost:8080/"
        },
        "id": "FkG6UYz0LWRi",
        "outputId": "857e0700-94bf-4ed9-b9eb-5e249c311b88"
      },
      "execution_count": 16,
      "outputs": [
        {
          "output_type": "stream",
          "name": "stdout",
          "text": [
            "Texto original:\n",
            "Programando en Python, estás construyendo puentes hacia el futuro con cada línea de código que escribes!\n",
            "\n",
            "Índice de 'Python':\n",
            "15\n"
          ]
        }
      ]
    },
    {
      "cell_type": "markdown",
      "source": [
        "# Métodos de Listas"
      ],
      "metadata": {
        "id": "SDVkZvHqsC35"
      }
    },
    {
      "cell_type": "code",
      "source": [
        "# Definir una lista de números\n",
        "numeros = [1, 2, 3, 4, 5, 6, 7, 8, 9, 10]\n",
        "\n",
        "# Imprimir la lista\n",
        "print(numeros)\n"
      ],
      "metadata": {
        "id": "CZ5qBqiTq5rJ",
        "colab": {
          "base_uri": "https://localhost:8080/"
        },
        "outputId": "c08fd578-2eb1-4ca3-dfcd-f69157178b58"
      },
      "execution_count": 17,
      "outputs": [
        {
          "output_type": "stream",
          "name": "stdout",
          "text": [
            "[1, 2, 3, 4, 5, 6, 7, 8, 9, 10]\n"
          ]
        }
      ]
    },
    {
      "cell_type": "code",
      "source": [
        "# Definir una lista de números\n",
        "numeros = [1, 2, 3, 4, 5, 6, 7, 8, 9, 10]\n",
        "\n",
        "# Usar el método clear() para vaciar la lista\n",
        "numeros.clear()\n",
        "\n",
        "# Imprimir la lista vacía\n",
        "print(numeros)\n"
      ],
      "metadata": {
        "id": "c873Z0R3tG13",
        "colab": {
          "base_uri": "https://localhost:8080/"
        },
        "outputId": "0dc18cfd-5831-4e9c-a2b3-53abb68e58ba"
      },
      "execution_count": 18,
      "outputs": [
        {
          "output_type": "stream",
          "name": "stdout",
          "text": [
            "[]\n"
          ]
        }
      ]
    },
    {
      "cell_type": "code",
      "source": [
        "# Lista original\n",
        "numeros = [1, 2, 3, 4, 5, 6, 7, 8, 9, 10]\n",
        "\n",
        "# Otra lista para agregar\n",
        "mas_numeros = [11, 12, 13, 14, 15]\n",
        "\n",
        "# Usar el método extend() para concatenar las listas\n",
        "numeros.extend(mas_numeros)\n",
        "\n",
        "# Imprimir la lista concatenada\n",
        "print(numeros)\n"
      ],
      "metadata": {
        "id": "RqLNgSL-tOjq",
        "colab": {
          "base_uri": "https://localhost:8080/"
        },
        "outputId": "31dbb180-3500-4ed0-88ed-5237ad4322f4"
      },
      "execution_count": 19,
      "outputs": [
        {
          "output_type": "stream",
          "name": "stdout",
          "text": [
            "[1, 2, 3, 4, 5, 6, 7, 8, 9, 10, 11, 12, 13, 14, 15]\n"
          ]
        }
      ]
    },
    {
      "cell_type": "code",
      "source": [
        "# Lista original\n",
        "numeros = [1, 2, 3, 4, 5, 6, 7, 8, 9, 10]\n",
        "\n",
        "# Otra lista para agregar\n",
        "muchos_mas_numeros = [16, 17, 18, 19, 20]\n",
        "\n",
        "# Sumar las dos listas\n",
        "numeros = numeros + muchos_mas_numeros\n",
        "\n",
        "# Imprimir la lista concatenada\n",
        "print(numeros)\n"
      ],
      "metadata": {
        "id": "OGtgqAkitgUi",
        "colab": {
          "base_uri": "https://localhost:8080/"
        },
        "outputId": "02ca79d6-3caf-40a4-9bdd-bc066f644a19"
      },
      "execution_count": 20,
      "outputs": [
        {
          "output_type": "stream",
          "name": "stdout",
          "text": [
            "[1, 2, 3, 4, 5, 6, 7, 8, 9, 10, 16, 17, 18, 19, 20]\n"
          ]
        }
      ]
    },
    {
      "cell_type": "code",
      "source": [
        "# Lista original\n",
        "numeros = [1, 2, 3, 4, 5, 6, 7, 8, 9, 10]\n",
        "\n",
        "# Insertar el valor 0 en la posición 0\n",
        "numeros.insert(0, 0)\n",
        "\n",
        "# Imprimir la lista actualizada\n",
        "print(numeros)\n"
      ],
      "metadata": {
        "id": "oFN1iYXCtwI6",
        "colab": {
          "base_uri": "https://localhost:8080/"
        },
        "outputId": "7b7c1cbb-a93e-4109-d10a-e73a0f72a1fe"
      },
      "execution_count": 23,
      "outputs": [
        {
          "output_type": "stream",
          "name": "stdout",
          "text": [
            "[0, 1, 2, 3, 4, 5, 6, 7, 8, 9, 10]\n"
          ]
        }
      ]
    },
    {
      "cell_type": "code",
      "source": [
        "# Lista original\n",
        "numeros = [1, 2, 3, 4, 5, 6, 7, 8, 9, 10]\n",
        "\n",
        "# Insertar una lista en la posición 3\n",
        "numeros.insert(3, [\"Agrega\", \"una\", \"lista\"])\n",
        "\n",
        "# Imprimir la lista actualizada\n",
        "print(numeros)\n"
      ],
      "metadata": {
        "id": "FmwIP98EuDEK",
        "colab": {
          "base_uri": "https://localhost:8080/"
        },
        "outputId": "d6918446-22f0-4fa2-f02b-aa82571f22d1"
      },
      "execution_count": 24,
      "outputs": [
        {
          "output_type": "stream",
          "name": "stdout",
          "text": [
            "[1, 2, 3, ['Agrega', 'una', 'lista'], 4, 5, 6, 7, 8, 9, 10]\n"
          ]
        }
      ]
    },
    {
      "cell_type": "code",
      "source": [
        "# Lista original\n",
        "numeros = [1, 2, 3, 4, 5, 6, 7, 8, 9, 10]\n",
        "\n",
        "# Invertir el orden de los elementos\n",
        "numeros.reverse()\n",
        "\n",
        "# Imprimir la lista invertida\n",
        "print(numeros)\n"
      ],
      "metadata": {
        "id": "oxVDUjj4uWZj",
        "colab": {
          "base_uri": "https://localhost:8080/"
        },
        "outputId": "490d495b-73b0-4c5b-c034-18ca30011975"
      },
      "execution_count": 25,
      "outputs": [
        {
          "output_type": "stream",
          "name": "stdout",
          "text": [
            "[10, 9, 8, 7, 6, 5, 4, 3, 2, 1]\n"
          ]
        }
      ]
    },
    {
      "cell_type": "code",
      "source": [
        "# Lista original\n",
        "numeros = [\"12\", \" \", \"b\", \"3\", \"a\", \"g\", \"#\", \"1000\", \"10\"]\n",
        "\n",
        "# Ordenar los elementos de la lista\n",
        "numeros.sort()\n",
        "\n",
        "# Imprimir la lista ordenada\n",
        "print(numeros)\n"
      ],
      "metadata": {
        "id": "hh0NuopL-pMa",
        "colab": {
          "base_uri": "https://localhost:8080/"
        },
        "outputId": "840354c9-a5e6-4015-8493-046dbfd70dfe"
      },
      "execution_count": 26,
      "outputs": [
        {
          "output_type": "stream",
          "name": "stdout",
          "text": [
            "[' ', '#', '10', '1000', '12', '3', 'a', 'b', 'g']\n"
          ]
        }
      ]
    },
    {
      "cell_type": "code",
      "source": [
        "numeros = [16, 17, 21, 22, 18, 19, 20]\n",
        "numeros.sort()\n",
        "\n",
        "print(numeros)"
      ],
      "metadata": {
        "id": "zc9jS8imuvkr",
        "colab": {
          "base_uri": "https://localhost:8080/"
        },
        "outputId": "659aaa92-922d-4b3f-bf75-d855793f354c"
      },
      "execution_count": null,
      "outputs": [
        {
          "output_type": "stream",
          "name": "stdout",
          "text": [
            "[16, 17, 18, 19, 20, 21, 22]\n"
          ]
        }
      ]
    },
    {
      "cell_type": "code",
      "source": [
        "# Para ordenarlos de manera descendente pasamos el parámetro reverse en True\n",
        "numeros = [16, 17, 21, 22, 18, 19, 20]\n",
        "numeros.sort(reverse=True)\n",
        "print(numeros)"
      ],
      "metadata": {
        "id": "xf1x_E9YvGAl",
        "colab": {
          "base_uri": "https://localhost:8080/"
        },
        "outputId": "007b3099-d4d4-4d63-ef9a-4568c8406b33"
      },
      "execution_count": null,
      "outputs": [
        {
          "output_type": "stream",
          "name": "stdout",
          "text": [
            "[22, 21, 20, 19, 18, 17, 16]\n"
          ]
        }
      ]
    },
    {
      "cell_type": "code",
      "source": [
        "# SORT - NO puede ordenar elementos de diferentes tipos\n",
        "numeros = [\"12\", \"b\", \"3\", \"a\",\"g\", \"#\", \"1000\", 10]\n",
        "numeros.sort()\n",
        "\n",
        "print(numeros)"
      ],
      "metadata": {
        "id": "b7dc0dB7PZOx"
      },
      "execution_count": null,
      "outputs": []
    },
    {
      "cell_type": "code",
      "source": [
        "texto = \"gordon lanzó su curva&strawberry ha fallado por un pie! -gritó Joe Castiglione&dos pies -le corrigió Troop&strawberry menea la cabeza como disgustado… -agrega el comentarista\"\n",
        "#print(texto)\n",
        "\n",
        "\n",
        "texto2 = texto.replace(\"&\", \"\\n\")\n",
        "#print(texto2)\n",
        "texto3= texto2[0].upper() + texto2[1:]\n",
        "print(texto3)"
      ],
      "metadata": {
        "colab": {
          "base_uri": "https://localhost:8080/"
        },
        "id": "IRKGfaLhTKnV",
        "outputId": "d06d85d0-e889-4512-eac5-15104be705b6"
      },
      "execution_count": null,
      "outputs": [
        {
          "output_type": "stream",
          "name": "stdout",
          "text": [
            "Gordon lanzó su curva\n",
            "strawberry ha fallado por un pie! -gritó Joe Castiglione\n",
            "dos pies -le corrigió Troop\n",
            "strawberry menea la cabeza como disgustado… -agrega el comentarista\n"
          ]
        }
      ]
    },
    {
      "cell_type": "code",
      "source": [
        "# ¿sorted?"
      ],
      "metadata": {
        "id": "WxgKbCH4u54T"
      },
      "execution_count": null,
      "outputs": []
    },
    {
      "cell_type": "markdown",
      "source": [
        "# Métodos de Conjuntos"
      ],
      "metadata": {
        "id": "U6N7sult5Udo"
      }
    },
    {
      "cell_type": "code",
      "source": [
        "# COPY\n",
        "mi_set = {1, 2, 3, 4, 5}\n",
        "set_2 = mi_set.copy()\n",
        "\n",
        "print(mi_set)\n",
        "print(set_2)"
      ],
      "metadata": {
        "id": "jDXbveQl5XU8",
        "colab": {
          "base_uri": "https://localhost:8080/"
        },
        "outputId": "61e173c7-fcb0-435d-d294-8742a42a3d30"
      },
      "execution_count": null,
      "outputs": [
        {
          "output_type": "stream",
          "name": "stdout",
          "text": [
            "{1, 2, 3, 4, 5}\n",
            "{1, 2, 3, 4, 5}\n"
          ]
        }
      ]
    },
    {
      "cell_type": "code",
      "source": [
        "# ISDISJOINT\n",
        "mi_set = {1, 2, 3, 4, 5}\n",
        "set_3 = {6, 7, 8}\n",
        "resultado = mi_set.isdisjoint(set_3)\n",
        "\n",
        "print(resultado)"
      ],
      "metadata": {
        "id": "GtyskeiR5qfJ",
        "colab": {
          "base_uri": "https://localhost:8080/"
        },
        "outputId": "400c3501-f37f-4131-e379-7519fd8fde1c"
      },
      "execution_count": null,
      "outputs": [
        {
          "output_type": "stream",
          "name": "stdout",
          "text": [
            "True\n"
          ]
        }
      ]
    },
    {
      "cell_type": "code",
      "source": [
        "mi_set = {1, 2, 3, 4, 5}\n",
        "set_4 = {6, 3, 8}\n",
        "resultado = mi_set.isdisjoint(set_4)\n",
        "\n",
        "print(resultado)"
      ],
      "metadata": {
        "id": "XC3vK8sJ6TAp",
        "colab": {
          "base_uri": "https://localhost:8080/"
        },
        "outputId": "00764ce4-91b0-4b98-b629-76752c8e2578"
      },
      "execution_count": null,
      "outputs": [
        {
          "output_type": "stream",
          "name": "stdout",
          "text": [
            "False\n"
          ]
        }
      ]
    },
    {
      "cell_type": "code",
      "source": [
        "# ISSUBSET\n",
        "mi_set = {1, 2, 3, 4, 5}\n",
        "set_5 = {1, 2, 3}\n",
        "resultado = set_5.issubset(mi_set)\n",
        "\n",
        "print(resultado)"
      ],
      "metadata": {
        "id": "FoEH_QZM6aAp",
        "colab": {
          "base_uri": "https://localhost:8080/"
        },
        "outputId": "16e2277d-0cf0-4dd4-f3ec-2c466b339c27"
      },
      "execution_count": null,
      "outputs": [
        {
          "output_type": "stream",
          "name": "stdout",
          "text": [
            "True\n"
          ]
        }
      ]
    },
    {
      "cell_type": "code",
      "source": [
        "mi_set = {1, 2, 3, 4, 5}\n",
        "set_5 = {1, 2, 3}\n",
        "resultado = mi_set.issubset(set_5)\n",
        "\n",
        "print(resultado)"
      ],
      "metadata": {
        "id": "cARIyWtd7Rcj",
        "colab": {
          "base_uri": "https://localhost:8080/"
        },
        "outputId": "ba1d88c3-bf9e-4ff9-a58b-617530543763"
      },
      "execution_count": null,
      "outputs": [
        {
          "output_type": "stream",
          "name": "stdout",
          "text": [
            "False\n"
          ]
        }
      ]
    },
    {
      "cell_type": "code",
      "source": [
        "mi_set = {1, 2, 3, 4, 5}\n",
        "set_5 = {1, 2, 3}\n",
        "resultado = set_5.issubset(mi_set)\n",
        "\n",
        "print(resultado)"
      ],
      "metadata": {
        "id": "D4KORS6_a7qL"
      },
      "execution_count": null,
      "outputs": []
    },
    {
      "cell_type": "code",
      "source": [
        "# ISSUPERSET\n",
        "mi_set = {1, 2, 3, 4, 5}\n",
        "set_5 = {6, 3, 8}\n",
        "resultado = mi_set.issuperset(set_5)\n",
        "\n",
        "print(resultado)"
      ],
      "metadata": {
        "id": "I70OMRK87VwY",
        "colab": {
          "base_uri": "https://localhost:8080/"
        },
        "outputId": "7060f860-d57e-4945-afb0-ace0234cdcfe"
      },
      "execution_count": null,
      "outputs": [
        {
          "output_type": "stream",
          "name": "stdout",
          "text": [
            "False\n"
          ]
        }
      ]
    },
    {
      "cell_type": "code",
      "source": [
        "mi_set = {1, 2, 3, 4, 5}\n",
        "set_5 = {1, 2, 3}\n",
        "resultado = mi_set.issuperset(set_5)\n",
        "\n",
        "print(resultado)"
      ],
      "metadata": {
        "id": "ax2-lqjx9h29",
        "colab": {
          "base_uri": "https://localhost:8080/"
        },
        "outputId": "b4a4d29a-3a55-462f-9344-10bd6f5e1026"
      },
      "execution_count": null,
      "outputs": [
        {
          "output_type": "stream",
          "name": "stdout",
          "text": [
            "True\n"
          ]
        }
      ]
    },
    {
      "cell_type": "code",
      "source": [
        "# UNION (T)\n",
        "set_6 = {1, 2, 3}\n",
        "set_7 = {3, 4, 5}\n",
        "set_8 = set_6.union(set_7)\n",
        "\n",
        "print(set_6)\n",
        "print(set_7)\n",
        "print(set_8)"
      ],
      "metadata": {
        "id": "Nm60yuLO9xdc",
        "colab": {
          "base_uri": "https://localhost:8080/"
        },
        "outputId": "a5105fa2-8f1b-48ba-e9d7-2a447703f78a"
      },
      "execution_count": 21,
      "outputs": [
        {
          "output_type": "stream",
          "name": "stdout",
          "text": [
            "{1, 2, 3}\n",
            "{3, 4, 5}\n",
            "{1, 2, 3, 4, 5}\n"
          ]
        }
      ]
    },
    {
      "cell_type": "code",
      "source": [
        "# DIFFERENCE\n",
        "mi_set = {1, 2, 3, 4, 5}\n",
        "set_9 = {4, 5, 6, 7, 8}\n",
        "set_10 = mi_set.difference(set_9)\n",
        "\n",
        "print(mi_set)\n",
        "print(set_9)\n",
        "print(set_10)"
      ],
      "metadata": {
        "id": "ljRnm_gW-1wL",
        "colab": {
          "base_uri": "https://localhost:8080/"
        },
        "outputId": "80904797-a38c-4e50-8821-8aabd3543d23"
      },
      "execution_count": 22,
      "outputs": [
        {
          "output_type": "stream",
          "name": "stdout",
          "text": [
            "{1, 2, 3, 4, 5}\n",
            "{4, 5, 6, 7, 8}\n",
            "{1, 2, 3}\n"
          ]
        }
      ]
    },
    {
      "cell_type": "code",
      "source": [
        "# DIFFERENCE UPDATE\n",
        "set_9 = {1, 2, 3, 4, 5}\n",
        "set_10 = {4, 5, 6, 7, 8}\n",
        "set_9.difference_update(set_10)\n",
        "\n",
        "print(set_9)\n",
        "print(set_10)"
      ],
      "metadata": {
        "id": "YM5mZqFrIVKP",
        "colab": {
          "base_uri": "https://localhost:8080/"
        },
        "outputId": "e96f23b5-3de5-4f29-dfe5-02544ce3b6ec"
      },
      "execution_count": null,
      "outputs": [
        {
          "output_type": "stream",
          "name": "stdout",
          "text": [
            "{1, 2, 3}\n",
            "{4, 5, 6, 7, 8}\n"
          ]
        }
      ]
    },
    {
      "cell_type": "code",
      "source": [
        "# INTERSECTION\n",
        "set_11 = {1, 2, 3, 4, 5}\n",
        "set_12 = {4, 5, 6, 7, 8}\n",
        "set_13 = set_11.intersection(set_12)\n",
        "\n",
        "print(set_13)"
      ],
      "metadata": {
        "id": "wnoxx-GxJrOR",
        "colab": {
          "base_uri": "https://localhost:8080/"
        },
        "outputId": "7440478f-e6d9-4412-807f-0b675b46593f"
      },
      "execution_count": null,
      "outputs": [
        {
          "output_type": "stream",
          "name": "stdout",
          "text": [
            "{4, 5}\n"
          ]
        }
      ]
    },
    {
      "cell_type": "code",
      "source": [
        "# INTERSECTION UPDATE\n",
        "set_11 = {1, 2, 3, 4, 5}\n",
        "set_12 = {4, 5, 6, 7, 8}\n",
        "set_11.intersection_update(set_12)\n",
        "\n",
        "print(set_11)\n",
        "print(set_12)"
      ],
      "metadata": {
        "id": "dhj7RAiQKBLx",
        "colab": {
          "base_uri": "https://localhost:8080/"
        },
        "outputId": "19e965e1-0c41-4165-b14f-9d5fc9b5fb12"
      },
      "execution_count": null,
      "outputs": [
        {
          "output_type": "stream",
          "name": "stdout",
          "text": [
            "{4, 5}\n",
            "{4, 5, 6, 7, 8}\n"
          ]
        }
      ]
    },
    {
      "cell_type": "markdown",
      "source": [
        "## EJERCICIO"
      ],
      "metadata": {
        "id": "k8cZxgDUMIqi"
      }
    },
    {
      "cell_type": "markdown",
      "source": [
        "###Ejemplo 1"
      ],
      "metadata": {
        "id": "RwH-Q1Mnu-7h"
      }
    },
    {
      "cell_type": "code",
      "source": [
        "my_set_1 = set([1, 2, 3])\n",
        "my_set_2 = set([3, 4, 5])\n",
        "my_new_set = my_set_1.union(my_set_2)\n",
        "print(my_new_set)"
      ],
      "metadata": {
        "id": "Amsny35pu77z",
        "colab": {
          "base_uri": "https://localhost:8080/"
        },
        "outputId": "07c8cc86-7f53-48c6-b42e-4ff2ad818943"
      },
      "execution_count": null,
      "outputs": [
        {
          "output_type": "stream",
          "name": "stdout",
          "text": [
            "{1, 2, 3, 4, 5}\n"
          ]
        }
      ]
    },
    {
      "cell_type": "markdown",
      "source": [
        "###Ejemplo 2"
      ],
      "metadata": {
        "id": "dySCeGhRvHgv"
      }
    },
    {
      "cell_type": "code",
      "source": [
        "my_set_1 = set([1, 2, 3])\n",
        "my_set_2 = set([3, 4, 5])\n",
        "my_new_set = my_set_1.intersection(my_set_2)\n",
        "print(my_new_set)"
      ],
      "metadata": {
        "id": "h288QmvUvK3Q",
        "colab": {
          "base_uri": "https://localhost:8080/"
        },
        "outputId": "e000ed8f-e033-4284-a55c-977db8eee199"
      },
      "execution_count": null,
      "outputs": [
        {
          "output_type": "stream",
          "name": "stdout",
          "text": [
            "{3}\n"
          ]
        }
      ]
    },
    {
      "cell_type": "markdown",
      "source": [
        "###Ejemplo 3"
      ],
      "metadata": {
        "id": "W4X-1u-mvNl8"
      }
    },
    {
      "cell_type": "code",
      "source": [
        "my_set_1 = set([1, 2, 3])\n",
        "my_set_2 = set([3, 4, 5])\n",
        "my_new_set = my_set_1.difference(my_set_2)\n",
        "print(my_new_set)"
      ],
      "metadata": {
        "id": "UIGzrkOGvP8i",
        "colab": {
          "base_uri": "https://localhost:8080/"
        },
        "outputId": "d915d656-8798-4f6d-d6fb-e7cf67d89701"
      },
      "execution_count": null,
      "outputs": [
        {
          "output_type": "stream",
          "name": "stdout",
          "text": [
            "{1, 2}\n"
          ]
        }
      ]
    },
    {
      "cell_type": "markdown",
      "source": [
        "# Métodos de Diccionarios"
      ],
      "metadata": {
        "id": "hdaMIIGVKZjz"
      }
    },
    {
      "cell_type": "code",
      "source": [
        "# Buscar un valor que no existe genera un error\n",
        "colores = {\n",
        "    \"amarillo\":\"yellow\",\n",
        "    \"azul\":\"blue\",\n",
        "    \"verde\":\"green\"\n",
        "}\n",
        "\n",
        "print(colores[\"rojo\"])"
      ],
      "metadata": {
        "id": "ds9CfvPM3tIs",
        "colab": {
          "base_uri": "https://localhost:8080/",
          "height": 176
        },
        "outputId": "57d6e693-a02d-4f07-ff57-5b46d0a902a0"
      },
      "execution_count": null,
      "outputs": [
        {
          "output_type": "error",
          "ename": "KeyError",
          "evalue": "'rojo'",
          "traceback": [
            "\u001b[0;31m---------------------------------------------------------------------------\u001b[0m",
            "\u001b[0;31mKeyError\u001b[0m                                  Traceback (most recent call last)",
            "\u001b[0;32m<ipython-input-63-9ea8dca4cb12>\u001b[0m in \u001b[0;36m<cell line: 8>\u001b[0;34m()\u001b[0m\n\u001b[1;32m      6\u001b[0m }\n\u001b[1;32m      7\u001b[0m \u001b[0;34m\u001b[0m\u001b[0m\n\u001b[0;32m----> 8\u001b[0;31m \u001b[0mprint\u001b[0m\u001b[0;34m(\u001b[0m\u001b[0mcolores\u001b[0m\u001b[0;34m[\u001b[0m\u001b[0;34m\"rojo\"\u001b[0m\u001b[0;34m]\u001b[0m\u001b[0;34m)\u001b[0m\u001b[0;34m\u001b[0m\u001b[0;34m\u001b[0m\u001b[0m\n\u001b[0m",
            "\u001b[0;31mKeyError\u001b[0m: 'rojo'"
          ]
        }
      ]
    },
    {
      "cell_type": "code",
      "source": [
        "# GET - Alternativa de: colores[\"azul\"], por ejemplo\n",
        "colores = {\n",
        "    \"amarillo\":\"yellow\",\n",
        "    \"azul\":\"blue\",\n",
        "    \"verde\":\"green\"\n",
        "}\n",
        "\n",
        "\n",
        "valor_buscado = colores.get(\"verde\")\n",
        "print(valor_buscado)\n",
        "\n",
        "valor_buscado = colores.get(\"rojo\")\n",
        "print(valor_buscado)\n",
        "\n",
        "valor_buscado = colores.get(\"rojo\", \"Color no encontrado\")\n",
        "print(valor_buscado)\n",
        "\n",
        "valor_buscado = colores.get(\"azul\", \"Color no encontrado\")\n",
        "print(valor_buscado)"
      ],
      "metadata": {
        "id": "ASgZfcK3Kk9s",
        "colab": {
          "base_uri": "https://localhost:8080/"
        },
        "outputId": "27391a81-dd63-44fe-ecc3-acbfc6dd43cf"
      },
      "execution_count": null,
      "outputs": [
        {
          "output_type": "stream",
          "name": "stdout",
          "text": [
            "green\n",
            "None\n",
            "Color no encontrado\n",
            "blue\n"
          ]
        }
      ]
    },
    {
      "cell_type": "code",
      "source": [
        "# ACCEDIENDO A SUS VALORES\n",
        "colores = {\n",
        "    \"amarillo\":\"yellow\",\n",
        "    \"azul\":\"blue\",\n",
        "    \"verde\":\"green\"\n",
        "}\n",
        "\n",
        "\n",
        "print(colores.keys())\n",
        "print(colores.values())\n",
        "print(colores.items())\n",
        "print(type(colores.keys()))\n",
        "print(type(colores.values()))\n",
        "print(type(colores.items()))"
      ],
      "metadata": {
        "id": "BnDNp0MMK4_p",
        "colab": {
          "base_uri": "https://localhost:8080/"
        },
        "outputId": "06495a34-bfbb-4a3e-baf0-6fce9c03dce5"
      },
      "execution_count": null,
      "outputs": [
        {
          "output_type": "stream",
          "name": "stdout",
          "text": [
            "dict_keys(['amarillo', 'azul', 'verde'])\n",
            "dict_values(['yellow', 'blue', 'green'])\n",
            "dict_items([('amarillo', 'yellow'), ('azul', 'blue'), ('verde', 'green')])\n",
            "<class 'dict_keys'>\n",
            "<class 'dict_values'>\n",
            "<class 'dict_items'>\n"
          ]
        }
      ]
    },
    {
      "cell_type": "code",
      "source": [
        "# KEYS\n",
        "colores = {\n",
        "    \"amarillo\":\"yellow\",\n",
        "    \"azul\":\"blue\",\n",
        "    \"verde\":\"green\"\n",
        "}\n",
        "\n",
        "\n",
        "for llave in colores.keys():\n",
        "    print(f\"Esta es la llave: {llave}\")"
      ],
      "metadata": {
        "id": "TtQlPo8gLtSq",
        "colab": {
          "base_uri": "https://localhost:8080/"
        },
        "outputId": "09c56f0c-be63-4312-c5cf-c167531cf8cf"
      },
      "execution_count": null,
      "outputs": [
        {
          "output_type": "stream",
          "name": "stdout",
          "text": [
            "Esta es la llave: amarillo\n",
            "Esta es la llave: azul\n",
            "Esta es la llave: verde\n"
          ]
        }
      ]
    },
    {
      "cell_type": "code",
      "source": [
        "# VALUES\n",
        "colores = {\n",
        "    \"amarillo\":\"yellow\",\n",
        "    \"azul\":\"blue\",\n",
        "    \"verde\":\"green\"\n",
        "}\n",
        "\n",
        "\n",
        "for valor in colores.values():\n",
        "    print(f\"Este es el valor: {valor}\")"
      ],
      "metadata": {
        "id": "RcjBugGRMMd6",
        "colab": {
          "base_uri": "https://localhost:8080/"
        },
        "outputId": "6a1ebacd-47e1-4b46-c1b9-535fe05e1f10"
      },
      "execution_count": null,
      "outputs": [
        {
          "output_type": "stream",
          "name": "stdout",
          "text": [
            "Este es el valor: yellow\n",
            "Este es el valor: blue\n",
            "Este es el valor: green\n"
          ]
        }
      ]
    },
    {
      "cell_type": "code",
      "source": [
        "# ITEMS\n",
        "colores = {\n",
        "    \"amarillo\":\"yellow\",\n",
        "    \"azul\":\"blue\",\n",
        "    \"verde\":\"green\"\n",
        "}\n",
        "\n",
        "\n",
        "for item in colores.items():\n",
        "    print(item)"
      ],
      "metadata": {
        "id": "_-015CPvMc3p",
        "colab": {
          "base_uri": "https://localhost:8080/"
        },
        "outputId": "fe0fdb73-608a-4472-cdc5-b96f68483b5f"
      },
      "execution_count": null,
      "outputs": [
        {
          "output_type": "stream",
          "name": "stdout",
          "text": [
            "('amarillo', 'yellow')\n",
            "('azul', 'blue')\n",
            "('verde', 'green')\n"
          ]
        }
      ]
    },
    {
      "cell_type": "code",
      "source": [
        "colores = {\n",
        "    \"amarillo\":\"yellow\",\n",
        "    \"azul\":\"blue\",\n",
        "    \"verde\":\"green\"\n",
        "}\n",
        "\n",
        "\n",
        "for llave, valor in colores.items():\n",
        "    print(f\"Llave: {llave} - Valor: {valor}\")"
      ],
      "metadata": {
        "id": "mrvILuSdMre2",
        "colab": {
          "base_uri": "https://localhost:8080/"
        },
        "outputId": "2213c6de-4d54-4e45-b7e3-8fb9b32180a9"
      },
      "execution_count": null,
      "outputs": [
        {
          "output_type": "stream",
          "name": "stdout",
          "text": [
            "Llave: amarillo - Valor: yellow\n",
            "Llave: azul - Valor: blue\n",
            "Llave: verde - Valor: green\n"
          ]
        }
      ]
    }
  ]
}