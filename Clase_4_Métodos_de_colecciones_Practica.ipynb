{
  "nbformat": 4,
  "nbformat_minor": 0,
  "metadata": {
    "colab": {
      "provenance": [],
      "include_colab_link": true
    },
    "kernelspec": {
      "name": "python3",
      "display_name": "Python 3"
    },
    "language_info": {
      "name": "python"
    }
  },
  "cells": [
    {
      "cell_type": "markdown",
      "metadata": {
        "id": "view-in-github",
        "colab_type": "text"
      },
      "source": [
        "<a href=\"https://colab.research.google.com/github/chamomatias/Python---Carreras-Intensivas/blob/main/Clase_4_M%C3%A9todos_de_colecciones_Practica.ipynb\" target=\"_parent\"><img src=\"https://colab.research.google.com/assets/colab-badge.svg\" alt=\"Open In Colab\"/></a>"
      ]
    },
    {
      "cell_type": "markdown",
      "source": [
        "# Métodos de Cadenas (string)"
      ],
      "metadata": {
        "id": "rGBQxMq6klE0"
      }
    },
    {
      "cell_type": "code",
      "source": [
        "# Convertir un texto a mayúsculas usando el método upper() en Python\n",
        "# Texto original\n",
        "texto = \"Programando en Python, estás construyendo puentes hacia el futuro con cada línea de código que escribes!\"\n",
        "\n",
        "# Convertir el texto a mayúsculas\n",
        "nuevo_texto = texto.upper()\n",
        "\n",
        "# Mostrar el texto original\n",
        "print(\"Texto original:\")\n",
        "print(texto)\n",
        "\n",
        "# Mostrar el texto convertido a mayúsculas\n",
        "print(\"\\nTexto en mayúsculas:\")\n",
        "print(nuevo_texto)\n"
      ],
      "metadata": {
        "id": "p8po-VhYmR69",
        "colab": {
          "base_uri": "https://localhost:8080/"
        },
        "outputId": "3b031156-43cd-46a1-9064-d5ad28b70553"
      },
      "execution_count": 1,
      "outputs": [
        {
          "output_type": "stream",
          "name": "stdout",
          "text": [
            "Texto original:\n",
            "Programando en Python, estás construyendo puentes hacia el futuro con cada línea de código que escribes!\n",
            "\n",
            "Texto en mayúsculas:\n",
            "PROGRAMANDO EN PYTHON, ESTÁS CONSTRUYENDO PUENTES HACIA EL FUTURO CON CADA LÍNEA DE CÓDIGO QUE ESCRIBES!\n"
          ]
        }
      ]
    },
    {
      "cell_type": "code",
      "source": [
        "# Convertir un texto a minúsculas usando el método lower() en Python\n",
        "\n",
        "# Texto original\n",
        "texto = \"Programando en Python, estás construyendo puentes hacia el futuro con cada línea de código que escribes!\"\n",
        "\n",
        "# Convertir el texto a minúsculas\n",
        "nuevo_texto = texto.lower()\n",
        "\n",
        "# Mostrar el texto original\n",
        "print(\"Texto original:\")\n",
        "print(texto)\n",
        "\n",
        "# Mostrar el texto convertido a minúsculas\n",
        "print(\"\\nTexto en minúsculas:\")\n",
        "print(nuevo_texto)\n"
      ],
      "metadata": {
        "id": "N1abbkulmlJY",
        "colab": {
          "base_uri": "https://localhost:8080/"
        },
        "outputId": "ceea83a4-6eec-4b54-f2e3-992b612a156c"
      },
      "execution_count": 2,
      "outputs": [
        {
          "output_type": "stream",
          "name": "stdout",
          "text": [
            "Texto original:\n",
            "Programando en Python, estás construyendo puentes hacia el futuro con cada línea de código que escribes!\n",
            "\n",
            "Texto en minúsculas:\n",
            "programando en python, estás construyendo puentes hacia el futuro con cada línea de código que escribes!\n"
          ]
        }
      ]
    },
    {
      "cell_type": "code",
      "source": [
        "# Convertir un texto a formato \"capitalize\" usando el método capitalize() en Python\n",
        "\n",
        "# Texto original\n",
        "texto = \"Programando en Python.\\nEstás construyendo puentes hacia el futuro con cada línea de código que escribes!\"\n",
        "\n",
        "# Convertir el texto al formato \"capitalize\" (solo el primer carácter en mayúscula)\n",
        "nuevo_texto = texto.capitalize()\n",
        "\n",
        "# Mostrar el texto original\n",
        "print(\"Texto original:\")\n",
        "print(texto)\n",
        "\n",
        "# Mostrar el texto convertido al formato \"capitalize\"\n",
        "print(\"\\nTexto con capitalize:\")\n",
        "print(nuevo_texto)\n"
      ],
      "metadata": {
        "id": "j7RqdIRrmtyf",
        "colab": {
          "base_uri": "https://localhost:8080/"
        },
        "outputId": "ad0ab81c-c84e-4f7d-8d77-b4a4b28e79af"
      },
      "execution_count": 3,
      "outputs": [
        {
          "output_type": "stream",
          "name": "stdout",
          "text": [
            "Texto original:\n",
            "Programando en Python.\n",
            "Estás construyendo puentes hacia el futuro con cada línea de código que escribes!\n",
            "\n",
            "Texto con capitalize:\n",
            "Programando en python.\n",
            "estás construyendo puentes hacia el futuro con cada línea de código que escribes!\n"
          ]
        }
      ]
    },
    {
      "cell_type": "code",
      "source": [
        "# Convertir un texto a formato \"título\" usando el método title() en Python\n",
        "\n",
        "# Texto original\n",
        "texto = \"Programando en Python, estás construyendo puentes hacia el futuro con cada línea de código que escribes!\"\n",
        "\n",
        "# Convertir el texto al formato \"título\" (primera letra de cada palabra en mayúscula)\n",
        "nuevo_texto = texto.title()\n",
        "\n",
        "# Mostrar el texto original\n",
        "print(\"Texto original:\")\n",
        "print(texto)\n",
        "\n",
        "# Mostrar el texto convertido al formato \"título\"\n",
        "print(\"\\nTexto en formato título:\")\n",
        "print(nuevo_texto)\n"
      ],
      "metadata": {
        "id": "tQyjpgpVnHG9",
        "colab": {
          "base_uri": "https://localhost:8080/"
        },
        "outputId": "10fbdeac-9690-4fd4-dfb1-c9d6d737e887"
      },
      "execution_count": 4,
      "outputs": [
        {
          "output_type": "stream",
          "name": "stdout",
          "text": [
            "Texto original:\n",
            "Programando en Python, estás construyendo puentes hacia el futuro con cada línea de código que escribes!\n",
            "\n",
            "Texto en formato título:\n",
            "Programando En Python, Estás Construyendo Puentes Hacia El Futuro Con Cada Línea De Código Que Escribes!\n"
          ]
        }
      ]
    },
    {
      "cell_type": "code",
      "source": [
        "# Contar las ocurrencias de una subcadena en un texto usando el método count() en Python\n",
        "\n",
        "# Texto original\n",
        "texto = \"Programando en Python, estás construyendo puentes hacia el futuro con cada línea de código que escribes!\"\n",
        "\n",
        "# Contar cuántas veces aparece la subcadena \"con\" en el texto\n",
        "cant_con = texto.count(\"con\")\n",
        "\n",
        "# Mostrar el resultado\n",
        "print(f\"La subcadena 'con' aparece {cant_con} veces en el texto.\")\n"
      ],
      "metadata": {
        "id": "qlp7_dtInNgF",
        "colab": {
          "base_uri": "https://localhost:8080/"
        },
        "outputId": "906e9bc7-338c-4fb2-f851-8e37424e3d2d"
      },
      "execution_count": 5,
      "outputs": [
        {
          "output_type": "stream",
          "name": "stdout",
          "text": [
            "La subcadena 'con' aparece 2 veces en el texto.\n"
          ]
        }
      ]
    },
    {
      "cell_type": "code",
      "source": [
        "# Encontrar la posición de una subcadena en un texto usando el método find() en Python\n",
        "\n",
        "# Texto original\n",
        "texto = \"Programando en Python, estás construyendo puentes hacia el futuro con cada línea de código que escribes!\"\n",
        "\n",
        "# Buscar la posición de la primera aparición de la subcadena \"con\"\n",
        "index_con = texto.find(\"con\")\n",
        "\n",
        "# Mostrar el resultado\n",
        "if index_con != -1:\n",
        "    print(f\"La subcadena 'con' se encuentra por primera vez en la posición {index_con}.\")\n",
        "else:\n",
        "    print(\"La subcadena 'con' no se encontró en el texto.\")\n"
      ],
      "metadata": {
        "id": "MWuwqxCbngmv",
        "colab": {
          "base_uri": "https://localhost:8080/"
        },
        "outputId": "890ebb73-b8c6-4564-af3d-1d44998eefb8"
      },
      "execution_count": 6,
      "outputs": [
        {
          "output_type": "stream",
          "name": "stdout",
          "text": [
            "La subcadena 'con' se encuentra por primera vez en la posición 29.\n"
          ]
        }
      ]
    },
    {
      "cell_type": "code",
      "source": [
        "# Encontrar la posición de la última aparición de una subcadena usando rfind() en Python\n",
        "\n",
        "# Texto original\n",
        "texto = \"Programando en Python, estás construyendo puentes hacia el futuro con cada línea de código que escribes!\"\n",
        "\n",
        "# Buscar la posición de la última aparición de la subcadena \"con\"\n",
        "index_con = texto.rfind(\"con\")\n",
        "\n",
        "# Mostrar el resultado\n",
        "if index_con != -1:\n",
        "    print(f\"La subcadena 'con' aparece por última vez en la posición {index_con}.\")\n",
        "else:\n",
        "    print(\"La subcadena 'con' no se encontró en el texto.\")\n"
      ],
      "metadata": {
        "id": "OcrTdUH9nZEf",
        "colab": {
          "base_uri": "https://localhost:8080/"
        },
        "outputId": "4db7b28f-88c1-431f-ba71-331a772c03fc"
      },
      "execution_count": 7,
      "outputs": [
        {
          "output_type": "stream",
          "name": "stdout",
          "text": [
            "La subcadena 'con' aparece por última vez en la posición 66.\n"
          ]
        }
      ]
    },
    {
      "cell_type": "code",
      "source": [
        "# Dividir un string en una lista de palabras usando el método split()\n",
        "\n",
        "# Texto original\n",
        "texto = \"Programando en Python, estás construyendo puentes hacia el futuro con cada línea de código que escribes!\"\n",
        "\n",
        "# Mostrar el texto original\n",
        "print(\"Texto original:\")\n",
        "print(texto)\n",
        "\n",
        "# Dividir el texto en palabras utilizando el espacio como separador por defecto\n",
        "lista_palabras = texto.split()\n",
        "\n",
        "# Mostrar la lista de palabras generada\n",
        "print(\"\\nLista de palabras:\")\n",
        "print(lista_palabras)\n"
      ],
      "metadata": {
        "id": "eae4BKs0n1Nw",
        "colab": {
          "base_uri": "https://localhost:8080/"
        },
        "outputId": "5e999c09-4aaf-4f36-9a0b-a905a7ec973f"
      },
      "execution_count": 8,
      "outputs": [
        {
          "output_type": "stream",
          "name": "stdout",
          "text": [
            "Texto original:\n",
            "Programando en Python, estás construyendo puentes hacia el futuro con cada línea de código que escribes!\n",
            "\n",
            "Lista de palabras:\n",
            "['Programando', 'en', 'Python,', 'estás', 'construyendo', 'puentes', 'hacia', 'el', 'futuro', 'con', 'cada', 'línea', 'de', 'código', 'que', 'escribes!']\n"
          ]
        }
      ]
    },
    {
      "cell_type": "code",
      "source": [
        "# Dividir un string en una lista de elementos utilizando '*' como delimitador con el método split()\n",
        "\n",
        "# Texto original con un delimitador específico (asterisco)\n",
        "texto = \"Programando en Python,* estás construyendo puentes hacia el futuro con cada línea de código que escribes!\"\n",
        "print(\"Texto original:\")\n",
        "print(texto)\n",
        "\n",
        "# Dividir el texto en partes utilizando '*' como delimitador\n",
        "lista_palabras = texto.split(\"*\")\n",
        "\n",
        "# Mostrar la lista de elementos generada\n",
        "print(\"\\nLista de elementos (dividida por '*'):\")\n",
        "print(lista_palabras)\n"
      ],
      "metadata": {
        "id": "9R1LVenAeOvz",
        "colab": {
          "base_uri": "https://localhost:8080/"
        },
        "outputId": "3c6b315c-504a-450f-b7ca-049866c5ec32"
      },
      "execution_count": 9,
      "outputs": [
        {
          "output_type": "stream",
          "name": "stdout",
          "text": [
            "Texto original:\n",
            "Programando en Python,* estás construyendo puentes hacia el futuro con cada línea de código que escribes!\n",
            "\n",
            "Lista de elementos (dividida por '*'):\n",
            "['Programando en Python,', ' estás construyendo puentes hacia el futuro con cada línea de código que escribes!']\n"
          ]
        }
      ]
    },
    {
      "cell_type": "code",
      "source": [
        "# Unir los elementos de una lista en un string con un delimitador personalizado (en este caso, un espacio)\n",
        "\n",
        "# Lista de palabras\n",
        "lista_palabras = ['Programando', 'en', 'Python,', 'estás', 'construyendo', 'puentes', 'hacia', 'el', 'futuro', 'con', 'cada', 'línea', 'de', 'código', 'que', 'escribes!']\n",
        "\n",
        "# Unir los elementos de la lista con un espacio entre ellos\n",
        "lista_palabras = \" \".join(lista_palabras)\n",
        "\n",
        "# Imprimir el string resultante\n",
        "print(lista_palabras)\n",
        "\n",
        "# Otro ejemplo: Unir un nombre y apellido con una coma y un espacio\n",
        "nombre_apellido = [\"Van Rossum\", \"Guido\"]\n",
        "\n",
        "# Unir los elementos de la lista con una coma y un espacio\n",
        "nombre_unido = \", \".join(nombre_apellido)\n",
        "\n",
        "# Imprimir el resultado\n",
        "print(nombre_unido)\n"
      ],
      "metadata": {
        "id": "q5NvqfeyobQg",
        "colab": {
          "base_uri": "https://localhost:8080/"
        },
        "outputId": "9b1ae784-833b-4a28-a89c-151a6692e159"
      },
      "execution_count": 10,
      "outputs": [
        {
          "output_type": "stream",
          "name": "stdout",
          "text": [
            "Programando en Python, estás construyendo puentes hacia el futuro con cada línea de código que escribes!\n",
            "Van Rossum, Guido\n"
          ]
        }
      ]
    },
    {
      "cell_type": "code",
      "source": [
        "# Lista con los componentes de una fecha (día, mes, año)\n",
        "fecha = [\"8\", \"10\", \"2024\"]\n",
        "\n",
        "# Unir los elementos de la lista con una barra '/' entre ellos\n",
        "fecha = \"/\".join(fecha)\n",
        "\n",
        "# Imprimir la fecha resultante\n",
        "print(fecha)\n"
      ],
      "metadata": {
        "colab": {
          "base_uri": "https://localhost:8080/"
        },
        "id": "TBYcxxVlI_qq",
        "outputId": "bf2763e6-11fd-408c-a70b-4faef77a7e08"
      },
      "execution_count": 11,
      "outputs": [
        {
          "output_type": "stream",
          "name": "stdout",
          "text": [
            "8/10/2024\n"
          ]
        }
      ]
    },
    {
      "cell_type": "code",
      "source": [
        "# String original con espacios vacíos al principio y al final\n",
        "texto = \"        Esto es un string con muchos espacios vacíos            \"\n",
        "print(\"Texto original:\")\n",
        "print(texto)\n",
        "\n",
        "# Usar el método strip() para eliminar los espacios en blanco de ambos extremos\n",
        "texto_editado = texto.strip()\n",
        "\n",
        "# Imprimir el string editado después de eliminar los espacios\n",
        "print(\"\\nTexto después de strip():\")\n",
        "print(texto_editado)\n"
      ],
      "metadata": {
        "id": "W3ncQCcrpn4J",
        "colab": {
          "base_uri": "https://localhost:8080/"
        },
        "outputId": "21a09077-ba94-422c-c064-45642c5384e7"
      },
      "execution_count": 12,
      "outputs": [
        {
          "output_type": "stream",
          "name": "stdout",
          "text": [
            "Texto original:\n",
            "        Esto es un string con muchos espacios vacíos            \n",
            "\n",
            "Texto después de strip():\n",
            "Esto es un string con muchos espacios vacíos\n"
          ]
        }
      ]
    },
    {
      "cell_type": "code",
      "source": [
        "# String original con asteriscos al final\n",
        "texto = \"Esto es un string con muchos asteriscos *****************\"\n",
        "print(\"Texto original:\")\n",
        "print(texto)\n",
        "\n",
        "# Eliminar los asteriscos (*) de los extremos del texto\n",
        "texto_editado = texto.strip(\"*\")\n",
        "\n",
        "# Luego eliminar las palabras \"Esto\" de los extremos\n",
        "texto_editado = texto_editado.strip(\"Esto\")\n",
        "\n",
        "# Imprimir el texto después de las modificaciones\n",
        "print(\"\\nTexto después de strip():\")\n",
        "print(texto_editado)\n"
      ],
      "metadata": {
        "id": "7j_fkZZT9jDd",
        "colab": {
          "base_uri": "https://localhost:8080/"
        },
        "outputId": "82ef5a01-2d9f-4bc3-d649-350ea8e04ed1"
      },
      "execution_count": 13,
      "outputs": [
        {
          "output_type": "stream",
          "name": "stdout",
          "text": [
            "Texto original:\n",
            "Esto es un string con muchos asteriscos *****************\n",
            "\n",
            "Texto después de strip():\n",
            " es un string con muchos asteriscos \n"
          ]
        }
      ]
    },
    {
      "cell_type": "code",
      "source": [
        "# String original con un error tipográfico en \"Pyhton\"\n",
        "texto = \"Programando en Pyhton, estás construyendo puentes hacia el futuro con cada línea de código que escribes!\"\n",
        "print(\"Texto original:\")\n",
        "print(texto)\n",
        "\n",
        "# Reemplazar la subcadena \"Pyhton\" por \"Python\"\n",
        "texto_reparado = texto.replace(\"Pyhton\", \"Python\")\n",
        "\n",
        "# Imprimir el texto después del reemplazo\n",
        "print(\"\\nTexto reparado:\")\n",
        "print(texto_reparado)\n"
      ],
      "metadata": {
        "id": "FbLPM0MwqMBh",
        "colab": {
          "base_uri": "https://localhost:8080/"
        },
        "outputId": "575284a3-20c9-46d7-9acc-585d15399b54"
      },
      "execution_count": 14,
      "outputs": [
        {
          "output_type": "stream",
          "name": "stdout",
          "text": [
            "Texto original:\n",
            "Programando en Pyhton, estás construyendo puentes hacia el futuro con cada línea de código que escribes!\n",
            "\n",
            "Texto reparado:\n",
            "Programando en Python, estás construyendo puentes hacia el futuro con cada línea de código que escribes!\n"
          ]
        }
      ]
    },
    {
      "cell_type": "code",
      "source": [
        "# String original\n",
        "texto = \"Programando en Python, estás construyendo puentes hacia el futuro con cada línea de código que escribes!\"\n",
        "print(\"Texto original:\")\n",
        "print(texto)\n",
        "\n",
        "# Encontrar el índice de la primera ocurrencia de la subcadena \"Python\"\n",
        "idx = texto.index(\"Python\")\n",
        "\n",
        "# Imprimir el índice donde se encuentra \"Python\"\n",
        "print(\"\\nÍndice de 'Python':\")\n",
        "print(idx)\n"
      ],
      "metadata": {
        "colab": {
          "base_uri": "https://localhost:8080/"
        },
        "id": "FkG6UYz0LWRi",
        "outputId": "fe8e8550-3055-4953-dcf6-9073d89e1fdf"
      },
      "execution_count": 15,
      "outputs": [
        {
          "output_type": "stream",
          "name": "stdout",
          "text": [
            "Texto original:\n",
            "Programando en Python, estás construyendo puentes hacia el futuro con cada línea de código que escribes!\n",
            "\n",
            "Índice de 'Python':\n",
            "15\n"
          ]
        }
      ]
    },
    {
      "cell_type": "markdown",
      "source": [
        "# Métodos de Listas"
      ],
      "metadata": {
        "id": "SDVkZvHqsC35"
      }
    },
    {
      "cell_type": "code",
      "source": [
        "# Definir una lista de números\n",
        "numeros = [1, 2, 3, 4, 5, 6, 7, 8, 9, 10]\n",
        "\n",
        "# Imprimir la lista\n",
        "print(numeros)\n"
      ],
      "metadata": {
        "id": "CZ5qBqiTq5rJ",
        "colab": {
          "base_uri": "https://localhost:8080/"
        },
        "outputId": "c0a07d9e-0fc9-4c3c-c4ed-a75538eec8fa"
      },
      "execution_count": 16,
      "outputs": [
        {
          "output_type": "stream",
          "name": "stdout",
          "text": [
            "[1, 2, 3, 4, 5, 6, 7, 8, 9, 10]\n"
          ]
        }
      ]
    },
    {
      "cell_type": "code",
      "source": [
        "# Definir una lista de números\n",
        "numeros = [1, 2, 3, 4, 5, 6, 7, 8, 9, 10]\n",
        "\n",
        "# Usar el método clear() para vaciar la lista\n",
        "numeros.clear()\n",
        "\n",
        "# Imprimir la lista vacía\n",
        "print(numeros)\n"
      ],
      "metadata": {
        "id": "c873Z0R3tG13",
        "colab": {
          "base_uri": "https://localhost:8080/"
        },
        "outputId": "4bad14af-4f08-4fd6-b438-6c9bebfcbccc"
      },
      "execution_count": 17,
      "outputs": [
        {
          "output_type": "stream",
          "name": "stdout",
          "text": [
            "[]\n"
          ]
        }
      ]
    },
    {
      "cell_type": "code",
      "source": [
        "# Lista original\n",
        "numeros = [1, 2, 3, 4, 5, 6, 7, 8, 9, 10]\n",
        "\n",
        "# Otra lista para agregar\n",
        "mas_numeros = [11, 12, 13, 14, 15]\n",
        "\n",
        "# Usar el método extend() para concatenar las listas\n",
        "numeros.extend(mas_numeros)\n",
        "\n",
        "# Imprimir la lista concatenada\n",
        "print(numeros)\n"
      ],
      "metadata": {
        "id": "RqLNgSL-tOjq",
        "colab": {
          "base_uri": "https://localhost:8080/"
        },
        "outputId": "6c36133f-de79-4c45-f61e-276e6379a58e"
      },
      "execution_count": 18,
      "outputs": [
        {
          "output_type": "stream",
          "name": "stdout",
          "text": [
            "[1, 2, 3, 4, 5, 6, 7, 8, 9, 10, 11, 12, 13, 14, 15]\n"
          ]
        }
      ]
    },
    {
      "cell_type": "code",
      "source": [
        "# Lista original\n",
        "numeros = [1, 2, 3, 4, 5, 6, 7, 8, 9, 10]\n",
        "\n",
        "# Otra lista para agregar\n",
        "muchos_mas_numeros = [16, 17, 18, 19, 20]\n",
        "\n",
        "# Sumar las dos listas\n",
        "numeros = numeros + muchos_mas_numeros\n",
        "\n",
        "# Imprimir la lista concatenada\n",
        "print(numeros)\n"
      ],
      "metadata": {
        "id": "OGtgqAkitgUi",
        "colab": {
          "base_uri": "https://localhost:8080/"
        },
        "outputId": "f9e33aa6-8abf-46f1-d960-f41e012fca72"
      },
      "execution_count": 19,
      "outputs": [
        {
          "output_type": "stream",
          "name": "stdout",
          "text": [
            "[1, 2, 3, 4, 5, 6, 7, 8, 9, 10, 16, 17, 18, 19, 20]\n"
          ]
        }
      ]
    },
    {
      "cell_type": "code",
      "source": [
        "# Lista original\n",
        "numeros = [1, 2, 3, 4, 5, 6, 7, 8, 9, 10]\n",
        "\n",
        "# Insertar el valor 0 en la posición 0\n",
        "numeros.insert(0, 0)\n",
        "\n",
        "# Imprimir la lista actualizada\n",
        "print(numeros)\n"
      ],
      "metadata": {
        "id": "oFN1iYXCtwI6",
        "colab": {
          "base_uri": "https://localhost:8080/"
        },
        "outputId": "50f5b987-09bc-4e4f-e77e-24be2e8f04e3"
      },
      "execution_count": 20,
      "outputs": [
        {
          "output_type": "stream",
          "name": "stdout",
          "text": [
            "[0, 1, 2, 3, 4, 5, 6, 7, 8, 9, 10]\n"
          ]
        }
      ]
    },
    {
      "cell_type": "code",
      "source": [
        "# Lista original\n",
        "numeros = [1, 2, 3, 4, 5, 6, 7, 8, 9, 10]\n",
        "\n",
        "# Insertar una lista en la posición 3\n",
        "numeros.insert(3, [\"Agrega\", \"una\", \"lista\"])\n",
        "\n",
        "# Imprimir la lista actualizada\n",
        "print(numeros)\n"
      ],
      "metadata": {
        "id": "FmwIP98EuDEK",
        "colab": {
          "base_uri": "https://localhost:8080/"
        },
        "outputId": "fc417ae2-f242-493e-c69f-a9f6e4238358"
      },
      "execution_count": 21,
      "outputs": [
        {
          "output_type": "stream",
          "name": "stdout",
          "text": [
            "[1, 2, 3, ['Agrega', 'una', 'lista'], 4, 5, 6, 7, 8, 9, 10]\n"
          ]
        }
      ]
    },
    {
      "cell_type": "code",
      "source": [
        "# Lista original\n",
        "numeros = [1, 2, 3, 4, 5, 6, 7, 8, 9, 10]\n",
        "\n",
        "# Invertir el orden de los elementos\n",
        "numeros.reverse()\n",
        "\n",
        "# Imprimir la lista invertida\n",
        "print(numeros)\n"
      ],
      "metadata": {
        "id": "oxVDUjj4uWZj",
        "colab": {
          "base_uri": "https://localhost:8080/"
        },
        "outputId": "4430f921-89c4-4cb7-cf29-205ed29832d2"
      },
      "execution_count": 22,
      "outputs": [
        {
          "output_type": "stream",
          "name": "stdout",
          "text": [
            "[10, 9, 8, 7, 6, 5, 4, 3, 2, 1]\n"
          ]
        }
      ]
    },
    {
      "cell_type": "code",
      "source": [
        "# Lista original\n",
        "numeros = [\"12\", \" \", \"b\", \"3\", \"a\", \"g\", \"#\", \"1000\", \"10\"]\n",
        "\n",
        "# Ordenar los elementos de la lista\n",
        "numeros.sort()\n",
        "\n",
        "# Imprimir la lista ordenada\n",
        "print(numeros)\n"
      ],
      "metadata": {
        "id": "hh0NuopL-pMa",
        "colab": {
          "base_uri": "https://localhost:8080/"
        },
        "outputId": "fbce9bff-2a0b-462e-8ccc-bf44eea884ae"
      },
      "execution_count": 23,
      "outputs": [
        {
          "output_type": "stream",
          "name": "stdout",
          "text": [
            "[' ', '#', '10', '1000', '12', '3', 'a', 'b', 'g']\n"
          ]
        }
      ]
    },
    {
      "cell_type": "code",
      "source": [
        "# Lista inicial desordenada\n",
        "numeros = [16, 17, 21, 22, 18, 19, 20]\n",
        "\n",
        "# Ordena la lista de menor a mayor\n",
        "numeros.sort()\n",
        "\n",
        "# Imprime la lista ya ordenada\n",
        "print(\"Lista ordenada de menor a mayor:\", numeros)\n"
      ],
      "metadata": {
        "id": "zc9jS8imuvkr",
        "colab": {
          "base_uri": "https://localhost:8080/"
        },
        "outputId": "48029a4e-82db-43e7-f8a6-89c3ed5d9a37"
      },
      "execution_count": 30,
      "outputs": [
        {
          "output_type": "stream",
          "name": "stdout",
          "text": [
            "Lista ordenada de menor a mayor: [16, 17, 18, 19, 20, 21, 22]\n"
          ]
        }
      ]
    },
    {
      "cell_type": "code",
      "source": [
        "# Lista inicial desordenada\n",
        "numeros = [16, 17, 21, 22, 18, 19, 20]\n",
        "\n",
        "# Ordena la lista en orden descendente (de mayor a menor)\n",
        "numeros.sort(reverse=True)  # <<<<<<<< ACA TENES LA DIFERENCIA CON EL CODIGO ANTERIOR\n",
        "\n",
        "# Imprime la lista ya ordenada en orden descendente\n",
        "print(\"Lista ordenada de mayor a menor:\", numeros)\n"
      ],
      "metadata": {
        "id": "xf1x_E9YvGAl",
        "colab": {
          "base_uri": "https://localhost:8080/"
        },
        "outputId": "b9cf8ffe-5dc9-4bc2-927b-00ba26cae7a5"
      },
      "execution_count": 31,
      "outputs": [
        {
          "output_type": "stream",
          "name": "stdout",
          "text": [
            "Lista ordenada de mayor a menor: [22, 21, 20, 19, 18, 17, 16]\n"
          ]
        }
      ]
    },
    {
      "cell_type": "code",
      "source": [
        "# SORT - NO puede ordenar elementos de diferentes tipos\n",
        "numeros = [\"12\", \"b\", \"3\", \"a\", \"g\", \"#\", \"1000\", 10]  # Lista con elementos mixtos (str e int)\n",
        "\n",
        "try:\n",
        "    numeros.sort()  # Intento de ordenamiento\n",
        "    print(numeros)\n",
        "except TypeError as e:\n",
        "    print(\"Error al ordenar la lista:\", e)  # Captura y muestra el error\n"
      ],
      "metadata": {
        "id": "b7dc0dB7PZOx",
        "colab": {
          "base_uri": "https://localhost:8080/"
        },
        "outputId": "4e40f0d2-91a6-44a1-b7e1-f2f97aeea2b3"
      },
      "execution_count": 32,
      "outputs": [
        {
          "output_type": "stream",
          "name": "stdout",
          "text": [
            "Error al ordenar la lista: '<' not supported between instances of 'int' and 'str'\n"
          ]
        }
      ]
    },
    {
      "cell_type": "code",
      "source": [
        "# Lista original con elementos de diferentes tipos (cadenas y un entero)\n",
        "numeros = [\"12\", \"b\", \"3\", \"a\", \"g\", \"#\", \"1000\", 10]\n",
        "\n",
        "# Convertir todos los elementos de la lista a cadenas utilizando una comprensión de lista\n",
        "# Esto asegura que todos los elementos sean del mismo tipo, lo que permite ordenarlos\n",
        "numeros = [str(elemento) for elemento in numeros]\n",
        "\n",
        "# Ordenar la lista (por defecto, en orden ascendente alfabético)\n",
        "numeros.sort()\n",
        "\n",
        "# Imprimir la lista ya ordenada\n",
        "print(\"Lista ordenada:\", numeros)\n"
      ],
      "metadata": {
        "colab": {
          "base_uri": "https://localhost:8080/"
        },
        "id": "NV0DNjTyYqMP",
        "outputId": "1fcca7f4-936f-43bd-f978-409dc0df64b5"
      },
      "execution_count": 33,
      "outputs": [
        {
          "output_type": "stream",
          "name": "stdout",
          "text": [
            "Lista ordenada: ['#', '10', '1000', '12', '3', 'a', 'b', 'g']\n"
          ]
        }
      ]
    },
    {
      "cell_type": "markdown",
      "source": [
        "##Colecciones 1\n",
        "Transforma el texto!<br>\n",
        "Descripción de la actividad.<br>\n",
        "\n",
        "Utilizando todo lo que sabes sobre cadenas, listas y sus métodos internos, transforma este texto:\n",
        "</ul>\n",
        "<li>gordon lanzó su curva&strawberry ha fallado por un pie!\n",
        "<li>-gritó Joe Castiglione&dos pies\n",
        "<li>-le corrigió Troop&strawberry menea la cabeza como disgustado…\n",
        "<li>-agrega el comentarista\n",
        "</ul>\n",
        "<br>\n",
        "Transforma el texto en:\n",
        "<br>\n",
        "<ul>\n",
        "Gordon lanzó su curva...\n",
        "<li>- Strawberry ha fallado por un pie! -gritó Joe Castiglione.\n",
        "<li>- Dos pies -le corrigió Troop.\n",
        "<li>- Strawberry menea la cabeza como disgustado… -agrega el comentarista.\n",
        "</ul>\n",
        "Lo único prohibido es modificar directamente el texto\n"
      ],
      "metadata": {
        "id": "cOpfIUEAZF9-"
      }
    },
    {
      "cell_type": "code",
      "source": [
        "texto = \"gordon lanzó su curva&strawberry ha fallado por un pie! -gritó Joe Castiglione&dos pies -le corrigió Troop&strawberry menea la cabeza como disgustado… -agrega el comentarista\"\n",
        "#print(texto)\n",
        "\n",
        "\n",
        "texto2 = texto.replace(\"&\", \"\\n\")\n",
        "#print(texto2)\n",
        "texto3= texto2[0].upper() + texto2[1:]\n",
        "print(texto3)"
      ],
      "metadata": {
        "colab": {
          "base_uri": "https://localhost:8080/"
        },
        "id": "IRKGfaLhTKnV",
        "outputId": "9ae49124-43e0-4223-d43d-8b908ae54d77"
      },
      "execution_count": 34,
      "outputs": [
        {
          "output_type": "stream",
          "name": "stdout",
          "text": [
            "Gordon lanzó su curva\n",
            "strawberry ha fallado por un pie! -gritó Joe Castiglione\n",
            "dos pies -le corrigió Troop\n",
            "strawberry menea la cabeza como disgustado… -agrega el comentarista\n"
          ]
        }
      ]
    },
    {
      "cell_type": "code",
      "source": [
        "# ¿sorted?"
      ],
      "metadata": {
        "id": "WxgKbCH4u54T"
      },
      "execution_count": 35,
      "outputs": []
    },
    {
      "cell_type": "markdown",
      "source": [
        "# Métodos de Conjuntos"
      ],
      "metadata": {
        "id": "U6N7sult5Udo"
      }
    },
    {
      "cell_type": "code",
      "source": [
        "# COPY - Crear una copia de un conjunto (set)\n",
        "\n",
        "# Definimos un conjunto llamado `mi_set` con algunos elementos\n",
        "mi_set = {1, 2, 3, 4, 5}\n",
        "\n",
        "# Creamos una copia del conjunto `mi_set` y la almacenamos en `set_2`\n",
        "set_2 = mi_set.copy()\n",
        "\n",
        "# Imprimimos el conjunto original\n",
        "print(\"Conjunto original:\", mi_set)\n",
        "\n",
        "# Imprimimos la copia del conjunto\n",
        "print(\"Copia del conjunto:\", set_2)\n"
      ],
      "metadata": {
        "id": "jDXbveQl5XU8",
        "colab": {
          "base_uri": "https://localhost:8080/"
        },
        "outputId": "bc0ec7e9-c4c2-4d54-c487-9e55c13f48b6"
      },
      "execution_count": 36,
      "outputs": [
        {
          "output_type": "stream",
          "name": "stdout",
          "text": [
            "Conjunto original: {1, 2, 3, 4, 5}\n",
            "Copia del conjunto: {1, 2, 3, 4, 5}\n"
          ]
        }
      ]
    },
    {
      "cell_type": "code",
      "source": [
        "# ISDISJOINT - Verificar si dos conjuntos no tienen elementos en común\n",
        "\n",
        "# Definimos un conjunto llamado `mi_set` con algunos elementos\n",
        "mi_set = {1, 2, 3, 4, 5}\n",
        "\n",
        "# Definimos otro conjunto llamado `set_3` con algunos elementos\n",
        "set_3 = {6, 7, 8}\n",
        "\n",
        "# Usamos el método `isdisjoint()` para verificar si los conjuntos no tienen elementos comunes\n",
        "resultado = mi_set.isdisjoint(set_3)\n",
        "\n",
        "# Imprimimos el resultado\n",
        "print(resultado)\n"
      ],
      "metadata": {
        "id": "GtyskeiR5qfJ",
        "colab": {
          "base_uri": "https://localhost:8080/"
        },
        "outputId": "f24426d8-af79-4a4b-9127-0c7c665b56de"
      },
      "execution_count": 37,
      "outputs": [
        {
          "output_type": "stream",
          "name": "stdout",
          "text": [
            "True\n"
          ]
        }
      ]
    },
    {
      "cell_type": "code",
      "source": [
        "# ISDISJOINT - Verificar si dos conjuntos no tienen elementos en común\n",
        "\n",
        "# Definimos un conjunto llamado `mi_set` con algunos elementos\n",
        "mi_set = {1, 2, 3, 4, 5}\n",
        "\n",
        "# Definimos otro conjunto llamado `set_4` con algunos elementos\n",
        "set_4 = {6, 3, 8}\n",
        "\n",
        "# Usamos el método `isdisjoint()` para verificar si los conjuntos no tienen elementos comunes\n",
        "resultado = mi_set.isdisjoint(set_4)\n",
        "\n",
        "# Imprimimos el resultado\n",
        "print(resultado)\n"
      ],
      "metadata": {
        "id": "XC3vK8sJ6TAp",
        "colab": {
          "base_uri": "https://localhost:8080/"
        },
        "outputId": "ca1c12fb-6c00-46cc-b237-da417e3ae460"
      },
      "execution_count": 38,
      "outputs": [
        {
          "output_type": "stream",
          "name": "stdout",
          "text": [
            "False\n"
          ]
        }
      ]
    },
    {
      "cell_type": "code",
      "source": [
        "# ISSUBSET - Verificar si un conjunto es subconjunto de otro\n",
        "\n",
        "# Definimos un conjunto llamado `mi_set` con algunos elementos\n",
        "mi_set = {1, 2, 3, 4, 5}\n",
        "\n",
        "# Definimos otro conjunto llamado `set_5` con algunos elementos\n",
        "set_5 = {1, 2, 3}\n",
        "\n",
        "# Usamos el método `issubset()` para verificar si `set_5` es un subconjunto de `mi_set`\n",
        "resultado = set_5.issubset(mi_set)\n",
        "\n",
        "# Imprimimos el resultado\n",
        "print(resultado)\n"
      ],
      "metadata": {
        "id": "FoEH_QZM6aAp",
        "colab": {
          "base_uri": "https://localhost:8080/"
        },
        "outputId": "0a4839af-6cb1-4eb1-a6de-6a4fb1362430"
      },
      "execution_count": 39,
      "outputs": [
        {
          "output_type": "stream",
          "name": "stdout",
          "text": [
            "True\n"
          ]
        }
      ]
    },
    {
      "cell_type": "code",
      "source": [
        "# ISSUPERSET - Verificar si un conjunto es superconjunto de otro\n",
        "\n",
        "# Definimos un conjunto llamado `mi_set` con algunos elementos\n",
        "mi_set = {1, 2, 3, 4, 5}\n",
        "\n",
        "# Definimos otro conjunto llamado `set_5` con algunos elementos\n",
        "set_5 = {6, 3, 8}\n",
        "\n",
        "# Usamos el método `issuperset()` para verificar si `mi_set` es un superconjunto de `set_5`\n",
        "resultado = mi_set.issuperset(set_5)\n",
        "\n",
        "# Imprimimos el resultado\n",
        "print(resultado)\n"
      ],
      "metadata": {
        "id": "I70OMRK87VwY",
        "colab": {
          "base_uri": "https://localhost:8080/"
        },
        "outputId": "93541f16-da63-492f-8fb5-823a4b92a57b"
      },
      "execution_count": 40,
      "outputs": [
        {
          "output_type": "stream",
          "name": "stdout",
          "text": [
            "False\n"
          ]
        }
      ]
    },
    {
      "cell_type": "code",
      "source": [
        "# ISSUPERSET - Verificar si un conjunto es superconjunto de otro\n",
        "\n",
        "# Definimos un conjunto llamado `mi_set` con algunos elementos\n",
        "mi_set = {1, 2, 3, 4, 5}\n",
        "\n",
        "# Definimos otro conjunto llamado `set_5` con algunos elementos\n",
        "set_5 = {1, 2, 3}\n",
        "\n",
        "# Usamos el método `issuperset()` para verificar si `mi_set` es un superconjunto de `set_5`\n",
        "resultado = mi_set.issuperset(set_5)\n",
        "\n",
        "# Imprimimos el resultado\n",
        "print(resultado)\n"
      ],
      "metadata": {
        "id": "ax2-lqjx9h29",
        "colab": {
          "base_uri": "https://localhost:8080/"
        },
        "outputId": "059e97ff-0a2c-490f-8719-c98ed95cba61"
      },
      "execution_count": 41,
      "outputs": [
        {
          "output_type": "stream",
          "name": "stdout",
          "text": [
            "True\n"
          ]
        }
      ]
    },
    {
      "cell_type": "code",
      "source": [
        "# UNION (T) - Combina dos conjuntos\n",
        "\n",
        "# Definimos el primer conjunto llamado `set_6`\n",
        "set_6 = {1, 2, 3}\n",
        "\n",
        "# Definimos el segundo conjunto llamado `set_7`\n",
        "set_7 = {3, 4, 5}\n",
        "\n",
        "# Usamos el método `union()` para combinar `set_6` y `set_7`\n",
        "# El resultado será un nuevo conjunto que contiene todos los elementos de ambos conjuntos sin duplicados\n",
        "set_8 = set_6.union(set_7)\n",
        "\n",
        "# Imprimimos los conjuntos originales y el conjunto combinado\n",
        "print(\"Conjunto 6:\", set_6)\n",
        "print(\"Conjunto 7:\", set_7)\n",
        "print(\"Unión de ambos conjuntos:\", set_8)\n"
      ],
      "metadata": {
        "id": "Nm60yuLO9xdc",
        "colab": {
          "base_uri": "https://localhost:8080/"
        },
        "outputId": "d0a45fef-7bea-4f13-9439-7a9051f899b2"
      },
      "execution_count": 42,
      "outputs": [
        {
          "output_type": "stream",
          "name": "stdout",
          "text": [
            "Conjunto 6: {1, 2, 3}\n",
            "Conjunto 7: {3, 4, 5}\n",
            "Unión de ambos conjuntos: {1, 2, 3, 4, 5}\n"
          ]
        }
      ]
    },
    {
      "cell_type": "code",
      "source": [
        "# DIFFERENCE - Encuentra los elementos que están en un conjunto pero no en otro\n",
        "\n",
        "# Definimos el primer conjunto llamado `mi_set`\n",
        "mi_set = {1, 2, 3, 4, 5}\n",
        "\n",
        "# Definimos el segundo conjunto llamado `set_9`\n",
        "set_9 = {4, 5, 6, 7, 8}\n",
        "\n",
        "# Usamos el método `difference()` para encontrar los elementos que están en `mi_set` pero no en `set_9`\n",
        "set_10 = mi_set.difference(set_9)\n",
        "\n",
        "# Imprimimos los conjuntos originales y el resultado\n",
        "print(\"Conjunto 1:\", mi_set)\n",
        "print(\"Conjunto 2:\", set_9)\n",
        "print(\"Diferencia (elementos en mi_set pero no en set_9):\", set_10)\n"
      ],
      "metadata": {
        "id": "ljRnm_gW-1wL",
        "colab": {
          "base_uri": "https://localhost:8080/"
        },
        "outputId": "a3d2ee2e-b5b2-48d3-b2d8-24a2f2048947"
      },
      "execution_count": 43,
      "outputs": [
        {
          "output_type": "stream",
          "name": "stdout",
          "text": [
            "Conjunto 1: {1, 2, 3, 4, 5}\n",
            "Conjunto 2: {4, 5, 6, 7, 8}\n",
            "Diferencia (elementos en mi_set pero no en set_9): {1, 2, 3}\n"
          ]
        }
      ]
    },
    {
      "cell_type": "code",
      "source": [
        "# DIFFERENCE UPDATE - Elimina los elementos que están en el segundo conjunto del primero\n",
        "\n",
        "# Definimos el primer conjunto llamado `set_9`\n",
        "set_9 = {1, 2, 3, 4, 5}\n",
        "\n",
        "# Definimos el segundo conjunto llamado `set_10`\n",
        "set_10 = {4, 5, 6, 7, 8}\n",
        "\n",
        "# Usamos el método `difference_update()` para eliminar de `set_9` los elementos que están en `set_10`\n",
        "set_9.difference_update(set_10)\n",
        "\n",
        "# Imprimimos los conjuntos después de aplicar `difference_update()`\n",
        "print(\"Conjunto 9 después de difference_update:\", set_9)\n",
        "print(\"Conjunto 10:\", set_10)\n"
      ],
      "metadata": {
        "id": "YM5mZqFrIVKP",
        "colab": {
          "base_uri": "https://localhost:8080/"
        },
        "outputId": "f5c46009-7499-474c-9e8b-7231eb288027"
      },
      "execution_count": 44,
      "outputs": [
        {
          "output_type": "stream",
          "name": "stdout",
          "text": [
            "Conjunto 9 después de difference_update: {1, 2, 3}\n",
            "Conjunto 10: {4, 5, 6, 7, 8}\n"
          ]
        }
      ]
    },
    {
      "cell_type": "code",
      "source": [
        "# INTERSECTION - Encuentra los elementos comunes entre dos conjuntos\n",
        "\n",
        "# Definimos el primer conjunto llamado `set_11`\n",
        "set_11 = {1, 2, 3, 4, 5}\n",
        "\n",
        "# Definimos el segundo conjunto llamado `set_12`\n",
        "set_12 = {4, 5, 6, 7, 8}\n",
        "\n",
        "# Usamos el método `intersection()` para encontrar los elementos comunes entre `set_11` y `set_12`\n",
        "set_13 = set_11.intersection(set_12)\n",
        "\n",
        "# Imprimimos el conjunto resultante\n",
        "print(\"Elementos comunes entre set_11 y set_12:\", set_13)\n"
      ],
      "metadata": {
        "id": "wnoxx-GxJrOR",
        "colab": {
          "base_uri": "https://localhost:8080/"
        },
        "outputId": "007c64cd-0158-484e-e771-86538cda9035"
      },
      "execution_count": 45,
      "outputs": [
        {
          "output_type": "stream",
          "name": "stdout",
          "text": [
            "Elementos comunes entre set_11 y set_12: {4, 5}\n"
          ]
        }
      ]
    },
    {
      "cell_type": "code",
      "source": [
        "# INTERSECTION UPDATE - Actualiza el conjunto con los elementos comunes entre dos conjuntos\n",
        "\n",
        "# Definimos el primer conjunto llamado `set_11`\n",
        "set_11 = {1, 2, 3, 4, 5}\n",
        "\n",
        "# Definimos el segundo conjunto llamado `set_12`\n",
        "set_12 = {4, 5, 6, 7, 8}\n",
        "\n",
        "# Usamos el método `intersection_update()` para actualizar `set_11` con los elementos comunes entre `set_11` y `set_12`\n",
        "set_11.intersection_update(set_12)\n",
        "\n",
        "# Imprimimos los conjuntos actualizados\n",
        "print(\"Conjunto actualizado set_11:\", set_11)\n",
        "print(\"Conjunto original set_12:\", set_12)\n"
      ],
      "metadata": {
        "id": "dhj7RAiQKBLx",
        "colab": {
          "base_uri": "https://localhost:8080/"
        },
        "outputId": "d6caf57d-1503-42d6-d487-ea483f11dcb1"
      },
      "execution_count": 46,
      "outputs": [
        {
          "output_type": "stream",
          "name": "stdout",
          "text": [
            "Conjunto actualizado set_11: {4, 5}\n",
            "Conjunto original set_12: {4, 5, 6, 7, 8}\n"
          ]
        }
      ]
    },
    {
      "cell_type": "markdown",
      "source": [
        "## EJERCICIO"
      ],
      "metadata": {
        "id": "k8cZxgDUMIqi"
      }
    },
    {
      "cell_type": "markdown",
      "source": [
        "###Ejemplo 1"
      ],
      "metadata": {
        "id": "RwH-Q1Mnu-7h"
      }
    },
    {
      "cell_type": "code",
      "source": [
        "my_set_1 = set([1, 2, 3])\n",
        "my_set_2 = set([3, 4, 5])\n",
        "my_new_set = my_set_1.union(my_set_2)\n",
        "print(my_new_set)"
      ],
      "metadata": {
        "id": "Amsny35pu77z",
        "colab": {
          "base_uri": "https://localhost:8080/"
        },
        "outputId": "1c2ade91-854a-457c-99e7-9e24ccf4792a"
      },
      "execution_count": 47,
      "outputs": [
        {
          "output_type": "stream",
          "name": "stdout",
          "text": [
            "{1, 2, 3, 4, 5}\n"
          ]
        }
      ]
    },
    {
      "cell_type": "markdown",
      "source": [
        "###Ejemplo 2"
      ],
      "metadata": {
        "id": "dySCeGhRvHgv"
      }
    },
    {
      "cell_type": "code",
      "source": [
        "my_set_1 = set([1, 2, 3])\n",
        "my_set_2 = set([3, 4, 5])\n",
        "my_new_set = my_set_1.intersection(my_set_2)\n",
        "print(my_new_set)"
      ],
      "metadata": {
        "id": "h288QmvUvK3Q",
        "colab": {
          "base_uri": "https://localhost:8080/"
        },
        "outputId": "b9ed2590-d4df-4c09-e613-f1c0bc85e471"
      },
      "execution_count": 48,
      "outputs": [
        {
          "output_type": "stream",
          "name": "stdout",
          "text": [
            "{3}\n"
          ]
        }
      ]
    },
    {
      "cell_type": "markdown",
      "source": [
        "###Ejemplo 3"
      ],
      "metadata": {
        "id": "W4X-1u-mvNl8"
      }
    },
    {
      "cell_type": "code",
      "source": [
        "my_set_1 = set([1, 2, 3])\n",
        "my_set_2 = set([3, 4, 5])\n",
        "my_new_set = my_set_1.difference(my_set_2)\n",
        "print(my_new_set)"
      ],
      "metadata": {
        "id": "UIGzrkOGvP8i",
        "colab": {
          "base_uri": "https://localhost:8080/"
        },
        "outputId": "ea418948-26f2-4e6d-8215-a4982f86d03d"
      },
      "execution_count": 49,
      "outputs": [
        {
          "output_type": "stream",
          "name": "stdout",
          "text": [
            "{1, 2}\n"
          ]
        }
      ]
    },
    {
      "cell_type": "markdown",
      "source": [
        "# Métodos de Diccionarios"
      ],
      "metadata": {
        "id": "hdaMIIGVKZjz"
      }
    },
    {
      "cell_type": "code",
      "source": [
        "# Buscar un valor que no existe genera un error\n",
        "colores = {\n",
        "    \"amarillo\":\"yellow\",\n",
        "    \"azul\":\"blue\",\n",
        "    \"verde\":\"green\"\n",
        "}\n",
        "\n",
        "print(colores[\"rojo\"])"
      ],
      "metadata": {
        "id": "ds9CfvPM3tIs",
        "colab": {
          "base_uri": "https://localhost:8080/",
          "height": 176
        },
        "outputId": "16385003-b58a-4090-ba2f-e7c93a023558"
      },
      "execution_count": 50,
      "outputs": [
        {
          "output_type": "error",
          "ename": "KeyError",
          "evalue": "'rojo'",
          "traceback": [
            "\u001b[0;31m---------------------------------------------------------------------------\u001b[0m",
            "\u001b[0;31mKeyError\u001b[0m                                  Traceback (most recent call last)",
            "\u001b[0;32m<ipython-input-50-9ea8dca4cb12>\u001b[0m in \u001b[0;36m<cell line: 8>\u001b[0;34m()\u001b[0m\n\u001b[1;32m      6\u001b[0m }\n\u001b[1;32m      7\u001b[0m \u001b[0;34m\u001b[0m\u001b[0m\n\u001b[0;32m----> 8\u001b[0;31m \u001b[0mprint\u001b[0m\u001b[0;34m(\u001b[0m\u001b[0mcolores\u001b[0m\u001b[0;34m[\u001b[0m\u001b[0;34m\"rojo\"\u001b[0m\u001b[0;34m]\u001b[0m\u001b[0;34m)\u001b[0m\u001b[0;34m\u001b[0m\u001b[0;34m\u001b[0m\u001b[0m\n\u001b[0m",
            "\u001b[0;31mKeyError\u001b[0m: 'rojo'"
          ]
        }
      ]
    },
    {
      "cell_type": "code",
      "source": [
        "# GET - Alternativa de: colores[\"azul\"], por ejemplo\n",
        "colores = {\n",
        "    \"amarillo\":\"yellow\",\n",
        "    \"azul\":\"blue\",\n",
        "    \"verde\":\"green\"\n",
        "}\n",
        "\n",
        "\n",
        "valor_buscado = colores.get(\"verde\")\n",
        "print(valor_buscado)\n",
        "\n",
        "valor_buscado = colores.get(\"rojo\")\n",
        "print(valor_buscado)\n",
        "\n",
        "valor_buscado = colores.get(\"rojo\", \"Color no encontrado\")\n",
        "print(valor_buscado)\n",
        "\n",
        "valor_buscado = colores.get(\"azul\", \"Color no encontrado\")\n",
        "print(valor_buscado)"
      ],
      "metadata": {
        "id": "ASgZfcK3Kk9s",
        "colab": {
          "base_uri": "https://localhost:8080/"
        },
        "outputId": "282c7883-2435-451a-e116-1fac46343822"
      },
      "execution_count": 51,
      "outputs": [
        {
          "output_type": "stream",
          "name": "stdout",
          "text": [
            "green\n",
            "None\n",
            "Color no encontrado\n",
            "blue\n"
          ]
        }
      ]
    },
    {
      "cell_type": "code",
      "source": [
        "# ACCEDIENDO A SUS VALORES\n",
        "colores = {\n",
        "    \"amarillo\":\"yellow\",\n",
        "    \"azul\":\"blue\",\n",
        "    \"verde\":\"green\"\n",
        "}\n",
        "\n",
        "\n",
        "print(colores.keys())\n",
        "print(colores.values())\n",
        "print(colores.items())\n",
        "print(type(colores.keys()))\n",
        "print(type(colores.values()))\n",
        "print(type(colores.items()))"
      ],
      "metadata": {
        "id": "BnDNp0MMK4_p"
      },
      "execution_count": null,
      "outputs": []
    },
    {
      "cell_type": "code",
      "source": [
        "# KEYS\n",
        "colores = {\n",
        "    \"amarillo\":\"yellow\",\n",
        "    \"azul\":\"blue\",\n",
        "    \"verde\":\"green\"\n",
        "}\n",
        "\n",
        "\n",
        "for llave in colores.keys():\n",
        "    print(f\"Esta es la llave: {llave}\")"
      ],
      "metadata": {
        "id": "TtQlPo8gLtSq"
      },
      "execution_count": null,
      "outputs": []
    },
    {
      "cell_type": "code",
      "source": [
        "# VALUES\n",
        "colores = {\n",
        "    \"amarillo\":\"yellow\",\n",
        "    \"azul\":\"blue\",\n",
        "    \"verde\":\"green\"\n",
        "}\n",
        "\n",
        "\n",
        "for valor in colores.values():\n",
        "    print(f\"Este es el valor: {valor}\")"
      ],
      "metadata": {
        "id": "RcjBugGRMMd6"
      },
      "execution_count": null,
      "outputs": []
    },
    {
      "cell_type": "code",
      "source": [
        "# ITEMS\n",
        "colores = {\n",
        "    \"amarillo\":\"yellow\",\n",
        "    \"azul\":\"blue\",\n",
        "    \"verde\":\"green\"\n",
        "}\n",
        "\n",
        "\n",
        "for item in colores.items():\n",
        "    print(item)"
      ],
      "metadata": {
        "id": "_-015CPvMc3p"
      },
      "execution_count": null,
      "outputs": []
    },
    {
      "cell_type": "code",
      "source": [
        "colores = {\n",
        "    \"amarillo\":\"yellow\",\n",
        "    \"azul\":\"blue\",\n",
        "    \"verde\":\"green\"\n",
        "}\n",
        "\n",
        "\n",
        "for llave, valor in colores.items():\n",
        "    print(f\"Llave: {llave} - Valor: {valor}\")"
      ],
      "metadata": {
        "id": "mrvILuSdMre2"
      },
      "execution_count": null,
      "outputs": []
    }
  ]
}