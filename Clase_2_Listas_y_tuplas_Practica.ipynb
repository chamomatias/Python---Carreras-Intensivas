{
  "nbformat": 4,
  "nbformat_minor": 0,
  "metadata": {
    "colab": {
      "provenance": [],
      "collapsed_sections": [
        "60tlZOKmnzHd",
        "sBrUnSoqjld4",
        "fxWBrowZQAnO",
        "1STh3YX7tJnv"
      ],
      "include_colab_link": true
    },
    "kernelspec": {
      "name": "python3",
      "display_name": "Python 3"
    },
    "language_info": {
      "name": "python"
    }
  },
  "cells": [
    {
      "cell_type": "markdown",
      "metadata": {
        "id": "view-in-github",
        "colab_type": "text"
      },
      "source": [
        "<a href=\"https://colab.research.google.com/github/chamomatias/Python---Carreras-Intensivas/blob/main/Clase_2_Listas_y_tuplas_Practica.ipynb\" target=\"_parent\"><img src=\"https://colab.research.google.com/assets/colab-badge.svg\" alt=\"Open In Colab\"/></a>"
      ]
    },
    {
      "cell_type": "markdown",
      "source": [
        "# **Repaso Clase 01**"
      ],
      "metadata": {
        "id": "60tlZOKmnzHd"
      }
    },
    {
      "cell_type": "code",
      "execution_count": null,
      "metadata": {
        "id": "9cMw8rlZDfJt",
        "outputId": "af8da8f2-110c-4374-833a-cb0a253d925f",
        "colab": {
          "base_uri": "https://localhost:8080/"
        }
      },
      "outputs": [
        {
          "name": "stdout",
          "output_type": "stream",
          "text": [
            "Ingrese fecha nac: 12/07/1982\n"
          ]
        }
      ],
      "source": [
        "fecha = input(\"Ingrese fecha nac: \")"
      ]
    },
    {
      "cell_type": "code",
      "source": [
        "# Los string son inmutables, para editarlo en realidad sobrescribimos su valor\n",
        "fecha = fecha[0:3] + \"12 concatenado\" + fecha[-5:]\n",
        "print(fecha)"
      ],
      "metadata": {
        "id": "T58W46luHb3J",
        "outputId": "ad078e32-4630-4109-8e38-ee97095b6968",
        "colab": {
          "base_uri": "https://localhost:8080/"
        }
      },
      "execution_count": null,
      "outputs": [
        {
          "output_type": "stream",
          "name": "stdout",
          "text": [
            "12/12 concatenado/1982\n"
          ]
        }
      ]
    },
    {
      "cell_type": "code",
      "source": [
        "# Tanto en Colab como en la consola de Python (más adelante la vamos a conocer),\n",
        "# colocar el nombre de una variable es suficiente para imprimir su contenido o valor\n",
        "fecha"
      ],
      "metadata": {
        "id": "oR4HKXxXITqa",
        "outputId": "39d06e7f-0366-4712-90b7-0dbfc14b1769",
        "colab": {
          "base_uri": "https://localhost:8080/",
          "height": 35
        }
      },
      "execution_count": null,
      "outputs": [
        {
          "output_type": "execute_result",
          "data": {
            "text/plain": [
              "'12/12 concatenado/1982'"
            ],
            "application/vnd.google.colaboratory.intrinsic+json": {
              "type": "string"
            }
          },
          "metadata": {},
          "execution_count": 53
        }
      ]
    },
    {
      "cell_type": "code",
      "source": [
        "# Extraemos el mes de la fecha inicial y lo guardamos en la variable \"mes\"\n",
        "mes = fecha[3:5]\n",
        "print(fecha[3:5])\n",
        "print(mes)\n",
        "print(int(mes))"
      ],
      "metadata": {
        "id": "NgykihUzIXJR",
        "outputId": "0743b144-d946-46a1-cb56-b6d33702de49",
        "colab": {
          "base_uri": "https://localhost:8080/"
        }
      },
      "execution_count": null,
      "outputs": [
        {
          "output_type": "stream",
          "name": "stdout",
          "text": [
            "12\n",
            "12\n",
            "12\n"
          ]
        }
      ]
    },
    {
      "cell_type": "markdown",
      "source": [
        "# **Clase 02 - Listas y tuplas**"
      ],
      "metadata": {
        "id": "N6CJ8HLDpD9h"
      }
    },
    {
      "cell_type": "markdown",
      "source": [
        "## **Listas**"
      ],
      "metadata": {
        "id": "UQoR0niyt6iU"
      }
    },
    {
      "cell_type": "markdown",
      "source": [
        "### Generales"
      ],
      "metadata": {
        "id": "sBrUnSoqjld4"
      }
    },
    {
      "cell_type": "markdown",
      "source": [
        "Las listas nos permite guardar muchos datos bajo un mismo nombre, luego podemos acceder a todos ellos mediante el nombre de la lista, pero también podemos acceder a cada dato de manera individual mediante el nombre de la lista y un índice."
      ],
      "metadata": {
        "id": "Xt4I6QCJpZnN"
      }
    },
    {
      "cell_type": "code",
      "source": [
        "# Creamos una lista\n",
        "\"\"\"\n",
        "Aca tenemos un comentario largo\n",
        "con varias líneas de texto\n",
        "\"\"\"\n",
        "edades = [20, 30, 15, 20]"
      ],
      "metadata": {
        "id": "KA6DdePSIuKx"
      },
      "execution_count": null,
      "outputs": []
    },
    {
      "cell_type": "code",
      "source": [
        "# Accedemos al dato que se encuentra en la posición 2 de la lista.\n",
        "# Recordar que las posiciones en las listas se inician a contar desde 0.\n",
        "print(edades[2])"
      ],
      "metadata": {
        "id": "gP5KAcDwNgeI",
        "outputId": "ac6da28a-4423-4135-affa-ea8b36b8ac84",
        "colab": {
          "base_uri": "https://localhost:8080/"
        }
      },
      "execution_count": null,
      "outputs": [
        {
          "output_type": "stream",
          "name": "stdout",
          "text": [
            "15\n"
          ]
        }
      ]
    },
    {
      "cell_type": "code",
      "source": [
        "# Las listas son heterogéneas, cada dato es individual sin la necesidad de tener\n",
        "# que respetar un tipo de dato:\n",
        "# datos_conzalo = [int, str, float]\n",
        "datos_gonzalo = [20, \"Labra\", 75.8]\n",
        "print(datos_gonzalo)"
      ],
      "metadata": {
        "id": "yeBs-ix-Nzfc",
        "outputId": "4336c5fd-8dd4-49c6-b3c1-f5610fa47d69",
        "colab": {
          "base_uri": "https://localhost:8080/"
        }
      },
      "execution_count": null,
      "outputs": [
        {
          "output_type": "stream",
          "name": "stdout",
          "text": [
            "[20, 'Labra', 75.8]\n"
          ]
        }
      ]
    },
    {
      "cell_type": "code",
      "source": [
        "# Accedemos a la posición 2 de la lista y lo guardamos en una nueva variable\n",
        "peso = datos_gonzalo[2]\n",
        "print(peso)\n",
        "lista_nueva = [peso]\n",
        "print(lista_nueva)"
      ],
      "metadata": {
        "id": "TUKNt-e4N-ev",
        "outputId": "d2932e5e-39de-42f4-c94c-e7ea7e059553",
        "colab": {
          "base_uri": "https://localhost:8080/"
        }
      },
      "execution_count": null,
      "outputs": [
        {
          "output_type": "stream",
          "name": "stdout",
          "text": [
            "75.8\n",
            "[75.8]\n"
          ]
        }
      ]
    },
    {
      "cell_type": "code",
      "source": [
        "datos_gonzalo[1] = \"Juan\"\n",
        "print(datos_gonzalo)"
      ],
      "metadata": {
        "id": "uyzy-8CKCNRA",
        "outputId": "bf07b61e-c159-473f-8a80-df790191a6f5",
        "colab": {
          "base_uri": "https://localhost:8080/"
        }
      },
      "execution_count": null,
      "outputs": [
        {
          "output_type": "stream",
          "name": "stdout",
          "text": [
            "[20, 'Juan', 75.8]\n"
          ]
        }
      ]
    },
    {
      "cell_type": "code",
      "source": [
        "# Listas anidadas\n",
        "listas_anidadas = [\"string\", [\"Labra\", \"Segarra\"], 75.8]\n",
        "print(listas_anidadas)"
      ],
      "metadata": {
        "id": "8MAmx2mNOXfg",
        "outputId": "fe64c5e4-fb5f-48e1-9375-98fd65845d90",
        "colab": {
          "base_uri": "https://localhost:8080/"
        }
      },
      "execution_count": null,
      "outputs": [
        {
          "output_type": "stream",
          "name": "stdout",
          "text": [
            "['string', ['Labra', 'Segarra'], 75.8]\n"
          ]
        }
      ]
    },
    {
      "cell_type": "markdown",
      "source": [
        "A continuación diferentes formas de acceder a los datos de las listas, aunque una mejor forma de llamarlos es \"elementos\" de la lista."
      ],
      "metadata": {
        "id": "jO7qe_Mbq-h-"
      }
    },
    {
      "cell_type": "code",
      "source": [
        "datos_g = [[1,2,3], [\"Linus\", \"Torvalds\"], 7, 8.5, \"nueve\"]"
      ],
      "metadata": {
        "id": "Zzb3p8eJovoU"
      },
      "execution_count": null,
      "outputs": []
    },
    {
      "cell_type": "code",
      "source": [
        "datos_g[1]"
      ],
      "metadata": {
        "id": "M6Wew3XdOysR",
        "outputId": "7c4bb289-68cb-4748-f287-7a6e4eaa40dd",
        "colab": {
          "base_uri": "https://localhost:8080/"
        }
      },
      "execution_count": null,
      "outputs": [
        {
          "output_type": "execute_result",
          "data": {
            "text/plain": [
              "['Linus', 'Torvalds']"
            ]
          },
          "metadata": {},
          "execution_count": 62
        }
      ]
    },
    {
      "cell_type": "code",
      "source": [
        "datos_g[0][1]"
      ],
      "metadata": {
        "id": "0rd7tGpjPF2c",
        "outputId": "0ad8b8e4-74b4-44bb-cf30-018d8f4ec162",
        "colab": {
          "base_uri": "https://localhost:8080/"
        }
      },
      "execution_count": null,
      "outputs": [
        {
          "output_type": "execute_result",
          "data": {
            "text/plain": [
              "2"
            ]
          },
          "metadata": {},
          "execution_count": 63
        }
      ]
    },
    {
      "cell_type": "code",
      "source": [
        "datos_g[1][1][1]"
      ],
      "metadata": {
        "id": "vGhJZIGSPWVj",
        "outputId": "0fb0fa94-9de1-456f-c8c4-184f88cd3580",
        "colab": {
          "base_uri": "https://localhost:8080/",
          "height": 35
        }
      },
      "execution_count": null,
      "outputs": [
        {
          "output_type": "execute_result",
          "data": {
            "text/plain": [
              "'o'"
            ],
            "application/vnd.google.colaboratory.intrinsic+json": {
              "type": "string"
            }
          },
          "metadata": {},
          "execution_count": 64
        }
      ]
    },
    {
      "cell_type": "code",
      "source": [
        "datos_g[2:2]"
      ],
      "metadata": {
        "id": "fngQVElNPNid",
        "outputId": "b1454f1c-3741-47a1-feac-8e37c2d7eb0d",
        "colab": {
          "base_uri": "https://localhost:8080/"
        }
      },
      "execution_count": null,
      "outputs": [
        {
          "output_type": "execute_result",
          "data": {
            "text/plain": [
              "[]"
            ]
          },
          "metadata": {},
          "execution_count": 65
        }
      ]
    },
    {
      "cell_type": "code",
      "source": [
        "datos_g[1][0][-3:]"
      ],
      "metadata": {
        "id": "Tq6zr3FyPrVL",
        "outputId": "cbb8ad92-d968-4763-91c8-c08d0048d637",
        "colab": {
          "base_uri": "https://localhost:8080/",
          "height": 35
        }
      },
      "execution_count": null,
      "outputs": [
        {
          "output_type": "execute_result",
          "data": {
            "text/plain": [
              "'nus'"
            ],
            "application/vnd.google.colaboratory.intrinsic+json": {
              "type": "string"
            }
          },
          "metadata": {},
          "execution_count": 66
        }
      ]
    },
    {
      "cell_type": "code",
      "source": [
        "# Diferencia entre listas y strings: Mutables e inmutables\n",
        "lista = [\"c\", \"a\", \"d\", \"e\", \"n\", \"a\"]\n",
        "cadena = \"cadena\"\n",
        "\n",
        "print(f\"imprimimos lista: {lista}\")\n",
        "print(f\"imprimimos cadena: {cadena}\")\n",
        "\n",
        "print(\"---------\")\n",
        "\n",
        "print(f\"tipo de dato de lista: {type(lista)}\")\n",
        "print(f\"tipo de dato de lista: {type(cadena)}\")\n",
        "\n",
        "print(\"---------\")\n",
        "\n",
        "print(\"ahora cambiamos en la lista el elemento que está en el orden 0\")\n",
        "\n",
        "print(\"---------\")\n",
        "\n",
        "lista[0] = \"Cambio el elemento\"\n",
        "#cadena[0] = \"C\" esto rompe el codigo. La lista es mutable\n",
        "\n",
        "print(lista)"
      ],
      "metadata": {
        "id": "PYWM2mJpAJ3f",
        "outputId": "d047f392-29dd-4c6d-9199-900187e6c1b6",
        "colab": {
          "base_uri": "https://localhost:8080/"
        }
      },
      "execution_count": null,
      "outputs": [
        {
          "output_type": "stream",
          "name": "stdout",
          "text": [
            "imprimimos lista: ['c', 'a', 'd', 'e', 'n', 'a']\n",
            "imprimimos cadena: cadena\n",
            "---------\n",
            "tipo de dato de lista: <class 'list'>\n",
            "tipo de dato de lista: <class 'str'>\n",
            "---------\n",
            "ahora cambiamos en la lista el elemento que está en el orden 0\n",
            "---------\n",
            "['Cambio el elemento', 'a', 'd', 'e', 'n', 'a']\n"
          ]
        }
      ]
    },
    {
      "cell_type": "markdown",
      "source": [
        "### Operaciones con listas"
      ],
      "metadata": {
        "id": "f08STCIerQ3S"
      }
    },
    {
      "cell_type": "code",
      "source": [
        "lista_nueva = [1, 2, 3]\n",
        "segunda_lista = [4, 5, 6]"
      ],
      "metadata": {
        "id": "vhOttCGvQXt5"
      },
      "execution_count": null,
      "outputs": []
    },
    {
      "cell_type": "code",
      "source": [
        "# Sumar listas, las concatena generando una nueva con el contenido de ambas\n",
        "tercera_lista = lista_nueva + segunda_lista\n",
        "print(tercera_lista)\n",
        "\n",
        "# lista_nueva = lista_nueva + segunda_lista\n",
        "# lista_nueva += segunda_lista"
      ],
      "metadata": {
        "id": "nWX1KuqVQeQJ",
        "colab": {
          "base_uri": "https://localhost:8080/"
        },
        "outputId": "89956d12-86cd-487c-9236-810e12ee3f66"
      },
      "execution_count": null,
      "outputs": [
        {
          "output_type": "stream",
          "name": "stdout",
          "text": [
            "[1, 2, 3, 4, 5, 6]\n"
          ]
        }
      ]
    },
    {
      "cell_type": "code",
      "source": [
        "# A diferencia del str que es inmutable, en las listas podemos modificar el\n",
        "# valor de un solo elemento\n",
        "tercera_lista[1] = \"dos\"\n",
        "print(tercera_lista)"
      ],
      "metadata": {
        "id": "JeLLoCUkQj02",
        "colab": {
          "base_uri": "https://localhost:8080/"
        },
        "outputId": "8105ca1e-a08e-4914-cc3e-56b155bb8091"
      },
      "execution_count": null,
      "outputs": [
        {
          "output_type": "stream",
          "name": "stdout",
          "text": [
            "[1, 'dos', 3, 4, 5, 6]\n"
          ]
        }
      ]
    },
    {
      "cell_type": "code",
      "source": [
        "# Podemos reemplazar varios valores en simultáneo\n",
        "tercera_lista[:3] = [\"uno\", \"dos\", \"tres\"]\n",
        "print(tercera_lista)"
      ],
      "metadata": {
        "id": "reMxQT4crxm6",
        "colab": {
          "base_uri": "https://localhost:8080/"
        },
        "outputId": "dcb57c21-811d-4043-9ce5-29578c55f80f"
      },
      "execution_count": null,
      "outputs": [
        {
          "output_type": "stream",
          "name": "stdout",
          "text": [
            "['uno', 'dos', 'tres', 4, 5, 6]\n"
          ]
        }
      ]
    },
    {
      "cell_type": "code",
      "source": [
        "# Podemos reemplazar varios valores por uno sólo\n",
        "tercera_lista[:3] = [\"0\"]\n",
        "print(tercera_lista)"
      ],
      "metadata": {
        "id": "F1hEYkAfRaEH",
        "colab": {
          "base_uri": "https://localhost:8080/"
        },
        "outputId": "5c6d8f94-2f4b-479f-d8ca-e122248bfa47"
      },
      "execution_count": null,
      "outputs": [
        {
          "output_type": "stream",
          "name": "stdout",
          "text": [
            "['0', 4, 5, 6]\n"
          ]
        }
      ]
    },
    {
      "cell_type": "code",
      "source": [
        "# Podemos reemplazar varios valores por uno sólo\n",
        "tercera_lista[:3] = \"0\"\n",
        "print(tercera_lista)"
      ],
      "metadata": {
        "id": "Zi9-cWIvfCt2",
        "colab": {
          "base_uri": "https://localhost:8080/"
        },
        "outputId": "2f315e0c-ba4d-40aa-ff48-b3365581737a"
      },
      "execution_count": null,
      "outputs": [
        {
          "output_type": "stream",
          "name": "stdout",
          "text": [
            "['0', 6]\n"
          ]
        }
      ]
    },
    {
      "cell_type": "code",
      "source": [
        "# Podemos reemplazar varios valores por uno sólo\n",
        "tercera_lista[:3] = [0]\n",
        "print(tercera_lista)"
      ],
      "metadata": {
        "id": "gzxj7SAjfPCC",
        "colab": {
          "base_uri": "https://localhost:8080/"
        },
        "outputId": "ef6102a0-c0b6-4c81-ed4d-79f91fa95dcd"
      },
      "execution_count": null,
      "outputs": [
        {
          "output_type": "stream",
          "name": "stdout",
          "text": [
            "[0]\n"
          ]
        }
      ]
    },
    {
      "cell_type": "code",
      "source": [
        "tercera_lista"
      ],
      "metadata": {
        "id": "QTDwNSIxgX0J",
        "colab": {
          "base_uri": "https://localhost:8080/"
        },
        "outputId": "8134e5e0-9a02-4278-f93b-a7e597c94d94"
      },
      "execution_count": null,
      "outputs": [
        {
          "output_type": "execute_result",
          "data": {
            "text/plain": [
              "[0]"
            ]
          },
          "metadata": {},
          "execution_count": 75
        }
      ]
    },
    {
      "cell_type": "code",
      "source": [
        "# Limpiamos el contenido de los primeros 3 elementos de la lista\n",
        "tercera_lista[:3] = []\n",
        "print(tercera_lista)"
      ],
      "metadata": {
        "id": "-VesNNVPStC4",
        "colab": {
          "base_uri": "https://localhost:8080/"
        },
        "outputId": "95879113-562e-4925-d76c-a442cb735128"
      },
      "execution_count": null,
      "outputs": [
        {
          "output_type": "stream",
          "name": "stdout",
          "text": [
            "[]\n"
          ]
        }
      ]
    },
    {
      "cell_type": "code",
      "source": [
        "# Limpiamos toda la lista, pero esta sintaxis también es utilizada para crear\n",
        "# una nueva lista vacía\n",
        "tercera_lista = []\n",
        "print(tercera_lista)\n",
        "\n",
        "# Nueva lista vacía\n",
        "nueva_lista_vacia = []\n",
        "print(nueva_lista_vacia)\n",
        "\n",
        "# Nueva lista vacía con otra sintaxis\n",
        "nueva_lista_vacia_2 = list()\n",
        "print(nueva_lista_vacia_2)"
      ],
      "metadata": {
        "id": "HSe2C3xSTQ9C",
        "colab": {
          "base_uri": "https://localhost:8080/"
        },
        "outputId": "0b21dfe9-6a4b-46de-b6d7-22024a52a9ec"
      },
      "execution_count": null,
      "outputs": [
        {
          "output_type": "stream",
          "name": "stdout",
          "text": [
            "[]\n",
            "[]\n",
            "[]\n"
          ]
        }
      ]
    },
    {
      "cell_type": "code",
      "source": [
        "# Creamos una nueva lista\n",
        "nueva_l = [1,2,3,4,2,2]\n",
        "print(nueva_l)"
      ],
      "metadata": {
        "id": "UCoujeTSTWI3",
        "colab": {
          "base_uri": "https://localhost:8080/"
        },
        "outputId": "eff9ef38-94a5-4d9b-9c15-e202b1fa4aad"
      },
      "execution_count": null,
      "outputs": [
        {
          "output_type": "stream",
          "name": "stdout",
          "text": [
            "[1, 2, 3, 4, 2, 2]\n"
          ]
        }
      ]
    },
    {
      "cell_type": "markdown",
      "source": [
        "### Funciones de listas"
      ],
      "metadata": {
        "id": "-RWW8JlytKg1"
      }
    },
    {
      "cell_type": "code",
      "source": [
        "nueva_l = []\n",
        "print(nueva_l)"
      ],
      "metadata": {
        "id": "QGRCPjwjv4F6",
        "colab": {
          "base_uri": "https://localhost:8080/"
        },
        "outputId": "848fcd1c-2b1c-4463-ee9e-7314a8c0fc09"
      },
      "execution_count": null,
      "outputs": [
        {
          "output_type": "stream",
          "name": "stdout",
          "text": [
            "[]\n"
          ]
        }
      ]
    },
    {
      "cell_type": "code",
      "source": [
        "# APPEND: Agrega datos al final de la lista\n",
        "nueva_l.append(1)\n",
        "print(nueva_l)"
      ],
      "metadata": {
        "id": "Hj_ZsPsgTcHX",
        "colab": {
          "base_uri": "https://localhost:8080/"
        },
        "outputId": "fe7211b8-7cd3-473a-8976-9837cb37c15f"
      },
      "execution_count": null,
      "outputs": [
        {
          "output_type": "stream",
          "name": "stdout",
          "text": [
            "[1]\n"
          ]
        }
      ]
    },
    {
      "cell_type": "code",
      "source": [
        "# También podemos agregar datos concatenando una lista\n",
        "# nueva_l = nueva_l + [2,3,4,5,6,7]\n",
        "nueva_l += [2,3,4,5,6,7]\n",
        "print(nueva_l)"
      ],
      "metadata": {
        "id": "CGoOgfBTx5wr",
        "colab": {
          "base_uri": "https://localhost:8080/"
        },
        "outputId": "9a10796e-a46f-4447-d31d-ab680faaa806"
      },
      "execution_count": null,
      "outputs": [
        {
          "output_type": "stream",
          "name": "stdout",
          "text": [
            "[1, 2, 3, 4, 5, 6, 7]\n"
          ]
        }
      ]
    },
    {
      "cell_type": "code",
      "source": [
        "# LEN: Devuelve la cantidad de elementos en una lista\n",
        "print(len(nueva_l))\n",
        "\n",
        "# También lo podemos almacenar en una variable y utilizarla luego\n",
        "largo = len(nueva_l)\n",
        "print(largo)"
      ],
      "metadata": {
        "id": "njqYm6mrBdZt",
        "colab": {
          "base_uri": "https://localhost:8080/"
        },
        "outputId": "630605a1-57ca-4573-af6c-eefdd6aaeb8e"
      },
      "execution_count": null,
      "outputs": [
        {
          "output_type": "stream",
          "name": "stdout",
          "text": [
            "7\n",
            "7\n"
          ]
        }
      ]
    },
    {
      "cell_type": "code",
      "source": [
        "# POP: Elimina datos del final y devuelve el elemento que se eliminó.\n",
        "nueva_l.pop()\n",
        "valor_eliminado = nueva_l.pop()\n",
        "print(nueva_l)"
      ],
      "metadata": {
        "id": "ZS3HZugLUupR",
        "colab": {
          "base_uri": "https://localhost:8080/"
        },
        "outputId": "3e0d5868-e7ec-41bf-c679-726b231cc629"
      },
      "execution_count": null,
      "outputs": [
        {
          "output_type": "stream",
          "name": "stdout",
          "text": [
            "[1, 2, 3, 4, 5]\n"
          ]
        }
      ]
    },
    {
      "cell_type": "code",
      "source": [
        "print(valor_eliminado)"
      ],
      "metadata": {
        "id": "MOTg0xvhVYzh",
        "colab": {
          "base_uri": "https://localhost:8080/"
        },
        "outputId": "e7873cc5-fe94-4150-c351-9b6c54ccd58a"
      },
      "execution_count": null,
      "outputs": [
        {
          "output_type": "stream",
          "name": "stdout",
          "text": [
            "6\n"
          ]
        }
      ]
    },
    {
      "cell_type": "code",
      "source": [
        "# También permite seleccionar el índice del elemento a eliminar\n",
        "valor_eliminado = nueva_l.pop(1)"
      ],
      "metadata": {
        "id": "owl158dPyjAY"
      },
      "execution_count": null,
      "outputs": []
    },
    {
      "cell_type": "code",
      "source": [
        "print(nueva_l)\n",
        "print(valor_eliminado)"
      ],
      "metadata": {
        "id": "f44rCvWHysFq",
        "colab": {
          "base_uri": "https://localhost:8080/"
        },
        "outputId": "a20fb9fb-0d4f-4a75-c275-0f2de0fd62bb"
      },
      "execution_count": null,
      "outputs": [
        {
          "output_type": "stream",
          "name": "stdout",
          "text": [
            "[1, 3, 4, 5]\n",
            "2\n"
          ]
        }
      ]
    },
    {
      "cell_type": "code",
      "source": [
        "# COUNT: Cuenta y devuelve la cantidad de veces que se encuentra un elemento\n",
        "# dentro de la lista\n",
        "cant_2 = nueva_l.count(3)\n",
        "print(cant_2)"
      ],
      "metadata": {
        "id": "hHkUrNAeV9v3",
        "colab": {
          "base_uri": "https://localhost:8080/"
        },
        "outputId": "0d782031-6f14-484f-86a3-82da6047f694"
      },
      "execution_count": null,
      "outputs": [
        {
          "output_type": "stream",
          "name": "stdout",
          "text": [
            "1\n"
          ]
        }
      ]
    },
    {
      "cell_type": "code",
      "source": [
        "# Si el elemento no está devuelve 0\n",
        "print(nueva_l.count(66))"
      ],
      "metadata": {
        "id": "M_zms3Bdy-do",
        "colab": {
          "base_uri": "https://localhost:8080/"
        },
        "outputId": "3b21e020-5716-41e2-96aa-d9c642520e07"
      },
      "execution_count": null,
      "outputs": [
        {
          "output_type": "stream",
          "name": "stdout",
          "text": [
            "0\n"
          ]
        }
      ]
    },
    {
      "cell_type": "code",
      "source": [
        "# Agregamos valores para esperar nuevos resultados\n",
        "nueva_l += [1,2,5,5,4,5,8,7,5,2,1,4,5,3,2,4,9,7,6,5,8,9]"
      ],
      "metadata": {
        "id": "Bqc76oQ0zG_0"
      },
      "execution_count": null,
      "outputs": []
    },
    {
      "cell_type": "code",
      "source": [
        "print(nueva_l)\n",
        "print(nueva_l.count(4))"
      ],
      "metadata": {
        "id": "W63usURZzVaQ",
        "colab": {
          "base_uri": "https://localhost:8080/"
        },
        "outputId": "88697a62-854c-42db-e5c6-830b7adeb821"
      },
      "execution_count": null,
      "outputs": [
        {
          "output_type": "stream",
          "name": "stdout",
          "text": [
            "[1, 3, 4, 5, 1, 2, 5, 5, 4, 5, 8, 7, 5, 2, 1, 4, 5, 3, 2, 4, 9, 7, 6, 5, 8, 9]\n",
            "4\n"
          ]
        }
      ]
    },
    {
      "cell_type": "code",
      "source": [
        "# INDEX: Busca y devuelve la posición de un elemento\n",
        "indice_4 = nueva_l.index(4)\n",
        "print(indice_4)"
      ],
      "metadata": {
        "id": "IlZwaMt5WPGV",
        "colab": {
          "base_uri": "https://localhost:8080/"
        },
        "outputId": "212cf1b9-6a95-4a5c-b7fc-a6e3c639ccac"
      },
      "execution_count": null,
      "outputs": [
        {
          "output_type": "stream",
          "name": "stdout",
          "text": [
            "2\n"
          ]
        }
      ]
    },
    {
      "cell_type": "code",
      "source": [
        "# Si no existe devuelve error\n",
        "nueva_l.index(55)"
      ],
      "metadata": {
        "id": "7_slARJRz93h",
        "colab": {
          "base_uri": "https://localhost:8080/",
          "height": 162
        },
        "outputId": "997950b2-89df-47a5-f565-90d6e8b5c58f"
      },
      "execution_count": null,
      "outputs": [
        {
          "output_type": "error",
          "ename": "ValueError",
          "evalue": "55 is not in list",
          "traceback": [
            "\u001b[0;31m---------------------------------------------------------------------------\u001b[0m",
            "\u001b[0;31mValueError\u001b[0m                                Traceback (most recent call last)",
            "\u001b[0;32m<ipython-input-92-eecb714f10c3>\u001b[0m in \u001b[0;36m<cell line: 2>\u001b[0;34m()\u001b[0m\n\u001b[1;32m      1\u001b[0m \u001b[0;31m# Si no existe devuelve error\u001b[0m\u001b[0;34m\u001b[0m\u001b[0;34m\u001b[0m\u001b[0m\n\u001b[0;32m----> 2\u001b[0;31m \u001b[0mnueva_l\u001b[0m\u001b[0;34m.\u001b[0m\u001b[0mindex\u001b[0m\u001b[0;34m(\u001b[0m\u001b[0;36m55\u001b[0m\u001b[0;34m)\u001b[0m\u001b[0;34m\u001b[0m\u001b[0;34m\u001b[0m\u001b[0m\n\u001b[0m",
            "\u001b[0;31mValueError\u001b[0m: 55 is not in list"
          ]
        }
      ]
    },
    {
      "cell_type": "markdown",
      "source": [
        "## **Tuplas**"
      ],
      "metadata": {
        "id": "P2iU-Xs-9b8U"
      }
    },
    {
      "cell_type": "markdown",
      "source": [
        "### Generales"
      ],
      "metadata": {
        "id": "qCb_r3KwkDt7"
      }
    },
    {
      "cell_type": "code",
      "source": [
        "# Declarar tuplas\n",
        "tupla_1 = ()\n",
        "tupla_2 = tuple()\n",
        "print(tupla_1)\n",
        "print(tupla_2)"
      ],
      "metadata": {
        "id": "K71bDi-O9fJv",
        "colab": {
          "base_uri": "https://localhost:8080/"
        },
        "outputId": "2de0e5ec-1b38-467c-cbc9-38c2d3b78510"
      },
      "execution_count": null,
      "outputs": [
        {
          "output_type": "stream",
          "name": "stdout",
          "text": [
            "()\n",
            "()\n"
          ]
        }
      ]
    },
    {
      "cell_type": "code",
      "source": [
        "# Declarar tuplas y asignar valores\n",
        "tupla_3 = (1,2,3)\n",
        "print(tupla_3)"
      ],
      "metadata": {
        "id": "c7vJ7dPklXUb",
        "outputId": "3fdce76e-b787-4f63-c890-9a103e96bf4e",
        "colab": {
          "base_uri": "https://localhost:8080/"
        }
      },
      "execution_count": null,
      "outputs": [
        {
          "output_type": "stream",
          "name": "stdout",
          "text": [
            "(1, 2, 3)\n"
          ]
        }
      ]
    },
    {
      "cell_type": "code",
      "source": [
        "\n",
        "num = 5\n",
        "tupla_aux = (1,)\n",
        "\n",
        "print(tupla_aux)\n",
        "print(type(tupla_aux))"
      ],
      "metadata": {
        "id": "94GbxF0yW8Ty"
      },
      "execution_count": null,
      "outputs": []
    },
    {
      "cell_type": "code",
      "source": [
        "# Asignar tuplas con un valor\n",
        "tupla_4 = (1,)\n",
        "print(tupla_4)"
      ],
      "metadata": {
        "id": "GikwtdsApf4v"
      },
      "execution_count": null,
      "outputs": []
    },
    {
      "cell_type": "code",
      "source": [
        "intento_de_tupla = (5)\n",
        "print(intento_de_tupla)"
      ],
      "metadata": {
        "id": "2x3JZ_YmmdBP"
      },
      "execution_count": null,
      "outputs": []
    },
    {
      "cell_type": "code",
      "source": [
        "# Las tuplas también son heterogéneas\n",
        "mi_variable = \"Una variable\"\n",
        "datos = (1, \"cadena\", -0.4, mi_variable)\n",
        "print(datos)"
      ],
      "metadata": {
        "id": "TuEW8lxopqIY"
      },
      "execution_count": null,
      "outputs": []
    },
    {
      "cell_type": "code",
      "source": [
        "# También podemos acceder a los valores por sus índidce\n",
        "tupla_general = (1,2,3,4,5)\n",
        "tres = tupla_general[2]\n",
        "print(tres)"
      ],
      "metadata": {
        "id": "DmMJhXoEqQVI"
      },
      "execution_count": null,
      "outputs": []
    },
    {
      "cell_type": "code",
      "source": [
        "# Permite hacer slicing\n",
        "ultimos_dos = tupla_general[-2:]\n",
        "print(ultimos_dos)"
      ],
      "metadata": {
        "id": "ui8CORfRqc3K"
      },
      "execution_count": null,
      "outputs": []
    },
    {
      "cell_type": "code",
      "source": [
        "# Pero no podemos modificar el valor de un elemento\n",
        "tupla_general[1] = \"dos\""
      ],
      "metadata": {
        "id": "EyD14l_gq8vS"
      },
      "execution_count": null,
      "outputs": []
    },
    {
      "cell_type": "code",
      "source": [
        "# Y si bien no tiene un \"append\" como en la lista, sí podemos\n",
        "# agregarle valores con la concatenación o suma de otra tupla\n",
        "tupla_general = tupla_general + (6,7)\n",
        "print(tupla_general)"
      ],
      "metadata": {
        "id": "eUj5rRrTrMv4"
      },
      "execution_count": null,
      "outputs": []
    },
    {
      "cell_type": "code",
      "source": [
        "# Una forma más simple de hacer lo mismo\n",
        "tupla_general += (8,)\n",
        "print(tupla_general)"
      ],
      "metadata": {
        "id": "HY4edEcrrbzj"
      },
      "execution_count": null,
      "outputs": []
    },
    {
      "cell_type": "markdown",
      "source": [
        "### Funciones de tuplas"
      ],
      "metadata": {
        "id": "fxWBrowZQAnO"
      }
    },
    {
      "cell_type": "code",
      "source": [
        "# LEN\n",
        "largo = len(tupla_general)\n",
        "print(largo)"
      ],
      "metadata": {
        "id": "BvxgWDEzrwne"
      },
      "execution_count": null,
      "outputs": []
    },
    {
      "cell_type": "code",
      "source": [
        "# COUNT\n",
        "cantidad_de_0 = tupla_general.count(0)"
      ],
      "metadata": {
        "id": "Xe0QhOwosAHL"
      },
      "execution_count": null,
      "outputs": []
    },
    {
      "cell_type": "code",
      "source": [
        "tupla_general += (0, 1, 0, 2)"
      ],
      "metadata": {
        "id": "K0zMkwe5sQUo"
      },
      "execution_count": null,
      "outputs": []
    },
    {
      "cell_type": "code",
      "source": [
        "print(cantidad_de_0)"
      ],
      "metadata": {
        "id": "auVAkhVEsXY6"
      },
      "execution_count": null,
      "outputs": []
    },
    {
      "cell_type": "code",
      "source": [
        "print(tupla_general)"
      ],
      "metadata": {
        "id": "4b2_V9MzsOAI"
      },
      "execution_count": null,
      "outputs": []
    },
    {
      "cell_type": "code",
      "source": [
        "# INDEX\n",
        "indice = tupla_general.index(3)\n",
        "print(indice)"
      ],
      "metadata": {
        "id": "Bm-uk3bvsgN0"
      },
      "execution_count": null,
      "outputs": []
    },
    {
      "cell_type": "code",
      "source": [
        "# ANIDACIÓN\n",
        "tupla_anidada = (1, 2, 3, (\"otra tupla\", ), [\"una lista\", 2, 3], 4.5)\n",
        "print(tupla_anidada)"
      ],
      "metadata": {
        "id": "CA-N_YHgsqUG"
      },
      "execution_count": null,
      "outputs": []
    },
    {
      "cell_type": "markdown",
      "source": [
        "## Transformación de colecciones"
      ],
      "metadata": {
        "id": "1STh3YX7tJnv"
      }
    },
    {
      "cell_type": "code",
      "source": [
        "# Con \"type\" podemos imprimir el tipo de dato de un valor\n",
        "print(type(1))\n",
        "print(type(1.0))\n",
        "print(type(\"1\"))\n",
        "print(type(True))"
      ],
      "metadata": {
        "id": "iiIuaMhmGYoT"
      },
      "execution_count": null,
      "outputs": []
    },
    {
      "cell_type": "code",
      "source": [
        "# Con las funciones \"tuple\" y \"list\", podemos convertir estas colecciones\n",
        "lista = [\"a\", \"b\", \"c\"]\n",
        "print(lista)\n",
        "print(type(lista))"
      ],
      "metadata": {
        "id": "cL7TAZNKs88s"
      },
      "execution_count": null,
      "outputs": []
    },
    {
      "cell_type": "code",
      "source": [
        "tupla = (1,2,3)\n",
        "print(tupla)\n",
        "print(type(tupla))"
      ],
      "metadata": {
        "id": "HyfwxjEFtb7m"
      },
      "execution_count": null,
      "outputs": []
    },
    {
      "cell_type": "code",
      "source": [
        "# Convertimos la tupla en lista y la guardamos en una variable \"nueva_lista\"\n",
        "nueva_lista = list(tupla)\n",
        "print(nueva_lista)\n",
        "print(type(nueva_lista))"
      ],
      "metadata": {
        "id": "U53fRUGItlfM"
      },
      "execution_count": null,
      "outputs": []
    },
    {
      "cell_type": "code",
      "source": [
        "# Convertimos la lista en tupla y la guardamos en una variable \"nueva_tupla\"\n",
        "nueva_tupla = tuple(lista)\n",
        "print(nueva_tupla)\n",
        "print(type(nueva_tupla))"
      ],
      "metadata": {
        "id": "JyTrIQFVt6Oz"
      },
      "execution_count": null,
      "outputs": []
    }
  ]
}