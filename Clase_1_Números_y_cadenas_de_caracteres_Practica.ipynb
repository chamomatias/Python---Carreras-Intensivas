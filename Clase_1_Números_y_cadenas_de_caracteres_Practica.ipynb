{
  "nbformat": 4,
  "nbformat_minor": 0,
  "metadata": {
    "colab": {
      "provenance": [],
      "authorship_tag": "ABX9TyOen6Igo+by063iMzRF53vi",
      "include_colab_link": true
    },
    "kernelspec": {
      "name": "python3",
      "display_name": "Python 3"
    },
    "language_info": {
      "name": "python"
    }
  },
  "cells": [
    {
      "cell_type": "markdown",
      "metadata": {
        "id": "view-in-github",
        "colab_type": "text"
      },
      "source": [
        "<a href=\"https://colab.research.google.com/github/chamomatias/Python---Carreras-Intensivas/blob/main/Clase_1_N%C3%BAmeros_y_cadenas_de_caracteres_Practica.ipynb\" target=\"_parent\"><img src=\"https://colab.research.google.com/assets/colab-badge.svg\" alt=\"Open In Colab\"/></a>"
      ]
    },
    {
      "cell_type": "markdown",
      "source": [
        "#Mi primer programa en Python\n",
        "##Consigna\n",
        "\n",
        "Trabajas en XXXXXX y te piden crear un programa que calcule la nota final de estudiantes del curso de Python. La nota final se calcula basándonos en tres notas previas de las cuales, cada una corresponde un porcentaje distinto de la nota final. Los porcentajes se detallan a continuación:  \n",
        "Los porcentajes asociados que debemos considerar de cada nota se detallan a continuación:\n",
        "<ol>\n",
        "<li>nota_1  cuenta como el 20% de la nota final\n",
        "<li>nota_2 cuenta como el 30% de la nota final\n",
        "<li>nota_3 cuenta como el 50% de la nota final\n",
        "</ol>\n",
        "\n",
        "##Aspectos a incluir\n",
        "<ul>\n",
        "<li>Tener en cuenta los temas vistos en la clase 1: números, print, input, variables, operaciones matemáticas, cadena de texto.\n",
        "<li>Los datos deben guardarse en variables y deben ser dinámicos por medio de input.\n",
        "</ul>\n"
      ],
      "metadata": {
        "id": "H4naN8pXOyj3"
      }
    },
    {
      "cell_type": "markdown",
      "source": [
        "##SOLUCION:"
      ],
      "metadata": {
        "id": "ynliPk-XQPXj"
      }
    },
    {
      "cell_type": "code",
      "source": [
        "# Programa para calcular la nota final de un estudiante\n",
        "\n",
        "# Solicitar las notas al usuario\n",
        "print(\"Calculadora de nota final del curso de Python\")\n",
        "nota_1 = float(input(\"Ingresa la primera nota (nota_1, 20%): \"))\n",
        "nota_2 = float(input(\"Ingresa la segunda nota (nota_2, 30%): \"))\n",
        "nota_3 = float(input(\"Ingresa la tercera nota (nota_3, 50%): \"))\n",
        "\n",
        "# Calcular la nota final\n",
        "nota_final = (nota_1 * 0.2) + (nota_2 * 0.3) + (nota_3 * 0.5)\n",
        "\n",
        "# Mostrar el resultado\n",
        "print(f\"La nota final del estudiante es: {nota_final:.2f}\")\n"
      ],
      "metadata": {
        "colab": {
          "base_uri": "https://localhost:8080/"
        },
        "id": "7X9fqtG7QKdV",
        "outputId": "aeb75994-bfbe-4ab0-9896-925f83075ac2"
      },
      "execution_count": 1,
      "outputs": [
        {
          "output_type": "stream",
          "name": "stdout",
          "text": [
            "Calculadora de nota final del curso de Python\n",
            "Ingresa la primera nota (nota_1, 20%): 10\n",
            "Ingresa la segunda nota (nota_2, 30%): 8\n",
            "Ingresa la tercera nota (nota_3, 50%): 5\n",
            "La nota final del estudiante es: 6.90\n"
          ]
        }
      ]
    },
    {
      "cell_type": "markdown",
      "source": [
        "<h2>Explicación:</h2>\n",
        "<ul>\n",
        "    <li><strong>Variables dinámicas con input:</strong>\n",
        "        <p>El programa pide las tres notas al usuario, convirtiendo la entrada a tipo <code>float</code> para permitir valores decimales.</p>\n",
        "    </li>\n",
        "    <li><strong>Cálculo de la nota final:</strong>\n",
        "        <p>Cada nota se multiplica por su respectivo porcentaje (20%, 30%, 50%) y se suman los resultados para obtener la nota final.</p>\n",
        "    </li>\n",
        "    <li><strong>Salida del resultado:</strong>\n",
        "        <p>Utilizamos <code>print</code> para mostrar la nota final, formateada a dos decimales con <code>:.2f</code>.</p>\n",
        "    </li>\n",
        "</ul>\n"
      ],
      "metadata": {
        "id": "wTxzDL8FQumv"
      }
    }
  ]
}