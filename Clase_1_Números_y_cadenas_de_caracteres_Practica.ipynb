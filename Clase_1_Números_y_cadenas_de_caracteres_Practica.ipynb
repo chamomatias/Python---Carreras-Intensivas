{
  "nbformat": 4,
  "nbformat_minor": 0,
  "metadata": {
    "colab": {
      "provenance": [],
      "toc_visible": true,
      "authorship_tag": "ABX9TyNZH2JT8RWZVPjErQdyfML7",
      "include_colab_link": true
    },
    "kernelspec": {
      "name": "python3",
      "display_name": "Python 3"
    },
    "language_info": {
      "name": "python"
    }
  },
  "cells": [
    {
      "cell_type": "markdown",
      "metadata": {
        "id": "view-in-github",
        "colab_type": "text"
      },
      "source": [
        "<a href=\"https://colab.research.google.com/github/chamomatias/Python---Carreras-Intensivas/blob/main/Clase_1_N%C3%BAmeros_y_cadenas_de_caracteres_Practica.ipynb\" target=\"_parent\"><img src=\"https://colab.research.google.com/assets/colab-badge.svg\" alt=\"Open In Colab\"/></a>"
      ]
    },
    {
      "cell_type": "markdown",
      "source": [
        "#CLASE 1: Números y cadenas de caracteres"
      ],
      "metadata": {
        "id": "0sevaf8gZG7a"
      }
    },
    {
      "cell_type": "markdown",
      "source": [
        "##Desafio String\n",
        "\n",
        "Partiendo de:\n",
        "<ul>\n",
        "<li>cadena_1 = \"versátil\"\n",
        "<li>cadena_2 = \"Python\"\n",
        "<li>cadena_3 = \"es un lenguaje\"\n",
        "<li>cadena_4 = \"de programación\"\n",
        "</ul>\n",
        "\n",
        "Crea una nueva cadena con el contenido: **\"Python es un lenguaje de programación versátil\"**<br>\n",
        "\n",
        "Nota: Utiliza el operador + para concatenar\n"
      ],
      "metadata": {
        "id": "Z2-GAD3tUy4K"
      }
    },
    {
      "cell_type": "markdown",
      "source": [
        "###SOLUCION:"
      ],
      "metadata": {
        "id": "EgNz0_LHWZbB"
      }
    },
    {
      "cell_type": "code",
      "source": [
        "# Definición de las cadenas\n",
        "cadena_1 = \"versátil\"\n",
        "cadena_2 = \"Python\"\n",
        "cadena_3 = \"es un lenguaje\"\n",
        "cadena_4 = \"de programación\"\n",
        "\n",
        "# Concatenación de las cadenas\n",
        "resultado = cadena_2 + \" \" + cadena_3 + \" \" + cadena_4 + \" \" + cadena_1\n",
        "\n",
        "# Mostrar el resultado\n",
        "print(resultado)\n"
      ],
      "metadata": {
        "colab": {
          "base_uri": "https://localhost:8080/"
        },
        "id": "QtGA8ocYWKkD",
        "outputId": "58cd4407-6407-4270-e30b-736974dce7e6"
      },
      "execution_count": 1,
      "outputs": [
        {
          "output_type": "stream",
          "name": "stdout",
          "text": [
            "Python es un lenguaje de programación versátil\n"
          ]
        }
      ]
    },
    {
      "cell_type": "markdown",
      "source": [
        "<h2>Explicación:</h2>\n",
        "<ul>\n",
        "    <li><strong>Operador +:</strong>\n",
        "        <p>Se utiliza para unir las cadenas, añadiendo espacios (<code>\" \"</code>) entre ellas para que el resultado tenga el formato correcto.</p>\n",
        "    </li>\n",
        "    <li><strong>Resultado:</strong>\n",
        "        <p>La concatenación forma la nueva cadena: <code>\"Python es un lenguaje de programación versátil\"</code>.</p>\n",
        "    </li>\n",
        "    <li><strong>Uso de print:</strong>\n",
        "        <p>El resultado se muestra en la consola.</p>\n",
        "    </li>\n",
        "</ul>\n"
      ],
      "metadata": {
        "id": "i5XpyRdGWWR1"
      }
    },
    {
      "cell_type": "markdown",
      "source": [
        "---"
      ],
      "metadata": {
        "id": "PPB169dbZgS_"
      }
    },
    {
      "cell_type": "markdown",
      "source": [
        "#Desafio Números\n",
        "\n",
        "##Descripción de la actividad.\n",
        "\n",
        "En nuestro trabajo, nos solicitan desarrollar un programa que permita calcular el promedio final de los equipos de futbol en un torneo.\n",
        "Para ello, debemos considerar tres aspectos:\n",
        "<ul>\n",
        "<li>Jugaron 20 partidos durante el torneo.\n",
        "<li>Los partidos poseen diferente puntaje según el resultado, los partidos ganados 3 puntos, partido empatado 1 punto, partido perdido 0 puntos.\n",
        "<li>El promedio final resulta de la cantidad de puntos totales divididos la cantidad de partidos\n",
        "</ul>\n",
        "La cantidad de partidos que debemos considerar a un equipo para el ejemplo se detallan a continuación:\n",
        "<ul>\n",
        "<li>partidos_ganados 8\n",
        "<li>partido_empatados 7\n",
        "<li>partido_perdidos 5\n",
        "</ul>\n",
        "Importante: Cada una de las cantidades de partidos ganados, empatados o perdidos debe solicitarse al usuario utilizando la función input().\n",
        "\n",
        "\n",
        "\n"
      ],
      "metadata": {
        "id": "qlAVEuOTWz_I"
      }
    },
    {
      "cell_type": "markdown",
      "source": [
        "###SOLUCION"
      ],
      "metadata": {
        "id": "WIeRwKIPY-Om"
      }
    },
    {
      "cell_type": "code",
      "source": [
        "# Solicitar al usuario la cantidad de partidos ganados, empatados y perdidos\n",
        "print(\"Calculadora del promedio final de un equipo de fútbol\")\n",
        "partidos_ganados = int(input(\"Ingresa la cantidad de partidos ganados: \"))\n",
        "partidos_empatados = int(input(\"Ingresa la cantidad de partidos empatados: \"))\n",
        "partidos_perdidos = int(input(\"Ingresa la cantidad de partidos perdidos: \"))\n",
        "\n",
        "# Calcular el puntaje total\n",
        "puntos_totales = (partidos_ganados * 3) + (partidos_empatados * 1) + (partidos_perdidos * 0)\n",
        "\n",
        "# Calcular el promedio final\n",
        "total_partidos = partidos_ganados + partidos_empatados + partidos_perdidos\n",
        "promedio_final = puntos_totales / total_partidos\n",
        "\n",
        "# Mostrar los resultados\n",
        "print(f\"Puntos totales: {puntos_totales}\")\n",
        "print(f\"Promedio final: {promedio_final:.2f}\")\n"
      ],
      "metadata": {
        "colab": {
          "base_uri": "https://localhost:8080/"
        },
        "id": "mLe-aU2yYMlD",
        "outputId": "110346a7-bc2e-4ad6-d8f7-46d054845b6b"
      },
      "execution_count": 2,
      "outputs": [
        {
          "output_type": "stream",
          "name": "stdout",
          "text": [
            "Calculadora del promedio final de un equipo de fútbol\n",
            "Ingresa la cantidad de partidos ganados: 3\n",
            "Ingresa la cantidad de partidos empatados: 0\n",
            "Ingresa la cantidad de partidos perdidos: 1\n",
            "Puntos totales: 9\n",
            "Promedio final: 2.25\n"
          ]
        }
      ]
    },
    {
      "cell_type": "markdown",
      "source": [
        "---"
      ],
      "metadata": {
        "id": "gnY4U0EHZjVW"
      }
    },
    {
      "cell_type": "markdown",
      "source": [
        "#Mi primer programa en Python\n",
        "##Consigna\n",
        "\n",
        "Trabajas en XXXXXX y te piden crear un programa que calcule la nota final de estudiantes del curso de Python. La nota final se calcula basándonos en tres notas previas de las cuales, cada una corresponde un porcentaje distinto de la nota final. Los porcentajes se detallan a continuación:  \n",
        "Los porcentajes asociados que debemos considerar de cada nota se detallan a continuación:\n",
        "<ol>\n",
        "<li>nota_1  cuenta como el 20% de la nota final\n",
        "<li>nota_2 cuenta como el 30% de la nota final\n",
        "<li>nota_3 cuenta como el 50% de la nota final\n",
        "</ol>\n",
        "\n",
        "##Aspectos a incluir\n",
        "<ul>\n",
        "<li>Tener en cuenta los temas vistos en la clase 1: números, print, input, variables, operaciones matemáticas, cadena de texto.\n",
        "<li>Los datos deben guardarse en variables y deben ser dinámicos por medio de input.\n",
        "</ul>\n"
      ],
      "metadata": {
        "id": "H4naN8pXOyj3"
      }
    },
    {
      "cell_type": "markdown",
      "source": [
        "##SOLUCION:"
      ],
      "metadata": {
        "id": "ynliPk-XQPXj"
      }
    },
    {
      "cell_type": "code",
      "source": [
        "# Programa para calcular la nota final de un estudiante\n",
        "\n",
        "# Solicitar las notas al usuario\n",
        "print(\"Calculadora de nota final del curso de Python\")\n",
        "nota_1 = float(input(\"Ingresa la primera nota (nota_1, 20%): \"))\n",
        "nota_2 = float(input(\"Ingresa la segunda nota (nota_2, 30%): \"))\n",
        "nota_3 = float(input(\"Ingresa la tercera nota (nota_3, 50%): \"))\n",
        "\n",
        "# Calcular la nota final\n",
        "nota_final = (nota_1 * 0.2) + (nota_2 * 0.3) + (nota_3 * 0.5)\n",
        "\n",
        "# Mostrar el resultado\n",
        "print(f\"La nota final del estudiante es: {nota_final:.2f}\")\n"
      ],
      "metadata": {
        "colab": {
          "base_uri": "https://localhost:8080/"
        },
        "id": "7X9fqtG7QKdV",
        "outputId": "aeb75994-bfbe-4ab0-9896-925f83075ac2"
      },
      "execution_count": null,
      "outputs": [
        {
          "output_type": "stream",
          "name": "stdout",
          "text": [
            "Calculadora de nota final del curso de Python\n",
            "Ingresa la primera nota (nota_1, 20%): 10\n",
            "Ingresa la segunda nota (nota_2, 30%): 8\n",
            "Ingresa la tercera nota (nota_3, 50%): 5\n",
            "La nota final del estudiante es: 6.90\n"
          ]
        }
      ]
    },
    {
      "cell_type": "markdown",
      "source": [
        "<h2>Explicación:</h2>\n",
        "<ul>\n",
        "    <li><strong>Variables dinámicas con input:</strong>\n",
        "        <p>El programa pide las tres notas al usuario, convirtiendo la entrada a tipo <code>float</code> para permitir valores decimales.</p>\n",
        "    </li>\n",
        "    <li><strong>Cálculo de la nota final:</strong>\n",
        "        <p>Cada nota se multiplica por su respectivo porcentaje (20%, 30%, 50%) y se suman los resultados para obtener la nota final.</p>\n",
        "    </li>\n",
        "    <li><strong>Salida del resultado:</strong>\n",
        "        <p>Utilizamos <code>print</code> para mostrar la nota final, formateada a dos decimales con <code>:.2f</code>.</p>\n",
        "    </li>\n",
        "</ul>\n"
      ],
      "metadata": {
        "id": "wTxzDL8FQumv"
      }
    },
    {
      "cell_type": "markdown",
      "source": [
        "---"
      ],
      "metadata": {
        "id": "jvWsWwCCZmIm"
      }
    }
  ]
}