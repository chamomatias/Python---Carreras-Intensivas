{
  "nbformat": 4,
  "nbformat_minor": 0,
  "metadata": {
    "colab": {
      "provenance": [],
      "collapsed_sections": [
        "DcvyJzdlRlnf"
      ],
      "include_colab_link": true
    },
    "kernelspec": {
      "name": "python3",
      "display_name": "Python 3"
    },
    "language_info": {
      "name": "python"
    }
  },
  "cells": [
    {
      "cell_type": "markdown",
      "metadata": {
        "id": "view-in-github",
        "colab_type": "text"
      },
      "source": [
        "<a href=\"https://colab.research.google.com/github/chamomatias/Python---Carreras-Intensivas/blob/main/Clase_3_Conjuntos_y_diccionarios_Practica.ipynb\" target=\"_parent\"><img src=\"https://colab.research.google.com/assets/colab-badge.svg\" alt=\"Open In Colab\"/></a>"
      ]
    },
    {
      "cell_type": "markdown",
      "source": [
        "#Set\n",
        "Colección de datos sin duplicados, heterogéneos, mutables y desordenados."
      ],
      "metadata": {
        "id": "GRO1OiNVMAV0"
      }
    },
    {
      "cell_type": "code",
      "source": [
        "def sep():\n",
        "    print(\"---------------------------------------------\")"
      ],
      "metadata": {
        "id": "Hs-sVtoPH0Ky"
      },
      "execution_count": 53,
      "outputs": []
    },
    {
      "cell_type": "markdown",
      "source": [
        "## Intro"
      ],
      "metadata": {
        "id": "DcvyJzdlRlnf"
      }
    },
    {
      "cell_type": "code",
      "execution_count": 54,
      "metadata": {
        "id": "VzogslgULtr7",
        "colab": {
          "base_uri": "https://localhost:8080/"
        },
        "outputId": "c7326519-eb66-497e-ccfa-5d363407ea45"
      },
      "outputs": [
        {
          "output_type": "stream",
          "name": "stdout",
          "text": [
            "{1, 2, 3, 4, 5}\n",
            "---------------------------------------------\n",
            "<class 'set'>\n"
          ]
        }
      ],
      "source": [
        "mi_set = {1,2,3,4,5}\n",
        "print(mi_set)\n",
        "\n",
        "sep()\n",
        "\n",
        "print(type(mi_set))"
      ]
    },
    {
      "cell_type": "code",
      "source": [
        "# No admite duplicados\n",
        "mi_set = {1,2,3,4,5,2,2,2,2}\n",
        "\n",
        "print(mi_set)"
      ],
      "metadata": {
        "id": "cIxn85G5MXL8",
        "colab": {
          "base_uri": "https://localhost:8080/"
        },
        "outputId": "80ee6d59-89c1-4017-99f6-ec1f902719eb"
      },
      "execution_count": 55,
      "outputs": [
        {
          "output_type": "stream",
          "name": "stdout",
          "text": [
            "{1, 2, 3, 4, 5}\n"
          ]
        }
      ]
    },
    {
      "cell_type": "code",
      "source": [
        "# Crear listas vacías (Sólo para comparar con sets)\n",
        "mi_lista = []\n",
        "print(mi_lista)\n",
        "print(type(mi_lista))\n",
        "\n",
        "\n",
        "sep()\n",
        "\n",
        "mi_segunda_lista = list()\n",
        "print(mi_segunda_lista)\n",
        "print(type(mi_segunda_lista))"
      ],
      "metadata": {
        "id": "ZyP3hIRdOpVF",
        "colab": {
          "base_uri": "https://localhost:8080/"
        },
        "outputId": "03fc5e52-0dfa-402a-f808-da5806f2ebec"
      },
      "execution_count": 56,
      "outputs": [
        {
          "output_type": "stream",
          "name": "stdout",
          "text": [
            "[]\n",
            "<class 'list'>\n",
            "---------------------------------------------\n",
            "[]\n",
            "<class 'list'>\n"
          ]
        }
      ]
    },
    {
      "cell_type": "code",
      "source": [
        "# A diferencia de las listas, para crear un set vacío sólo podemos\n",
        "# hacerlo mediante set()\n",
        "mi_set = set()\n",
        "print(type(mi_set))\n",
        "\n",
        "sep()\n",
        "\n",
        "# Si intentamos usar llaves vacías sólo vamos a crear otro tipo de colección de datos\n",
        "mi_intento_de_set = {}\n",
        "print(type(mi_intento_de_set))"
      ],
      "metadata": {
        "id": "PdFxxqinMlag",
        "colab": {
          "base_uri": "https://localhost:8080/"
        },
        "outputId": "6272e186-b596-4489-ce29-53d581ccb26b"
      },
      "execution_count": 57,
      "outputs": [
        {
          "output_type": "stream",
          "name": "stdout",
          "text": [
            "<class 'set'>\n",
            "---------------------------------------------\n",
            "<class 'dict'>\n"
          ]
        }
      ]
    },
    {
      "cell_type": "code",
      "source": [
        "# Son heterogéneos\n",
        "mi_set = {1,2,\"Hola XXXXXX\",(\"Una tupla adentro del set\"),3.14}\n",
        "\n",
        "print(mi_set)"
      ],
      "metadata": {
        "id": "a66SDMZdPR4H",
        "colab": {
          "base_uri": "https://localhost:8080/"
        },
        "outputId": "c568a0a6-b484-41e7-a4d5-95a034450d6e"
      },
      "execution_count": 86,
      "outputs": [
        {
          "output_type": "stream",
          "name": "stdout",
          "text": [
            "{1, 2, 3.14, 'Una tupla adentro del set', 'Hola XXXXXX'}\n"
          ]
        }
      ]
    },
    {
      "cell_type": "code",
      "source": [
        "# Son heterogéneos pero NO pueden incluír objetos mutables como una lista (entre otros)\n",
        "sep()\n",
        "\n",
        "mi_set = {1, 2, [\"¿una lista?\"]}\n",
        "\n",
        "sep()\n",
        "\n",
        "mi_set2 = {1, 2, [\"¿una lista?\"]}"
      ],
      "metadata": {
        "id": "__w5ZdTUcahU",
        "colab": {
          "base_uri": "https://localhost:8080/",
          "height": 228
        },
        "outputId": "f55b26c2-fe02-4aee-8724-0226418082c5"
      },
      "execution_count": 84,
      "outputs": [
        {
          "output_type": "stream",
          "name": "stdout",
          "text": [
            "---------------------------------------------\n"
          ]
        },
        {
          "output_type": "error",
          "ename": "TypeError",
          "evalue": "unhashable type: 'list'",
          "traceback": [
            "\u001b[0;31m---------------------------------------------------------------------------\u001b[0m",
            "\u001b[0;31mTypeError\u001b[0m                                 Traceback (most recent call last)",
            "\u001b[0;32m<ipython-input-84-2c7f185d4e27>\u001b[0m in \u001b[0;36m<cell line: 4>\u001b[0;34m()\u001b[0m\n\u001b[1;32m      2\u001b[0m \u001b[0msep\u001b[0m\u001b[0;34m(\u001b[0m\u001b[0;34m)\u001b[0m\u001b[0;34m\u001b[0m\u001b[0;34m\u001b[0m\u001b[0m\n\u001b[1;32m      3\u001b[0m \u001b[0;34m\u001b[0m\u001b[0m\n\u001b[0;32m----> 4\u001b[0;31m \u001b[0mmi_set\u001b[0m \u001b[0;34m=\u001b[0m \u001b[0;34m{\u001b[0m\u001b[0;36m1\u001b[0m\u001b[0;34m,\u001b[0m \u001b[0;36m2\u001b[0m\u001b[0;34m,\u001b[0m \u001b[0;34m[\u001b[0m\u001b[0;34m\"¿una lista?\"\u001b[0m\u001b[0;34m]\u001b[0m\u001b[0;34m}\u001b[0m\u001b[0;34m\u001b[0m\u001b[0;34m\u001b[0m\u001b[0m\n\u001b[0m\u001b[1;32m      5\u001b[0m \u001b[0;34m\u001b[0m\u001b[0m\n\u001b[1;32m      6\u001b[0m \u001b[0msep\u001b[0m\u001b[0;34m(\u001b[0m\u001b[0;34m)\u001b[0m\u001b[0;34m\u001b[0m\u001b[0;34m\u001b[0m\u001b[0m\n",
            "\u001b[0;31mTypeError\u001b[0m: unhashable type: 'list'"
          ]
        }
      ]
    },
    {
      "cell_type": "code",
      "source": [
        "# ¿Podrá incluír otro set?\n",
        "mi_set = {1, 2, {\"¿un set?\"}}"
      ],
      "metadata": {
        "id": "LCd9oMh8clUe",
        "colab": {
          "base_uri": "https://localhost:8080/",
          "height": 159
        },
        "outputId": "eb24bad5-d12b-4120-8960-ddd53f3e5bf7"
      },
      "execution_count": 61,
      "outputs": [
        {
          "output_type": "error",
          "ename": "TypeError",
          "evalue": "unhashable type: 'set'",
          "traceback": [
            "\u001b[0;31m---------------------------------------------------------------------------\u001b[0m",
            "\u001b[0;31mTypeError\u001b[0m                                 Traceback (most recent call last)",
            "\u001b[0;32m<ipython-input-61-e2d561113052>\u001b[0m in \u001b[0;36m<cell line: 2>\u001b[0;34m()\u001b[0m\n\u001b[1;32m      1\u001b[0m \u001b[0;31m# ¿Podrá incluír otro set?\u001b[0m\u001b[0;34m\u001b[0m\u001b[0;34m\u001b[0m\u001b[0m\n\u001b[0;32m----> 2\u001b[0;31m \u001b[0mmi_set\u001b[0m \u001b[0;34m=\u001b[0m \u001b[0;34m{\u001b[0m\u001b[0;36m1\u001b[0m\u001b[0;34m,\u001b[0m \u001b[0;36m2\u001b[0m\u001b[0;34m,\u001b[0m \u001b[0;34m{\u001b[0m\u001b[0;34m\"¿un set?\"\u001b[0m\u001b[0;34m}\u001b[0m\u001b[0;34m}\u001b[0m\u001b[0;34m\u001b[0m\u001b[0;34m\u001b[0m\u001b[0m\n\u001b[0m",
            "\u001b[0;31mTypeError\u001b[0m: unhashable type: 'set'"
          ]
        }
      ]
    },
    {
      "cell_type": "code",
      "source": [
        "# No se puede acceder a un elemento indicando el índice\n",
        "mi_set = {1, 2, 3, 4,5,6,7,8,9}\n",
        "\n",
        "print(mi_set[1])"
      ],
      "metadata": {
        "id": "UJTv0p5XPJEP",
        "colab": {
          "base_uri": "https://localhost:8080/",
          "height": 176
        },
        "outputId": "7ac0c747-b744-4a8e-8707-0631f14ffa84"
      },
      "execution_count": 62,
      "outputs": [
        {
          "output_type": "error",
          "ename": "TypeError",
          "evalue": "'set' object is not subscriptable",
          "traceback": [
            "\u001b[0;31m---------------------------------------------------------------------------\u001b[0m",
            "\u001b[0;31mTypeError\u001b[0m                                 Traceback (most recent call last)",
            "\u001b[0;32m<ipython-input-62-908fc51f7931>\u001b[0m in \u001b[0;36m<cell line: 4>\u001b[0;34m()\u001b[0m\n\u001b[1;32m      2\u001b[0m \u001b[0mmi_set\u001b[0m \u001b[0;34m=\u001b[0m \u001b[0;34m{\u001b[0m\u001b[0;36m1\u001b[0m\u001b[0;34m,\u001b[0m \u001b[0;36m2\u001b[0m\u001b[0;34m,\u001b[0m \u001b[0;36m3\u001b[0m\u001b[0;34m,\u001b[0m \u001b[0;36m4\u001b[0m\u001b[0;34m,\u001b[0m\u001b[0;36m5\u001b[0m\u001b[0;34m,\u001b[0m\u001b[0;36m6\u001b[0m\u001b[0;34m,\u001b[0m\u001b[0;36m7\u001b[0m\u001b[0;34m,\u001b[0m\u001b[0;36m8\u001b[0m\u001b[0;34m,\u001b[0m\u001b[0;36m9\u001b[0m\u001b[0;34m}\u001b[0m\u001b[0;34m\u001b[0m\u001b[0;34m\u001b[0m\u001b[0m\n\u001b[1;32m      3\u001b[0m \u001b[0;34m\u001b[0m\u001b[0m\n\u001b[0;32m----> 4\u001b[0;31m \u001b[0mprint\u001b[0m\u001b[0;34m(\u001b[0m\u001b[0mmi_set\u001b[0m\u001b[0;34m[\u001b[0m\u001b[0;36m1\u001b[0m\u001b[0;34m]\u001b[0m\u001b[0;34m)\u001b[0m\u001b[0;34m\u001b[0m\u001b[0;34m\u001b[0m\u001b[0m\n\u001b[0m",
            "\u001b[0;31mTypeError\u001b[0m: 'set' object is not subscriptable"
          ]
        }
      ]
    },
    {
      "cell_type": "code",
      "source": [
        "# A partir de un objeto iterable que cumpla con las condiciones dadas, se pueden\n",
        "# crear conjuntos (set)\n",
        "mi_lista = [1,2,3,4,4,4,4,5]\n",
        "print(mi_lista)\n",
        "mi_set = set(mi_lista)\n",
        "\n",
        "\n",
        "print(\"\\n\")\n",
        "\n",
        "print(mi_set)\n",
        "\n",
        "print(\"\\n\")\n",
        "sep()\n",
        "print(type(mi_set))\n",
        "# Y podemos volver a convertirlo en lista\n",
        "nueva_lista = list(mi_set)\n",
        "print(\"\\n\")\n",
        "print(nueva_lista)"
      ],
      "metadata": {
        "id": "l3V5G5tpP9RJ",
        "colab": {
          "base_uri": "https://localhost:8080/"
        },
        "outputId": "4dff7822-68c7-4b38-ac3e-f47bdff77018"
      },
      "execution_count": 89,
      "outputs": [
        {
          "output_type": "stream",
          "name": "stdout",
          "text": [
            "[1, 2, 3, 4, 4, 4, 4, 5]\n",
            "\n",
            "\n",
            "{1, 2, 3, 4, 5}\n",
            "\n",
            "\n",
            "---------------------------------------------\n",
            "<class 'set'>\n",
            "\n",
            "\n",
            "[1, 2, 3, 4, 5]\n"
          ]
        }
      ]
    },
    {
      "cell_type": "code",
      "source": [
        "texto = \"Hola que tal?\"\n",
        "mi_set = set(texto)\n",
        "\n",
        "print(mi_set)\n",
        "print(type(mi_set))"
      ],
      "metadata": {
        "id": "tap8U55MdBE2",
        "colab": {
          "base_uri": "https://localhost:8080/"
        },
        "outputId": "5210cc13-7196-4b1a-a8a3-ae82eef6d6b9"
      },
      "execution_count": 64,
      "outputs": [
        {
          "output_type": "stream",
          "name": "stdout",
          "text": [
            "{'u', 'q', 't', 'l', '?', 'e', ' ', 'o', 'a', 'H'}\n",
            "<class 'set'>\n"
          ]
        }
      ]
    },
    {
      "cell_type": "code",
      "source": [
        "# Creamos un set a partir de una lista\n",
        "mi_set = set(range(10, 50, 2))\n",
        "\n",
        "print(mi_set)\n",
        "print(type(mi_set))"
      ],
      "metadata": {
        "id": "ak-ZABa-P9Gs",
        "colab": {
          "base_uri": "https://localhost:8080/"
        },
        "outputId": "b5cb1e9d-cc2e-46ef-e018-9fca81adfc43"
      },
      "execution_count": 65,
      "outputs": [
        {
          "output_type": "stream",
          "name": "stdout",
          "text": [
            "{10, 12, 14, 16, 18, 20, 22, 24, 26, 28, 30, 32, 34, 36, 38, 40, 42, 44, 46, 48}\n",
            "<class 'set'>\n"
          ]
        }
      ]
    },
    {
      "cell_type": "code",
      "source": [
        "lista = list(range(10, 100))\n",
        "\n",
        "print(lista)"
      ],
      "metadata": {
        "id": "e4arTYeot8wM",
        "colab": {
          "base_uri": "https://localhost:8080/"
        },
        "outputId": "a6f21e11-cb36-4b6b-e531-fb67274917fc"
      },
      "execution_count": 66,
      "outputs": [
        {
          "output_type": "stream",
          "name": "stdout",
          "text": [
            "[10, 11, 12, 13, 14, 15, 16, 17, 18, 19, 20, 21, 22, 23, 24, 25, 26, 27, 28, 29, 30, 31, 32, 33, 34, 35, 36, 37, 38, 39, 40, 41, 42, 43, 44, 45, 46, 47, 48, 49, 50, 51, 52, 53, 54, 55, 56, 57, 58, 59, 60, 61, 62, 63, 64, 65, 66, 67, 68, 69, 70, 71, 72, 73, 74, 75, 76, 77, 78, 79, 80, 81, 82, 83, 84, 85, 86, 87, 88, 89, 90, 91, 92, 93, 94, 95, 96, 97, 98, 99]\n"
          ]
        }
      ]
    },
    {
      "cell_type": "code",
      "source": [
        "# Tener en cuenta que al convertir lista en set se pierden los elementos duplicados\n",
        "mi_lista = [1,2,3,3,3,3,4,5,6]\n",
        "mi_set = set(mi_lista)\n",
        "\n",
        "print(mi_set)"
      ],
      "metadata": {
        "id": "XvRdsFfvQfBT",
        "colab": {
          "base_uri": "https://localhost:8080/"
        },
        "outputId": "bc28353f-aa92-4e58-b1fe-c95eb28a9831"
      },
      "execution_count": 67,
      "outputs": [
        {
          "output_type": "stream",
          "name": "stdout",
          "text": [
            "{1, 2, 3, 4, 5, 6}\n"
          ]
        }
      ]
    },
    {
      "cell_type": "markdown",
      "source": [
        "## Funciones integradas\n",
        "Mediante el uso de funciones integradas podemos modificar un set."
      ],
      "metadata": {
        "id": "GMbXxUULRYz3"
      }
    },
    {
      "cell_type": "code",
      "source": [
        "# ADD\n",
        "# Agrega un elemento al set.\n",
        "numeros = {1, 2, 3, 4}\n",
        "numeros.add(5)\n",
        "print(numeros)"
      ],
      "metadata": {
        "id": "hHTnJdiLRiTF",
        "colab": {
          "base_uri": "https://localhost:8080/"
        },
        "outputId": "5dcf0b3c-fffe-4738-e933-6020f3361a75"
      },
      "execution_count": 68,
      "outputs": [
        {
          "output_type": "stream",
          "name": "stdout",
          "text": [
            "{1, 2, 3, 4, 5}\n"
          ]
        }
      ]
    },
    {
      "cell_type": "code",
      "source": [
        "# UPDATE\n",
        "# Agrega muchos elementos al set al mismo tiempo con cualquier iterable.\n",
        "numeros = {1, 2, 3, 4}\n",
        "numeros.update([5, 6, 7, 8])\n",
        "print(numeros)"
      ],
      "metadata": {
        "id": "30SRbEOGRyTd",
        "colab": {
          "base_uri": "https://localhost:8080/"
        },
        "outputId": "66c53d49-656a-4cc0-ad7f-fa4598c113dc"
      },
      "execution_count": 69,
      "outputs": [
        {
          "output_type": "stream",
          "name": "stdout",
          "text": [
            "{1, 2, 3, 4, 5, 6, 7, 8}\n"
          ]
        }
      ]
    },
    {
      "cell_type": "code",
      "source": [
        "# No soporta la concatenación o suma de sets\n",
        "print({1,2,3} + {4,5,6})"
      ],
      "metadata": {
        "id": "3XigYxylNPbH",
        "colab": {
          "base_uri": "https://localhost:8080/",
          "height": 159
        },
        "outputId": "f16ee5d4-b06c-43ab-f354-5802c4d60ba2"
      },
      "execution_count": 70,
      "outputs": [
        {
          "output_type": "error",
          "ename": "TypeError",
          "evalue": "unsupported operand type(s) for +: 'set' and 'set'",
          "traceback": [
            "\u001b[0;31m---------------------------------------------------------------------------\u001b[0m",
            "\u001b[0;31mTypeError\u001b[0m                                 Traceback (most recent call last)",
            "\u001b[0;32m<ipython-input-70-94d27e9e161d>\u001b[0m in \u001b[0;36m<cell line: 2>\u001b[0;34m()\u001b[0m\n\u001b[1;32m      1\u001b[0m \u001b[0;31m# No soporta la concatenación o suma de sets\u001b[0m\u001b[0;34m\u001b[0m\u001b[0;34m\u001b[0m\u001b[0m\n\u001b[0;32m----> 2\u001b[0;31m \u001b[0mprint\u001b[0m\u001b[0;34m(\u001b[0m\u001b[0;34m{\u001b[0m\u001b[0;36m1\u001b[0m\u001b[0;34m,\u001b[0m\u001b[0;36m2\u001b[0m\u001b[0;34m,\u001b[0m\u001b[0;36m3\u001b[0m\u001b[0;34m}\u001b[0m \u001b[0;34m+\u001b[0m \u001b[0;34m{\u001b[0m\u001b[0;36m4\u001b[0m\u001b[0;34m,\u001b[0m\u001b[0;36m5\u001b[0m\u001b[0;34m,\u001b[0m\u001b[0;36m6\u001b[0m\u001b[0;34m}\u001b[0m\u001b[0;34m)\u001b[0m\u001b[0;34m\u001b[0m\u001b[0;34m\u001b[0m\u001b[0m\n\u001b[0m",
            "\u001b[0;31mTypeError\u001b[0m: unsupported operand type(s) for +: 'set' and 'set'"
          ]
        }
      ]
    },
    {
      "cell_type": "code",
      "source": [
        "# LEN\n",
        "# Devuelve la cantidad de elementos del set.\n",
        "numeros = {1, 2, 3, 4, 5, 6, 7, 8}\n",
        "\n",
        "print(len(numeros))"
      ],
      "metadata": {
        "id": "NBvmacHWT-jE",
        "colab": {
          "base_uri": "https://localhost:8080/"
        },
        "outputId": "b7664cb3-f739-45aa-ecde-247831801c75"
      },
      "execution_count": 71,
      "outputs": [
        {
          "output_type": "stream",
          "name": "stdout",
          "text": [
            "8\n"
          ]
        }
      ]
    },
    {
      "cell_type": "code",
      "source": [
        "# DISCARD\n",
        "# Elimina el elemento que pasamos en el parámetro.\n",
        "numeros = {1, 2, 3, 4, 5, 6, 7, 8}\n",
        "numeros.discard(2)\n",
        "\n",
        "print(numeros)"
      ],
      "metadata": {
        "id": "DiR6f5_MUDT-",
        "colab": {
          "base_uri": "https://localhost:8080/"
        },
        "outputId": "08a3a66e-0484-4837-bcb3-5d01e1604da7"
      },
      "execution_count": 72,
      "outputs": [
        {
          "output_type": "stream",
          "name": "stdout",
          "text": [
            "{1, 3, 4, 5, 6, 7, 8}\n"
          ]
        }
      ]
    },
    {
      "cell_type": "code",
      "source": [
        "# No genera error si el elemento que queremos eliminar no existe.\n",
        "numeros = {1, 2, 3, 4, 5, 6, 7, 8}\n",
        "numeros.discard(22)\n",
        "\n",
        "print(numeros)"
      ],
      "metadata": {
        "id": "yXYiCroyUelD",
        "colab": {
          "base_uri": "https://localhost:8080/"
        },
        "outputId": "b23cfc40-2e4d-465b-8c83-2872e28a97cd"
      },
      "execution_count": 73,
      "outputs": [
        {
          "output_type": "stream",
          "name": "stdout",
          "text": [
            "{1, 2, 3, 4, 5, 6, 7, 8}\n"
          ]
        }
      ]
    },
    {
      "cell_type": "code",
      "source": [
        "# REMOVE\n",
        "# Es igual a DISCARD con la diferencia que genera error si el elemento no existe.\n",
        "numeros = {1, 2, 3, 4, 5, 6, 7, 8}\n",
        "numeros.remove(1)\n",
        "\n",
        "print(numeros)"
      ],
      "metadata": {
        "id": "WLLjmXsbUqTB",
        "colab": {
          "base_uri": "https://localhost:8080/"
        },
        "outputId": "0fb872a7-2d57-4834-a2ca-b48b27aecd93"
      },
      "execution_count": 74,
      "outputs": [
        {
          "output_type": "stream",
          "name": "stdout",
          "text": [
            "{2, 3, 4, 5, 6, 7, 8}\n"
          ]
        }
      ]
    },
    {
      "cell_type": "code",
      "source": [
        "# Remover valores que no existen en el set genera una excepción o error\n",
        "numeros = {1, 2, 3, 4, 5, 6, 7, 8, \"Coder\"}\n",
        "print(numeros)\n",
        "\n",
        "numeros.remove(\"Coder\")\n",
        "print(numeros)\n",
        "\n",
        "numeros.remove(444)\n",
        "print(\"Esto no se ejecuta\")"
      ],
      "metadata": {
        "id": "V79Wy5fmU6hy",
        "colab": {
          "base_uri": "https://localhost:8080/",
          "height": 228
        },
        "outputId": "200453a8-d2b9-4f2f-d6bb-8e17ff79d779"
      },
      "execution_count": 75,
      "outputs": [
        {
          "output_type": "stream",
          "name": "stdout",
          "text": [
            "{1, 2, 3, 4, 5, 6, 7, 8, 'Coder'}\n",
            "{1, 2, 3, 4, 5, 6, 7, 8}\n"
          ]
        },
        {
          "output_type": "error",
          "ename": "KeyError",
          "evalue": "444",
          "traceback": [
            "\u001b[0;31m---------------------------------------------------------------------------\u001b[0m",
            "\u001b[0;31mKeyError\u001b[0m                                  Traceback (most recent call last)",
            "\u001b[0;32m<ipython-input-75-711baf8b5a6e>\u001b[0m in \u001b[0;36m<cell line: 8>\u001b[0;34m()\u001b[0m\n\u001b[1;32m      6\u001b[0m \u001b[0mprint\u001b[0m\u001b[0;34m(\u001b[0m\u001b[0mnumeros\u001b[0m\u001b[0;34m)\u001b[0m\u001b[0;34m\u001b[0m\u001b[0;34m\u001b[0m\u001b[0m\n\u001b[1;32m      7\u001b[0m \u001b[0;34m\u001b[0m\u001b[0m\n\u001b[0;32m----> 8\u001b[0;31m \u001b[0mnumeros\u001b[0m\u001b[0;34m.\u001b[0m\u001b[0mremove\u001b[0m\u001b[0;34m(\u001b[0m\u001b[0;36m444\u001b[0m\u001b[0;34m)\u001b[0m\u001b[0;34m\u001b[0m\u001b[0;34m\u001b[0m\u001b[0m\n\u001b[0m\u001b[1;32m      9\u001b[0m \u001b[0mprint\u001b[0m\u001b[0;34m(\u001b[0m\u001b[0;34m\"Esto no se ejecuta\"\u001b[0m\u001b[0;34m)\u001b[0m\u001b[0;34m\u001b[0m\u001b[0;34m\u001b[0m\u001b[0m\n",
            "\u001b[0;31mKeyError\u001b[0m: 444"
          ]
        }
      ]
    },
    {
      "cell_type": "code",
      "source": [
        "# IN\n",
        "# Podemos consultar la existencia de un elemento dentro del set.\n",
        "numeros = {1, 2, 3, 4, 5, 6, 7, 8}\n",
        "2 in numeros"
      ],
      "metadata": {
        "id": "dra-3RN0U9u7",
        "colab": {
          "base_uri": "https://localhost:8080/"
        },
        "outputId": "7e00de17-2c01-4299-93f3-08c7c31eb416"
      },
      "execution_count": 76,
      "outputs": [
        {
          "output_type": "execute_result",
          "data": {
            "text/plain": [
              "True"
            ]
          },
          "metadata": {},
          "execution_count": 76
        }
      ]
    },
    {
      "cell_type": "code",
      "source": [
        "numeros = {1, 2, 3, 4, 5, 6, 7, 8}\n",
        "100 in numeros"
      ],
      "metadata": {
        "id": "3Iz5s90cVrTC",
        "colab": {
          "base_uri": "https://localhost:8080/"
        },
        "outputId": "a129e3a4-170a-4f2e-c3ed-c0a540188ee7"
      },
      "execution_count": 77,
      "outputs": [
        {
          "output_type": "execute_result",
          "data": {
            "text/plain": [
              "False"
            ]
          },
          "metadata": {},
          "execution_count": 77
        }
      ]
    },
    {
      "cell_type": "code",
      "source": [
        "numeros = {1, 2, 3, 4, 5, 6, 7, 8}\n",
        "estado_de_4 = 4 in numeros\n",
        "\n",
        "print(estado_de_4)"
      ],
      "metadata": {
        "id": "9XjHuQSAVsu7",
        "colab": {
          "base_uri": "https://localhost:8080/"
        },
        "outputId": "3990312c-069a-4180-a6c6-56546431adf4"
      },
      "execution_count": 78,
      "outputs": [
        {
          "output_type": "stream",
          "name": "stdout",
          "text": [
            "True\n"
          ]
        }
      ]
    },
    {
      "cell_type": "code",
      "source": [
        "lista_vacia = []\n",
        "print(lista_vacia)"
      ],
      "metadata": {
        "id": "XRGK1fRPcz3I",
        "colab": {
          "base_uri": "https://localhost:8080/"
        },
        "outputId": "54f313eb-d89b-4029-8c09-d3956f4dc31f"
      },
      "execution_count": 79,
      "outputs": [
        {
          "output_type": "stream",
          "name": "stdout",
          "text": [
            "[]\n"
          ]
        }
      ]
    },
    {
      "cell_type": "code",
      "source": [
        "# CLEAR\n",
        "# Elimina todo el contenido del set\n",
        "numeros = {1, 2, 3, 4, 5, 6, 7, 8}\n",
        "numeros.clear()\n",
        "\n",
        "print(numeros)"
      ],
      "metadata": {
        "id": "mWWGCLg1VzEG",
        "colab": {
          "base_uri": "https://localhost:8080/"
        },
        "outputId": "4f05994a-bef3-420a-ddbb-7f8c43000e92"
      },
      "execution_count": 80,
      "outputs": [
        {
          "output_type": "stream",
          "name": "stdout",
          "text": [
            "set()\n"
          ]
        }
      ]
    },
    {
      "cell_type": "code",
      "source": [
        "# POP\n",
        "# Elimina un elemento de forma aleatoria, ya que no contamos con índices\n",
        "# en las colecciones de datos desordenadas.\n",
        "numeros = {1, 2, 3, 4, 5, 6, 7, 8, 9, 10}\n",
        "print(numeros)\n",
        "print(numeros.pop())\n",
        "print(numeros)"
      ],
      "metadata": {
        "id": "7x3h_tR9V29I",
        "colab": {
          "base_uri": "https://localhost:8080/"
        },
        "outputId": "8287b771-9d5b-4f75-8777-bb73dec58023"
      },
      "execution_count": 81,
      "outputs": [
        {
          "output_type": "stream",
          "name": "stdout",
          "text": [
            "{1, 2, 3, 4, 5, 6, 7, 8, 9, 10}\n",
            "1\n",
            "{2, 3, 4, 5, 6, 7, 8, 9, 10}\n"
          ]
        }
      ]
    },
    {
      "cell_type": "code",
      "source": [
        "# No siempre imprime de igual forma ya que trabaja de manera desordenada.\n",
        "# Suele tener un efecto más notorio en local y no en Colab.\n",
        "mi_lista = list(range(10_000, 10_101))\n",
        "mi_set = set(mi_lista)\n",
        "mi_set.update([\"a\", \"b\", \"c\", \"d\"])\n",
        "print(mi_set)"
      ],
      "metadata": {
        "id": "I0dhpfvkXHBA",
        "colab": {
          "base_uri": "https://localhost:8080/"
        },
        "outputId": "e70b0295-06ed-4091-dfcb-39e2a8bb6006"
      },
      "execution_count": 82,
      "outputs": [
        {
          "output_type": "stream",
          "name": "stdout",
          "text": [
            "{'c', 'd', 'b', 'a', 10000, 10001, 10002, 10003, 10004, 10005, 10006, 10007, 10008, 10009, 10010, 10011, 10012, 10013, 10014, 10015, 10016, 10017, 10018, 10019, 10020, 10021, 10022, 10023, 10024, 10025, 10026, 10027, 10028, 10029, 10030, 10031, 10032, 10033, 10034, 10035, 10036, 10037, 10038, 10039, 10040, 10041, 10042, 10043, 10044, 10045, 10046, 10047, 10048, 10049, 10050, 10051, 10052, 10053, 10054, 10055, 10056, 10057, 10058, 10059, 10060, 10061, 10062, 10063, 10064, 10065, 10066, 10067, 10068, 10069, 10070, 10071, 10072, 10073, 10074, 10075, 10076, 10077, 10078, 10079, 10080, 10081, 10082, 10083, 10084, 10085, 10086, 10087, 10088, 10089, 10090, 10091, 10092, 10093, 10094, 10095, 10096, 10097, 10098, 10099, 10100}\n"
          ]
        }
      ]
    },
    {
      "cell_type": "markdown",
      "source": [
        "\n",
        "---\n",
        "\n",
        "# DICT\n",
        "Colección de datos heterogéneos, mutables y desordenados (*), ordenados por una estructura basada en \"llave-valor\" o \"clave-valor\"."
      ],
      "metadata": {
        "id": "mDLjfXpybMgf"
      }
    },
    {
      "cell_type": "markdown",
      "source": [
        "## Intro"
      ],
      "metadata": {
        "id": "JnBq4rYedzsq"
      }
    },
    {
      "cell_type": "code",
      "source": [
        "# Creación\n",
        "colores = {\n",
        "    \"amarillo\": \"yellow\",\n",
        "    \"azul\": \"blue\",\n",
        "    \"rojo\": \"vermelho\",\n",
        "}\n",
        "print(colores)"
      ],
      "metadata": {
        "id": "FnpXL1KnbV__",
        "colab": {
          "base_uri": "https://localhost:8080/"
        },
        "outputId": "e631fb4d-522f-4c6b-aa76-ccda96d88c70"
      },
      "execution_count": 83,
      "outputs": [
        {
          "output_type": "stream",
          "name": "stdout",
          "text": [
            "{'amarillo': 'yellow', 'azul': 'blue', 'rojo': 'vermelho'}\n"
          ]
        }
      ]
    },
    {
      "cell_type": "code",
      "source": [
        "print(type(colores))"
      ],
      "metadata": {
        "id": "QBhOnY-pcVQQ"
      },
      "execution_count": null,
      "outputs": []
    },
    {
      "cell_type": "code",
      "source": [
        "# También lo podemos crear vacío\n",
        "mi_dict = dict()\n",
        "print(mi_dict)"
      ],
      "metadata": {
        "id": "wNIMatcKcXEp"
      },
      "execution_count": null,
      "outputs": []
    },
    {
      "cell_type": "code",
      "source": [
        "nuevo_dict = {}\n",
        "print(type(nuevo_dict))"
      ],
      "metadata": {
        "id": "s_rFP881crb7"
      },
      "execution_count": null,
      "outputs": []
    },
    {
      "cell_type": "code",
      "source": [
        "# Para obtener un valor del diccionario hacemos igual que en la lista pero\n",
        "# escribimos la llave en vez del índice.\n",
        "colores = {\n",
        "    \"amarillo\": \"yellow\",\n",
        "    \"azul\": \"blue\",\n",
        "    \"rojo\": \"vermelho\",\n",
        "}\n",
        "\n",
        "print(colores[\"rojo\"])"
      ],
      "metadata": {
        "id": "tWEzbhRGcwBN"
      },
      "execution_count": null,
      "outputs": []
    },
    {
      "cell_type": "code",
      "source": [
        "# Son mutables\n",
        "colores = {\n",
        "    \"amarillo\": \"yellow\",\n",
        "    \"azul\": \"blue\",\n",
        "    \"rojo\": \"vermelho\",\n",
        "}\n",
        "\n",
        "colores[\"rojo\"] = \"red\"\n",
        "print(colores)"
      ],
      "metadata": {
        "id": "4rAKeUWDdD1_"
      },
      "execution_count": null,
      "outputs": []
    },
    {
      "cell_type": "code",
      "source": [
        "# Permite operaciones en la asignación\n",
        "edades = {\"Juan\": 26, \"Esteban\": 35, \"Maria\": 29}\n",
        "edades[\"Juan\"] += 5 + len(edades)\n",
        "print(edades)"
      ],
      "metadata": {
        "id": "DsW3ZqbwdcKs"
      },
      "execution_count": null,
      "outputs": []
    },
    {
      "cell_type": "code",
      "source": [
        "colores = {\n",
        "    \"amarillo\": \"yellow\",\n",
        "    \"azul\": \"blue\",\n",
        "    \"rojo\": \"vermelho\",\n",
        "    \"rojo\": \"red\"\n",
        "}\n",
        "print(colores)"
      ],
      "metadata": {
        "id": "nYlo9zvA6ZpW"
      },
      "execution_count": null,
      "outputs": []
    },
    {
      "cell_type": "code",
      "source": [
        "colores = {\n",
        "    \"amarillo\": \"red\",\n",
        "    \"azul\": {\n",
        "        11: \"red\",\n",
        "        52: \"blue\"\n",
        "    },\n",
        "    \"rojo\": \"red\"\n",
        "}\n",
        "print(colores[\"azul\"][52])"
      ],
      "metadata": {
        "id": "05VsuhSH6ooV"
      },
      "execution_count": null,
      "outputs": []
    },
    {
      "cell_type": "markdown",
      "source": [
        "## Funciones integradas"
      ],
      "metadata": {
        "id": "IAz2f2Czd17V"
      }
    },
    {
      "cell_type": "code",
      "source": [
        "# ADD\n",
        "# No cuenta con funciones integradas para agregar un par de clave valor,\n",
        "# pero podemos hacerlo de la siguiente manera.\n",
        "numeros = {'uno': 1, 'dos': 2, 'tres': 3, 'cuatro': 4}\n",
        "numeros[\"cinco\"] = 5\n",
        "\n",
        "print(numeros)"
      ],
      "metadata": {
        "id": "1iXW7zwsdtcm"
      },
      "execution_count": null,
      "outputs": []
    },
    {
      "cell_type": "code",
      "source": [
        "numeros[\"cinco\"] = \"five\"\n",
        "print(numeros)"
      ],
      "metadata": {
        "id": "_teuzPCBrVw-"
      },
      "execution_count": null,
      "outputs": []
    },
    {
      "cell_type": "code",
      "source": [
        "# UPDATE\n",
        "# Podemos agregar varios pares de clave-valor uniendo dos diccionarios.\n",
        "numeros = {'uno': 1, 'dos': 2, 'tres': 3, 'cuatro': 4}\n",
        "numeros.update({\"seis\": 6, \"siete\": 7})\n",
        "\n",
        "print(numeros)"
      ],
      "metadata": {
        "id": "8EMTBeUmekFY"
      },
      "execution_count": null,
      "outputs": []
    },
    {
      "cell_type": "code",
      "source": [
        "otro_dict = dict(ocho=8, nueve=9)\n",
        "print(otro_dict)\n",
        "\n",
        "numeros = {'uno': 1, 'dos': 2, 'tres': 3, 'cuatro': 4}\n",
        "numeros.update(otro_dict)\n",
        "print(numeros)"
      ],
      "metadata": {
        "id": "xRKJSUM2fBBl"
      },
      "execution_count": null,
      "outputs": []
    },
    {
      "cell_type": "code",
      "source": [
        "# LEN\n",
        "# Devuelve la cantidad de pares clave-valor.\n",
        "numeros = {'uno': 1, 'dos': 2, 'tres': 3, 'cuatro': 4}\n",
        "\n",
        "print(len(numeros))"
      ],
      "metadata": {
        "id": "X_GxyXw4fM0j"
      },
      "execution_count": null,
      "outputs": []
    },
    {
      "cell_type": "code",
      "source": [
        "# DEL\n",
        "# Para borrar un elemento usamos este nuevo método.\n",
        "numeros = {'uno': 1, 'dos': 2, 'tres': 3, 'cuatro': 4}\n",
        "del numeros[\"dos\"]\n",
        "\n",
        "print(numeros)"
      ],
      "metadata": {
        "id": "J2hLLtKTfWrx"
      },
      "execution_count": null,
      "outputs": []
    },
    {
      "cell_type": "code",
      "source": [
        "# Dispara un error si el elemento no existe\n",
        "numeros = {'uno': 1, 'dos': 2, 'tres': 3, 'cuatro': 4}\n",
        "del numeros[\"cinco\"]"
      ],
      "metadata": {
        "id": "43OXOBB7fj9w"
      },
      "execution_count": null,
      "outputs": []
    },
    {
      "cell_type": "code",
      "source": [
        "# IN\n",
        "# Podemos saber si una clave o llave se encuentra en el diccionario\n",
        "numeros = {'uno': 1, 'dos': 2, 'tres': 3, 'cuatro': 4}\n",
        "\n",
        "print(1 in numeros)\n",
        "print(\"cuatro\" in numeros)"
      ],
      "metadata": {
        "id": "MnVXiXythMTd"
      },
      "execution_count": null,
      "outputs": []
    },
    {
      "cell_type": "code",
      "source": [
        "# CLEAR\n",
        "# Elimina todos los elementos de un diccionario.\n",
        "numeros = {'uno': 1, 'dos': 2, 'tres': 3, 'cuatro': 4}\n",
        "print(numeros)\n",
        "numeros.clear()\n",
        "print(numeros)"
      ],
      "metadata": {
        "id": "X3jJ22NnhEPI"
      },
      "execution_count": null,
      "outputs": []
    },
    {
      "cell_type": "code",
      "source": [
        "numeros = {'uno': 1, 'dos': 2, 'tres': 3, 'cuatro': 4}\n",
        "print(numeros)\n",
        "numeros = {}\n",
        "print(numeros)"
      ],
      "metadata": {
        "id": "Vvlx88LIdtqu"
      },
      "execution_count": null,
      "outputs": []
    },
    {
      "cell_type": "code",
      "source": [
        "numeros = {'uno': 1, 'dos': 2, 'tres': 3, 'cuatro': 4, \"cinco\": 5}"
      ],
      "metadata": {
        "id": "TVqjMTNwstsU"
      },
      "execution_count": null,
      "outputs": []
    }
  ]
}